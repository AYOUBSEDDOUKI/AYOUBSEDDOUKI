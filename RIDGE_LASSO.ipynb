{
  "cells": [
    {
      "cell_type": "markdown",
      "metadata": {
        "id": "view-in-github",
        "colab_type": "text"
      },
      "source": [
        "<a href=\"https://colab.research.google.com/github/AYOUBSEDDOUKI/AYOUBSEDDOUKI/blob/main/RIDGE_LASSO.ipynb\" target=\"_parent\"><img src=\"https://colab.research.google.com/assets/colab-badge.svg\" alt=\"Open In Colab\"/></a>"
      ]
    },
    {
      "cell_type": "code",
      "execution_count": null,
      "metadata": {
        "id": "53gZxG0TRg7m"
      },
      "outputs": [],
      "source": [
        "import numpy as np \n",
        "import matplotlib.pyplot as plt\n",
        "import pandas as pd"
      ]
    },
    {
      "cell_type": "code",
      "execution_count": null,
      "metadata": {
        "id": "-9dzLWB7fg2q"
      },
      "outputs": [],
      "source": [
        "import sklearn.datasets as dts"
      ]
    },
    {
      "cell_type": "code",
      "execution_count": null,
      "metadata": {
        "id": "_bc71gcDf2sS"
      },
      "outputs": [],
      "source": [
        "data = dts.load_diabetes()"
      ]
    },
    {
      "cell_type": "code",
      "execution_count": null,
      "metadata": {
        "id": "lYirh47UgF2O",
        "colab": {
          "base_uri": "https://localhost:8080/"
        },
        "outputId": "c93c4358-7717-4024-b027-1ec0c2f75686"
      },
      "outputs": [
        {
          "output_type": "execute_result",
          "data": {
            "text/plain": [
              "array([151.,  75., 141., 206., 135.,  97., 138.,  63., 110., 310., 101.,\n",
              "        69., 179., 185., 118., 171., 166., 144.,  97., 168.,  68.,  49.,\n",
              "        68., 245., 184., 202., 137.,  85., 131., 283., 129.,  59., 341.,\n",
              "        87.,  65., 102., 265., 276., 252.,  90., 100.,  55.,  61.,  92.,\n",
              "       259.,  53., 190., 142.,  75., 142., 155., 225.,  59., 104., 182.,\n",
              "       128.,  52.,  37., 170., 170.,  61., 144.,  52., 128.,  71., 163.,\n",
              "       150.,  97., 160., 178.,  48., 270., 202., 111.,  85.,  42., 170.,\n",
              "       200., 252., 113., 143.,  51.,  52., 210.,  65., 141.,  55., 134.,\n",
              "        42., 111.,  98., 164.,  48.,  96.,  90., 162., 150., 279.,  92.,\n",
              "        83., 128., 102., 302., 198.,  95.,  53., 134., 144., 232.,  81.,\n",
              "       104.,  59., 246., 297., 258., 229., 275., 281., 179., 200., 200.,\n",
              "       173., 180.,  84., 121., 161.,  99., 109., 115., 268., 274., 158.,\n",
              "       107.,  83., 103., 272.,  85., 280., 336., 281., 118., 317., 235.,\n",
              "        60., 174., 259., 178., 128.,  96., 126., 288.,  88., 292.,  71.,\n",
              "       197., 186.,  25.,  84.,  96., 195.,  53., 217., 172., 131., 214.,\n",
              "        59.,  70., 220., 268., 152.,  47.,  74., 295., 101., 151., 127.,\n",
              "       237., 225.,  81., 151., 107.,  64., 138., 185., 265., 101., 137.,\n",
              "       143., 141.,  79., 292., 178.,  91., 116.,  86., 122.,  72., 129.,\n",
              "       142.,  90., 158.,  39., 196., 222., 277.,  99., 196., 202., 155.,\n",
              "        77., 191.,  70.,  73.,  49.,  65., 263., 248., 296., 214., 185.,\n",
              "        78.,  93., 252., 150.,  77., 208.,  77., 108., 160.,  53., 220.,\n",
              "       154., 259.,  90., 246., 124.,  67.,  72., 257., 262., 275., 177.,\n",
              "        71.,  47., 187., 125.,  78.,  51., 258., 215., 303., 243.,  91.,\n",
              "       150., 310., 153., 346.,  63.,  89.,  50.,  39., 103., 308., 116.,\n",
              "       145.,  74.,  45., 115., 264.,  87., 202., 127., 182., 241.,  66.,\n",
              "        94., 283.,  64., 102., 200., 265.,  94., 230., 181., 156., 233.,\n",
              "        60., 219.,  80.,  68., 332., 248.,  84., 200.,  55.,  85.,  89.,\n",
              "        31., 129.,  83., 275.,  65., 198., 236., 253., 124.,  44., 172.,\n",
              "       114., 142., 109., 180., 144., 163., 147.,  97., 220., 190., 109.,\n",
              "       191., 122., 230., 242., 248., 249., 192., 131., 237.,  78., 135.,\n",
              "       244., 199., 270., 164.,  72.,  96., 306.,  91., 214.,  95., 216.,\n",
              "       263., 178., 113., 200., 139., 139.,  88., 148.,  88., 243.,  71.,\n",
              "        77., 109., 272.,  60.,  54., 221.,  90., 311., 281., 182., 321.,\n",
              "        58., 262., 206., 233., 242., 123., 167.,  63., 197.,  71., 168.,\n",
              "       140., 217., 121., 235., 245.,  40.,  52., 104., 132.,  88.,  69.,\n",
              "       219.,  72., 201., 110.,  51., 277.,  63., 118.,  69., 273., 258.,\n",
              "        43., 198., 242., 232., 175.,  93., 168., 275., 293., 281.,  72.,\n",
              "       140., 189., 181., 209., 136., 261., 113., 131., 174., 257.,  55.,\n",
              "        84.,  42., 146., 212., 233.,  91., 111., 152., 120.,  67., 310.,\n",
              "        94., 183.,  66., 173.,  72.,  49.,  64.,  48., 178., 104., 132.,\n",
              "       220.,  57.])"
            ]
          },
          "metadata": {},
          "execution_count": 4
        }
      ],
      "source": [
        "data.target"
      ]
    },
    {
      "cell_type": "code",
      "source": [
        "Y = pd.DataFrame(data.target,columns=[\"MEDV\"])\n",
        "Y=Y[\"MEDV\"]\n",
        "Y = (Y - np.mean(Y))/np.std(Y)\n",
        "Y = Y.to_numpy()"
      ],
      "metadata": {
        "id": "UM4hN3i2hTZo"
      },
      "execution_count": null,
      "outputs": []
    },
    {
      "cell_type": "code",
      "source": [
        "# redimensionner y\n",
        "Y = Y.reshape(Y.shape[0], 1)"
      ],
      "metadata": {
        "id": "CQP4l7APhsnl"
      },
      "execution_count": null,
      "outputs": []
    },
    {
      "cell_type": "code",
      "source": [
        "Y.shape"
      ],
      "metadata": {
        "colab": {
          "base_uri": "https://localhost:8080/"
        },
        "id": "QIIwOYSFh6iY",
        "outputId": "2700ead9-14ba-4217-dcc5-d5557f3408dd"
      },
      "execution_count": null,
      "outputs": [
        {
          "output_type": "execute_result",
          "data": {
            "text/plain": [
              "(442, 1)"
            ]
          },
          "metadata": {},
          "execution_count": 7
        }
      ]
    },
    {
      "cell_type": "code",
      "execution_count": null,
      "metadata": {
        "id": "Ms7q4oB1gMq9"
      },
      "outputs": [],
      "source": [
        "data.data\n",
        "X = pd.DataFrame(data.data ,columns=data.feature_names)\n",
        "one = np.ones(Y.shape) \n",
        "X.insert(10,'one',one)\n",
        "X=X.to_numpy()"
      ]
    },
    {
      "cell_type": "code",
      "source": [
        "print(\"le type de X est : \",type(X))\n",
        "print(\"le type de Y est : \",type(Y))"
      ],
      "metadata": {
        "id": "Mu7tnkEMW3u5",
        "colab": {
          "base_uri": "https://localhost:8080/"
        },
        "outputId": "d5045772-01e0-435d-bbfc-4775df4a09ac"
      },
      "execution_count": null,
      "outputs": [
        {
          "output_type": "stream",
          "name": "stdout",
          "text": [
            "le type de X est :  <class 'numpy.ndarray'>\n",
            "le type de Y est :  <class 'numpy.ndarray'>\n"
          ]
        }
      ]
    },
    {
      "cell_type": "code",
      "execution_count": null,
      "metadata": {
        "id": "xa1kjoS0hQBW"
      },
      "outputs": [],
      "source": [
        "from sklearn.model_selection import train_test_split as tts"
      ]
    },
    {
      "cell_type": "code",
      "execution_count": null,
      "metadata": {
        "id": "8UEOgRkyhRrK"
      },
      "outputs": [],
      "source": [
        "#repartie la base de donnees\n",
        "Xtrain,Xtest,Ytrain,Ytest=tts(X,Y,test_size=20,random_state=40)"
      ]
    },
    {
      "cell_type": "code",
      "execution_count": null,
      "metadata": {
        "id": "Hw9pqDm-hhfU",
        "colab": {
          "base_uri": "https://localhost:8080/"
        },
        "outputId": "4024afd6-f622-4bfe-8837-cf0de1c0fecf"
      },
      "outputs": [
        {
          "output_type": "execute_result",
          "data": {
            "text/plain": [
              "(422, 11)"
            ]
          },
          "metadata": {},
          "execution_count": 12
        }
      ],
      "source": [
        "Xtrain.shape"
      ]
    },
    {
      "cell_type": "code",
      "execution_count": null,
      "metadata": {
        "id": "Iihsuhfbhyul",
        "colab": {
          "base_uri": "https://localhost:8080/"
        },
        "outputId": "d922d835-1df1-47d8-b434-58af8c093f88"
      },
      "outputs": [
        {
          "output_type": "execute_result",
          "data": {
            "text/plain": [
              "(422, 1)"
            ]
          },
          "metadata": {},
          "execution_count": 13
        }
      ],
      "source": [
        "Ytrain.shape"
      ]
    },
    {
      "cell_type": "code",
      "execution_count": null,
      "metadata": {
        "id": "-4sC8HeSktR3"
      },
      "outputs": [],
      "source": [
        "l = 1.2067926406393288"
      ]
    },
    {
      "cell_type": "code",
      "execution_count": null,
      "metadata": {
        "id": "fn422r55iDSh"
      },
      "outputs": [],
      "source": [
        "Q1 = Xtrain.T.dot(Xtrain)\n",
        "Q2 = l * np.identity(n=11)\n",
        "Q3 = (Q1 + Q2)\n",
        "Q4 = np.linalg.inv(Q3)\n",
        "Q5 = Q4.dot(Xtrain.T)\n",
        "Q6 = Q5.dot(Ytrain)\n"
      ]
    },
    {
      "cell_type": "code",
      "execution_count": null,
      "metadata": {
        "colab": {
          "base_uri": "https://localhost:8080/"
        },
        "id": "UDo8_dp0jk-p",
        "outputId": "2f33de94-393c-481d-be98-c406bdf78d7c"
      },
      "outputs": [
        {
          "output_type": "execute_result",
          "data": {
            "text/plain": [
              "array([[ 0.55437969],\n",
              "       [-0.91359994],\n",
              "       [ 3.63176252],\n",
              "       [ 2.60431718],\n",
              "       [ 0.01785916],\n",
              "       [-0.35372154],\n",
              "       [-1.94603499],\n",
              "       [ 1.45745928],\n",
              "       [ 3.10831709],\n",
              "       [ 1.32070255],\n",
              "       [-0.00414764]])"
            ]
          },
          "metadata": {},
          "execution_count": 16
        }
      ],
      "source": [
        "Q6"
      ]
    },
    {
      "cell_type": "code",
      "execution_count": null,
      "metadata": {
        "colab": {
          "base_uri": "https://localhost:8080/"
        },
        "id": "fsEtoZVTl3N5",
        "outputId": "67e2227f-c8a7-482c-f6a4-27ca40c8ad8f"
      },
      "outputs": [
        {
          "output_type": "stream",
          "name": "stdout",
          "text": [
            "(11, 1)\n",
            "(442, 11)\n"
          ]
        }
      ],
      "source": [
        "print(Q6.shape)\n",
        "print(X.shape)\n"
      ]
    },
    {
      "cell_type": "code",
      "execution_count": null,
      "metadata": {
        "id": "a2bFUTAfma61"
      },
      "outputs": [],
      "source": [
        "predict = X.dot(Q6)"
      ]
    },
    {
      "cell_type": "code",
      "execution_count": null,
      "metadata": {
        "id": "mprOnv2gmk1D"
      },
      "outputs": [],
      "source": [
        "predict"
      ]
    },
    {
      "cell_type": "code",
      "execution_count": null,
      "metadata": {
        "colab": {
          "base_uri": "https://localhost:8080/"
        },
        "id": "SO6Y6ahnsmmc",
        "outputId": "8ab67cfc-c65b-4b53-8458-7faf7cfa76ff"
      },
      "outputs": [
        {
          "output_type": "execute_result",
          "data": {
            "text/plain": [
              "(11, 1)"
            ]
          },
          "metadata": {},
          "execution_count": 20
        }
      ],
      "source": [
        "np.random.seed(0) # pour produire toujours le meme vecteur theta aléatoire\n",
        "theta = np.random.randn(11, 1)\n",
        "theta.shape"
      ]
    },
    {
      "cell_type": "code",
      "execution_count": null,
      "metadata": {
        "id": "iNPU1gDRs3iF"
      },
      "outputs": [],
      "source": [
        "def model(X, theta):\n",
        "    return X.dot(theta)"
      ]
    },
    {
      "cell_type": "code",
      "execution_count": null,
      "metadata": {
        "id": "Tz3wXJ3Ss7cS"
      },
      "outputs": [],
      "source": [
        "def cost_function(X, y, theta):\n",
        "    m=y.shape[0]\n",
        "    return (np.sum((model(X, theta) - y)**2))/m    "
      ]
    },
    {
      "cell_type": "code",
      "execution_count": null,
      "metadata": {
        "id": "8YTg-ctXtDVY"
      },
      "outputs": [],
      "source": [
        "def grad(X, y, theta,lamda):\n",
        "  return ((X.T.dot(model(X, theta) - y)) + lamda*theta)"
      ]
    },
    {
      "cell_type": "code",
      "source": [
        "def gradL(X, y, theta,lamda):\n",
        "  return ((X.T.dot(model(X, theta) - y)) + lamda)"
      ],
      "metadata": {
        "id": "wqfw4_n1zwBQ"
      },
      "execution_count": null,
      "outputs": []
    },
    {
      "cell_type": "code",
      "execution_count": null,
      "metadata": {
        "id": "VJM0ZBXruxKP"
      },
      "outputs": [],
      "source": [
        "from numpy.core.numeric import array_equal\n",
        "def gradient_descent(X, y, theta, learning_rate, n_iterations,lamda):  \n",
        "    for i in range(0, n_iterations):\n",
        "        theta = theta - learning_rate * grad(X, y, theta,lamda)  \n",
        "    return theta"
      ]
    },
    {
      "cell_type": "code",
      "source": [
        "from numpy.core.numeric import array_equal\n",
        "def gradient_descentL(X, y, theta, learning_rate, n_iterations,lamda):  \n",
        "    for i in range(0, n_iterations):\n",
        "        theta = theta - learning_rate * gradL(X, y, theta,lamda)  \n",
        "    return theta"
      ],
      "metadata": {
        "id": "LYZ2JUyp0AcF"
      },
      "execution_count": null,
      "outputs": []
    },
    {
      "cell_type": "code",
      "execution_count": null,
      "metadata": {
        "id": "SUt367FRvMXs"
      },
      "outputs": [],
      "source": [
        "lamdas = np.logspace(-4,4,50)\n",
        "n_iterations = 10000\n",
        "learning_rate = 0.001"
      ]
    },
    {
      "cell_type": "code",
      "execution_count": null,
      "metadata": {
        "colab": {
          "base_uri": "https://localhost:8080/"
        },
        "id": "aJ-s8p8Y2n6m",
        "outputId": "17cadc60-87fd-4404-e94a-b8257809d88d"
      },
      "outputs": [
        {
          "output_type": "stream",
          "name": "stdout",
          "text": [
            "(422, 11)\n",
            "(422, 1)\n",
            "(11, 1)\n",
            "(50,)\n"
          ]
        }
      ],
      "source": [
        "print(Xtrain.shape)\n",
        "print(Ytrain.shape)\n",
        "print(theta.shape)\n",
        "print(lamdas.shape)"
      ]
    },
    {
      "cell_type": "code",
      "execution_count": null,
      "metadata": {
        "id": "XEKCI7C_wkEc",
        "colab": {
          "base_uri": "https://localhost:8080/"
        },
        "outputId": "4dcacd3c-e0eb-447f-f76c-5bef6fc4a058"
      },
      "outputs": [
        {
          "output_type": "stream",
          "name": "stderr",
          "text": [
            "/usr/local/lib/python3.7/dist-packages/ipykernel_launcher.py:2: RuntimeWarning: overflow encountered in multiply\n",
            "  \n",
            "/usr/local/lib/python3.7/dist-packages/ipykernel_launcher.py:4: RuntimeWarning: invalid value encountered in subtract\n",
            "  after removing the cwd from sys.path.\n"
          ]
        }
      ],
      "source": [
        "# création d'un tableau de stockage pour enregistrer l'évolution du Cout du modele\n",
        "cost_history=[]\n",
        "wsR=[]\n",
        "emin=10000\n",
        "w_optR=[]\n",
        "l_minR=0\n",
        "for l in lamdas:\n",
        "  w = gradient_descent(Xtrain, Ytrain, theta, learning_rate, n_iterations,l)\n",
        "  e = cost_function(Xtest, Ytest, w)\n",
        "  cost_history.append(e)\n",
        "  wsR.append(w)\n",
        "  if(e<emin):\n",
        "    emin = e\n",
        "    w_optR=w\n",
        "    l_minR=l"
      ]
    },
    {
      "cell_type": "code",
      "source": [
        "# création d'un tableau de stockage pour enregistrer l'évolution du Cout du modele\n",
        "cost_historyL=[]\n",
        "wsL=[]\n",
        "eminL=10000\n",
        "w_optL=[]\n",
        "l_minL=0\n",
        "for l in lamdas:\n",
        "  w = gradient_descentL(Xtrain, Ytrain, theta, learning_rate, n_iterations,l)\n",
        "  e = cost_function(Xtest, Ytest, w)\n",
        "  cost_historyL.append(e)\n",
        "  wsL.append(w)\n",
        "  if(e<eminL):\n",
        "    eminL = e\n",
        "    w_optL=w\n",
        "    l_minL=l"
      ],
      "metadata": {
        "id": "WvHeBIjC0oxw"
      },
      "execution_count": null,
      "outputs": []
    },
    {
      "cell_type": "code",
      "execution_count": null,
      "metadata": {
        "colab": {
          "base_uri": "https://localhost:8080/"
        },
        "id": "iumFEeOJbu-9",
        "outputId": "c133ff68-2cef-4eb3-9f50-c0178958ac40"
      },
      "outputs": [
        {
          "output_type": "execute_result",
          "data": {
            "text/plain": [
              "array([[ 0.55437974],\n",
              "       [-0.91359991],\n",
              "       [ 3.63176271],\n",
              "       [ 2.60431721],\n",
              "       [ 0.01786551],\n",
              "       [-0.3537274 ],\n",
              "       [-1.94603684],\n",
              "       [ 1.4574601 ],\n",
              "       [ 3.10831426],\n",
              "       [ 1.32070254],\n",
              "       [-0.00414764]])"
            ]
          },
          "metadata": {},
          "execution_count": 31
        }
      ],
      "source": [
        "w_optR"
      ]
    },
    {
      "cell_type": "code",
      "source": [
        "print(cost_function(Xtest, Ytest, w_optR))\n",
        "print(l_minR)"
      ],
      "metadata": {
        "colab": {
          "base_uri": "https://localhost:8080/"
        },
        "id": "b1gkAkX1x6SG",
        "outputId": "6709bb40-ca49-4504-d25e-2efa3d4d3f33"
      },
      "execution_count": null,
      "outputs": [
        {
          "output_type": "stream",
          "name": "stdout",
          "text": [
            "1.0227491819299617\n",
            "1.2067926406393288\n"
          ]
        }
      ]
    },
    {
      "cell_type": "code",
      "source": [
        "import matplotlib.pyplot as ppt\n",
        "f = ppt.gca()\n",
        "f.plot(lamdas,cost_history)\n",
        "f.set_xscale('log')"
      ],
      "metadata": {
        "colab": {
          "base_uri": "https://localhost:8080/",
          "height": 269
        },
        "id": "J28lmghMc7lH",
        "outputId": "8b3efa5c-280c-46e7-f24e-3dd915191040"
      },
      "execution_count": null,
      "outputs": [
        {
          "output_type": "display_data",
          "data": {
            "text/plain": [
              "<Figure size 432x288 with 1 Axes>"
            ],
            "image/png": "[encoded data removed]"
          },
          "metadata": {
            "needs_background": "light"
          }
        }
      ]
    },
    {
      "cell_type": "code",
      "source": [
        "f = ppt.gca()\n",
        "f.plot(lamdas,cost_historyL)\n",
        "f.set_xscale('log')"
      ],
      "metadata": {
        "colab": {
          "base_uri": "https://localhost:8080/",
          "height": 280
        },
        "id": "h4t-geKynG56",
        "outputId": "d8371282-a5bc-4c80-ef62-adbfaba80736"
      },
      "execution_count": null,
      "outputs": [
        {
          "output_type": "display_data",
          "data": {
            "text/plain": [
              "<Figure size 432x288 with 1 Axes>"
            ],
            "image/png": "[encoded data removed]"
          },
          "metadata": {
            "needs_background": "light"
          }
        }
      ]
    },
    {
      "cell_type": "code",
      "source": [
        "lamdas=lamdas.reshape(50,1)\n",
        "#wsR\n",
        "#type(wsR) est une liste"
      ],
      "metadata": {
        "id": "qRHPQyAFdZkd"
      },
      "execution_count": null,
      "outputs": []
    },
    {
      "cell_type": "code",
      "source": [
        "wsR1=[np.array([  0.14926966,  -3.32924262,   6.68299074,   4.70650073,\n",
        "        -11.45246821,   6.70418489,   1.46790632,   2.51395827,\n",
        "          9.96900528,   0.57289346]),\n",
        " np.array([  0.14960668,  -3.32866464,   6.68342373,   4.70611773,\n",
        "        -11.39440116,   6.6582561 ,   1.44217572,   2.50667459,\n",
        "          9.94703206,   0.57312651]),\n",
        " np.array([  0.15009199,  -3.32782977,   6.68404157,   4.70556416,\n",
        "        -11.31094201,   6.5922439 ,   1.40519897,   2.4962122 ,\n",
        "          9.91544405,   0.57346433]),\n",
        " np.array([  0.15078737,  -3.32662812,   6.684915  ,   4.70476665,\n",
        "        -11.19168703,   6.4979205 ,   1.35237445,   2.48127577,\n",
        "          9.87029504,   0.57395305]),\n",
        " np.array([  0.15177674,  -3.32490718,   6.68613303,   4.703623  ,\n",
        "        -11.02270054,   6.36426589,   1.27754536,   2.46013823,\n",
        "          9.8062913 ,   0.57465807]),\n",
        " np.array([  0.15317051,  -3.32245957,   6.68779805,   4.70199334,\n",
        "        -10.78605562,   6.17710612,   1.17280636,   2.43059469,\n",
        "          9.71660655,   0.57567127]),\n",
        " np.array([  0.15510734,  -3.3190109 ,   6.69000801,   4.69969084,\n",
        "        -10.4600871 ,   5.91931648,   1.0286348 ,   2.39001568,\n",
        "          9.5929563 ,   0.57711998]),\n",
        " np.array([  0.15774978,  -3.31421063,   6.6928147 ,   4.69647343,\n",
        "        -10.02113773,   5.57220884,   0.83469824,   2.33560403,\n",
        "          9.42622043,   0.57917815]),\n",
        " np.array([ 0.1612697 , -3.30762929,  6.69614409,  4.69203791, -9.44773744,\n",
        "         5.11884908,  0.58176163,  2.26497981,  9.20796131,  0.58207979]),\n",
        " np.array([ 0.16582172, -3.29876108,  6.6996686 ,  4.68601554, -8.72770744,\n",
        "         4.54969809,  0.2649151 ,  2.17715651,  8.93301747,  0.58613651]),\n",
        " np.array([ 0.17151121, -3.28701991,  6.70263802,  4.67796033, -7.86705331,\n",
        "         3.86968576, -0.11238835,  2.07375224,  8.60274653,  0.59176329]),\n",
        " np.array([ 0.17837667, -3.27169867,  6.70370347,  4.66731009, -6.89685117,\n",
        "         3.10372852, -0.53519446,  1.95991946,  8.22750089,  0.59952082]),\n",
        " np.array([ 0.18641474, -3.25184949,  6.70078547,  4.653292  , -5.87265346,\n",
        "         2.29638223, -0.97727709,  1.84424111,  7.82629816,  0.61018446]),\n",
        " np.array([ 0.19566338, -3.22605752,  6.69100588,  4.63475284, -4.86340093,\n",
        "         1.50327819, -1.40610946,  1.73714919,  7.42256982,  0.62484332]),\n",
        " np.array([ 0.20632474, -3.19212387,  6.67062687,  4.6099207 , -3.93352701,\n",
        "         0.77729178, -1.79094704,  1.64830045,  7.03737403,  0.64501573]),\n",
        " np.array([ 0.21888045, -3.14671568,  6.63488814,  4.57613327, -3.12724052,\n",
        "         0.15656114, -2.10999381,  1.58407832,  6.68343594,  0.6727423 ]),\n",
        " np.array([ 0.23415548, -3.08505476,  6.57767955,  4.52958017, -2.46219476,\n",
        "        -0.3400067 , -2.35336226,  1.54625831,  6.36271443,  0.71058608]),\n",
        " np.array([ 0.25330953, -3.00072472,  6.49111853,  4.46511888, -1.93289123,\n",
        "        -0.70965127, -2.52153845,  1.53211375,  6.0676438 ,  0.76142651]),\n",
        " np.array([ 0.2777376 , -2.88573596,  6.36524606,  4.37625824, -1.51907332,\n",
        "        -0.95913984, -2.62134173,  1.53561773,  5.78435005,  0.82788221]),\n",
        " np.array([ 0.30882881, -2.73111551,  6.18817231,  4.25546075, -1.19417269,\n",
        "        -1.09882497, -2.66162605,  1.54916167,  5.49617662,  0.91118551]),\n",
        " np.array([ 0.34749042, -2.52841792,  5.94709008,  4.09494661, -0.93143691,\n",
        "        -1.13947854, -2.65013009,  1.56513821,  5.18688479,  1.00947383]),\n",
        " np.array([ 0.39336214, -2.27249446,  5.63056016,  3.88810789, -0.70771977,\n",
        "        -1.09203803, -2.59202952,  1.57679991,  4.84360681,  1.11589256]),\n",
        " np.array([ 0.44381664, -1.96531176,  5.23214181,  3.63138827, -0.50590382,\n",
        "        -0.96940975, -2.49014124,  1.57815156,  4.45950822,  1.2175671 ]),\n",
        " np.array([ 0.4932025 , -1.61943848,  4.75456645,  3.32610832, -0.31669892,\n",
        "        -0.78901174, -2.34630135,  1.56318031,  4.03553021,  1.2968636 ]),\n",
        " np.array([ 0.5331273 , -1.25865859,  4.21251042,  2.97948791, -0.13963047,\n",
        "        -0.57433459, -2.16320645,  1.52522257,  3.58034597,  1.33557436]),\n",
        " np.array([ 0.55438184, -0.91359829,  3.63176338,  2.60431652,  0.01785963,\n",
        "        -0.35372163, -1.94603447,  1.45746022,  3.10831719,  1.32070215]),\n",
        " np.array([ 0.55008238, -0.6131729 ,  3.04429553,  2.21728445,  0.14413542,\n",
        "        -0.15560343, -1.70337351,  1.35507935,  2.6364035 ,  1.2489925 ]),\n",
        " np.array([ 5.18465287e-01, -3.76074020e-01,  2.48143590e+00,  1.83652727e+00,\n",
        "         2.29212109e-01, -1.68839615e-03, -1.44718050e+00,  1.21835777e+00,\n",
        "         2.18150530e+00,  1.12797281e+00]),\n",
        " np.array([ 0.46371356, -0.2068611 ,  1.96837548,  1.47908578,  0.27000931,\n",
        "         0.09839086, -1.19160963,  1.05466412,  1.7589098 ,  0.97339213]),\n",
        " np.array([ 0.39438581, -0.097943  ,  1.52156199,  1.15872908,  0.27205637,\n",
        "         0.14785376, -0.95081026,  0.87749428,  1.38124477,  0.80456414]),\n",
        " np.array([ 0.32040787, -0.03511731,  1.14847167,  0.88436039,  0.24696741,\n",
        "         0.15875918, -0.736317  ,  0.70260699,  1.05720498,  0.63947988]),\n",
        " np.array([ 0.25019865, -0.00322881,  0.84873813,  0.65930839,  0.20780815,\n",
        "         0.14595184, -0.55508544,  0.54342217,  0.79035411,  0.49127201]),\n",
        " np.array([ 0.18909525,  0.01024444,  0.61609815,  0.48179233,  0.16525871,\n",
        "         0.12223321, -0.4089997 ,  0.40812249,  0.57893709,  0.36690948]),\n",
        " np.array([ 0.13927015,  0.01400528,  0.44078235,  0.34639677,  0.12603356,\n",
        "         0.09625672, -0.29583284,  0.2993287 ,  0.41704015,  0.26794396]),\n",
        " np.array([ 0.10057099,  0.01333231,  0.31181141,  0.24591759,  0.09321768,\n",
        "         0.07267274, -0.21092448,  0.21554973,  0.29650311,  0.19233044]),\n",
        " np.array([ 0.07157046,  0.01106581,  0.21870745,  0.1729274 ,  0.06743775,\n",
        "         0.05328847, -0.14877095,  0.15310569,  0.20872423,  0.13629488]),\n",
        " np.array([ 0.05039437,  0.00855634,  0.15244786,  0.12075312,  0.0480242 ,\n",
        "         0.03829038, -0.10410578,  0.10766811,  0.14586337,  0.09568712]),\n",
        " np.array([ 0.03521558,  0.00634664,  0.10578514,  0.08389666,  0.03382095,\n",
        "         0.02712922, -0.07243742,  0.07517351,  0.10139892,  0.06673024]),\n",
        " np.array([ 0.02447716,  0.0045869 ,  0.0731712 ,  0.05808147,  0.02363357,\n",
        "         0.01903511, -0.05019967,  0.05221983,  0.07022562,  0.04631674]),\n",
        " np.array([ 0.01694956,  0.0032598 ,  0.05049869,  0.04010874,  0.01642549,\n",
        "         0.01326634, -0.03469043,  0.03614584,  0.04850819,  0.03204157]),\n",
        " np.array([ 0.01170636,  0.00229105,  0.03479679,  0.02764895,  0.011373  ,\n",
        "         0.00920303, -0.02392552,  0.02495758,  0.03344543,  0.022115  ]),\n",
        " np.array([ 0.00807049,  0.00159824,  0.0239511 ,  0.0190366 ,  0.00785423,\n",
        "         0.00636388, -0.01647852,  0.01720278,  0.02303055,  0.0152393 ]),\n",
        " np.array([ 0.00555692,  0.00110934,  0.01647345,  0.01309586,  0.00541445,\n",
        "         0.00439094, -0.01133871,  0.01184342,  0.01584485,  0.01048968]),\n",
        " np.array([ 0.00382291,  0.00076737,  0.01132446,  0.00900381,  0.00372794,\n",
        "         0.00302507, -0.00779695,  0.00814703,  0.0108945 ,  0.00721486]),\n",
        " np.array([ 0.00262843,  0.00052958,  0.00778207,  0.00618791,  0.00256457,\n",
        "         0.00208191, -0.00535908,  0.00560112,  0.00748762,  0.00495981]),\n",
        " np.array([ 0.00180643,  0.0003649 ,  0.00534645,  0.0042515 ,  0.00176322,\n",
        "         0.00143179, -0.00368232,  0.0038493 ,  0.00514464,  0.00340836]),\n",
        " np.array([ 0.00124115,  0.00025115,  0.0036725 ,  0.00292051,  0.00121178,\n",
        "         0.00098419, -0.00252964,  0.00264467,  0.0035341 ,  0.00234163]),\n",
        " np.array([ 0.0008526 ,  0.00017274,  0.00252237,  0.00200594,  0.00083257,\n",
        "         0.0006763 , -0.00173754,  0.0018167 ,  0.00242742,  0.00160848]),\n",
        " np.array([ 0.0005856 ,  0.00011874,  0.00173228,  0.00137765,  0.00057192,\n",
        "         0.00046461, -0.00119334,  0.00124778,  0.00166713,  0.00110474]),\n",
        " np.array([ 4.02184774e-04,  8.15959975e-05,  1.18961443e-03,  9.46086217e-04,\n",
        "         3.92820585e-04,  3.19137484e-04, -8.19530321e-04,  8.56948918e-04,\n",
        "         1.14489329e-03,  7.58706228e-04])]\n",
        "         "
      ],
      "metadata": {
        "id": "uOce9isMibZ8"
      },
      "execution_count": null,
      "outputs": []
    },
    {
      "cell_type": "code",
      "source": [
        "type(wsR1)"
      ],
      "metadata": {
        "colab": {
          "base_uri": "https://localhost:8080/"
        },
        "id": "bzhdPP0pkytS",
        "outputId": "0c2f6aaa-0439-4aae-b96e-a7ca50ec9e5e"
      },
      "execution_count": null,
      "outputs": [
        {
          "output_type": "execute_result",
          "data": {
            "text/plain": [
              "list"
            ]
          },
          "metadata": {},
          "execution_count": 49
        }
      ]
    },
    {
      "cell_type": "code",
      "source": [
        "f = ppt.gca()\n",
        "f.plot(lamdas,wsR1)\n",
        "f.set_xscale('log')"
      ],
      "metadata": {
        "colab": {
          "base_uri": "https://localhost:8080/",
          "height": 269
        },
        "id": "df2r5byqkG3j",
        "outputId": "9641a0b3-c764-448b-cc3f-ed7a17146698"
      },
      "execution_count": null,
      "outputs": [
        {
          "output_type": "display_data",
          "data": {
            "text/plain": [
              "<Figure size 432x288 with 1 Axes>"
            ],
            "image/png": "[encoded data removed]"
          },
          "metadata": {
            "needs_background": "light"
          }
        }
      ]
    },
    {
      "cell_type": "code",
      "source": [
        "w_optL"
      ],
      "metadata": {
        "colab": {
          "base_uri": "https://localhost:8080/"
        },
        "id": "6Fd7ciGS_h0P",
        "outputId": "e494fa45-048b-4277-be62-8ff46ff1efb6"
      },
      "execution_count": null,
      "outputs": [
        {
          "output_type": "execute_result",
          "data": {
            "text/plain": [
              "array([[ 2.09933221e-01],\n",
              "       [-3.26688539e+00],\n",
              "       [ 6.84564837e+00],\n",
              "       [ 4.68283791e+00],\n",
              "       [-4.99778125e-01],\n",
              "       [-2.24781689e+00],\n",
              "       [-3.11075473e+00],\n",
              "       [ 1.63152248e+00],\n",
              "       [ 5.72368763e+00],\n",
              "       [ 5.90422747e-01],\n",
              "       [-3.68058473e-03]])"
            ]
          },
          "metadata": {},
          "execution_count": 38
        }
      ]
    },
    {
      "cell_type": "code",
      "source": [
        "print(cost_function(Xtest, Ytest, w_optL))\n",
        "print(l_minL)"
      ],
      "metadata": {
        "colab": {
          "base_uri": "https://localhost:8080/"
        },
        "id": "CNPAGyw9_jDM",
        "outputId": "6accf427-c1b1-4e91-8e79-c2c80c7baf51"
      },
      "execution_count": null,
      "outputs": [
        {
          "output_type": "stream",
          "name": "stdout",
          "text": [
            "1.1220597663737129\n",
            "0.0001\n"
          ]
        }
      ]
    }
  ],
  "metadata": {
    "colab": {
      "collapsed_sections": [],
      "name": "RIDGE_LASSO.ipynb",
      "provenance": [],
      "authorship_tag": "ABX9TyM2lQfLU9amim89dbr8oh5b",
      "include_colab_link": true
    },
    "kernelspec": {
      "display_name": "Python 3",
      "name": "python3"
    },
    "language_info": {
      "name": "python"
    },
    "accelerator": "GPU"
  },
  "nbformat": 4,
  "nbformat_minor": 0
}