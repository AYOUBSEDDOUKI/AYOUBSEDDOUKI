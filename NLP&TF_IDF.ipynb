{
  "cells": [
    {
      "cell_type": "markdown",
      "metadata": {
        "id": "view-in-github",
        "colab_type": "text"
      },
      "source": [
        "<a href=\"https://colab.research.google.com/github/AYOUBSEDDOUKI/AYOUBSEDDOUKI/blob/main/NLP%26TF_IDF.ipynb\" target=\"_parent\"><img src=\"https://colab.research.google.com/assets/colab-badge.svg\" alt=\"Open In Colab\"/></a>"
      ]
    },
    {
      "cell_type": "code",
      "execution_count": null,
      "metadata": {
        "colab": {
          "base_uri": "https://localhost:8080/"
        },
        "id": "trlgYb7anlN0",
        "outputId": "84c8d4b9-4d10-415f-fbcc-9b219f33d70f"
      },
      "outputs": [
        {
          "output_type": "stream",
          "name": "stdout",
          "text": [
            "CPU times: user 3 µs, sys: 0 ns, total: 3 µs\n",
            "Wall time: 5.72 µs\n",
            "Python version: 3.7.13 (default, Mar 16 2022, 17:37:17) \n",
            "[GCC 7.5.0]\n",
            "Version info.: sys.version_info(major=3, minor=7, micro=13, releaselevel='final', serial=0)\n",
            "pandas version: 1.3.5\n",
            "numpy version: 1.21.5\n",
            "skearn version: 1.0.2\n",
            "re version: 2.2.1\n",
            "nltk version: 3.2.5\n"
          ]
        }
      ],
      "source": [
        "%time\n",
        "import os\n",
        "import sys\n",
        "import warnings\n",
        "if not sys.warnoptions:\n",
        "    warnings.simplefilter(\"ignore\")\n",
        "    \n",
        "import numpy as np\n",
        "import pandas as pd\n",
        "import sklearn\n",
        "\n",
        "# Libraries and packages for text (pre-)processing \n",
        "import string\n",
        "import re\n",
        "import nltk\n",
        "\n",
        "print(\"Python version:\", sys.version)\n",
        "print(\"Version info.:\", sys.version_info)\n",
        "print(\"pandas version:\", pd.__version__)\n",
        "print(\"numpy version:\", np.__version__)\n",
        "print(\"skearn version:\", sklearn.__version__)\n",
        "print(\"re version:\", re.__version__)\n",
        "print(\"nltk version:\", nltk.__version__)\n",
        "\n",
        "for dirname, _, filenames in os.walk('/kaggle/input'):\n",
        "    for filename in filenames:\n",
        "        print(os.path.join(dirname, filename))"
      ]
    },
    {
      "cell_type": "code",
      "source": [
        "%time\n",
        "\n",
        "# read the csv file\n",
        "train_df = pd.read_csv(\"/content/SPAM text message 20170820 - Data.csv\")\n",
        "display(train_df.shape, train_df.head())"
      ],
      "metadata": {
        "colab": {
          "base_uri": "https://localhost:8080/",
          "height": 258
        },
        "id": "WZ73_mCUd3qb",
        "outputId": "c74d227a-89d4-4b6f-8836-e9d6ba3a0555"
      },
      "execution_count": null,
      "outputs": [
        {
          "output_type": "stream",
          "name": "stdout",
          "text": [
            "CPU times: user 2 µs, sys: 1 µs, total: 3 µs\n",
            "Wall time: 6.2 µs\n"
          ]
        },
        {
          "output_type": "display_data",
          "data": {
            "text/plain": [
              "(5572, 2)"
            ]
          },
          "metadata": {}
        },
        {
          "output_type": "display_data",
          "data": {
            "text/plain": [
              "  Category                                            Message\n",
              "0      ham  Go until jurong point, crazy.. Available only ...\n",
              "1      ham                      Ok lar... Joking wif u oni...\n",
              "2     spam  Free entry in 2 a wkly comp to win FA Cup fina...\n",
              "3      ham  U dun say so early hor... U c already then say...\n",
              "4      ham  Nah I don't think he goes to usf, he lives aro..."
            ],
            "text/html": [
              "\n",
              "  <div id=\"df-16098689-e34c-445e-98be-57a68bea6768\">\n",
              "    <div class=\"colab-df-container\">\n",
              "      <div>\n",
              "<style scoped>\n",
              "    .dataframe tbody tr th:only-of-type {\n",
              "        vertical-align: middle;\n",
              "    }\n",
              "\n",
              "    .dataframe tbody tr th {\n",
              "        vertical-align: top;\n",
              "    }\n",
              "\n",
              "    .dataframe thead th {\n",
              "        text-align: right;\n",
              "    }\n",
              "</style>\n",
              "<table border=\"1\" class=\"dataframe\">\n",
              "  <thead>\n",
              "    <tr style=\"text-align: right;\">\n",
              "      <th></th>\n",
              "      <th>Category</th>\n",
              "      <th>Message</th>\n",
              "    </tr>\n",
              "  </thead>\n",
              "  <tbody>\n",
              "    <tr>\n",
              "      <th>0</th>\n",
              "      <td>ham</td>\n",
              "      <td>Go until jurong point, crazy.. Available only ...</td>\n",
              "    </tr>\n",
              "    <tr>\n",
              "      <th>1</th>\n",
              "      <td>ham</td>\n",
              "      <td>Ok lar... Joking wif u oni...</td>\n",
              "    </tr>\n",
              "    <tr>\n",
              "      <th>2</th>\n",
              "      <td>spam</td>\n",
              "      <td>Free entry in 2 a wkly comp to win FA Cup fina...</td>\n",
              "    </tr>\n",
              "    <tr>\n",
              "      <th>3</th>\n",
              "      <td>ham</td>\n",
              "      <td>U dun say so early hor... U c already then say...</td>\n",
              "    </tr>\n",
              "    <tr>\n",
              "      <th>4</th>\n",
              "      <td>ham</td>\n",
              "      <td>Nah I don't think he goes to usf, he lives aro...</td>\n",
              "    </tr>\n",
              "  </tbody>\n",
              "</table>\n",
              "</div>\n",
              "      <button class=\"colab-df-convert\" onclick=\"convertToInteractive('df-16098689-e34c-445e-98be-57a68bea6768')\"\n",
              "              title=\"Convert this dataframe to an interactive table.\"\n",
              "              style=\"display:none;\">\n",
              "        \n",
              "  <svg xmlns=\"http://www.w3.org/2000/svg\" height=\"24px\"viewBox=\"0 0 24 24\"\n",
              "       width=\"24px\">\n",
              "    <path d=\"M0 0h24v24H0V0z\" fill=\"none\"/>\n",
              "    <path d=\"M18.56 5.44l.94 2.06.94-2.06 2.06-.94-2.06-.94-.94-2.06-.94 2.06-2.06.94zm-11 1L8.5 8.5l.94-2.06 2.06-.94-2.06-.94L8.5 2.5l-.94 2.06-2.06.94zm10 10l.94 2.06.94-2.06 2.06-.94-2.06-.94-.94-2.06-.94 2.06-2.06.94z\"/><path d=\"M17.41 7.96l-1.37-1.37c-.4-.4-.92-.59-1.43-.59-.52 0-1.04.2-1.43.59L10.3 9.45l-7.72 7.72c-.78.78-.78 2.05 0 2.83L4 21.41c.39.39.9.59 1.41.59.51 0 1.02-.2 1.41-.59l7.78-7.78 2.81-2.81c.8-.78.8-2.07 0-2.86zM5.41 20L4 18.59l7.72-7.72 1.47 1.35L5.41 20z\"/>\n",
              "  </svg>\n",
              "      </button>\n",
              "      \n",
              "  <style>\n",
              "    .colab-df-container {\n",
              "      display:flex;\n",
              "      flex-wrap:wrap;\n",
              "      gap: 12px;\n",
              "    }\n",
              "\n",
              "    .colab-df-convert {\n",
              "      background-color: #E8F0FE;\n",
              "      border: none;\n",
              "      border-radius: 50%;\n",
              "      cursor: pointer;\n",
              "      display: none;\n",
              "      fill: #1967D2;\n",
              "      height: 32px;\n",
              "      padding: 0 0 0 0;\n",
              "      width: 32px;\n",
              "    }\n",
              "\n",
              "    .colab-df-convert:hover {\n",
              "      background-color: #E2EBFA;\n",
              "      box-shadow: 0px 1px 2px rgba(60, 64, 67, 0.3), 0px 1px 3px 1px rgba(60, 64, 67, 0.15);\n",
              "      fill: #174EA6;\n",
              "    }\n",
              "\n",
              "    [theme=dark] .colab-df-convert {\n",
              "      background-color: #3B4455;\n",
              "      fill: #D2E3FC;\n",
              "    }\n",
              "\n",
              "    [theme=dark] .colab-df-convert:hover {\n",
              "      background-color: #434B5C;\n",
              "      box-shadow: 0px 1px 3px 1px rgba(0, 0, 0, 0.15);\n",
              "      filter: drop-shadow(0px 1px 2px rgba(0, 0, 0, 0.3));\n",
              "      fill: #FFFFFF;\n",
              "    }\n",
              "  </style>\n",
              "\n",
              "      <script>\n",
              "        const buttonEl =\n",
              "          document.querySelector('#df-16098689-e34c-445e-98be-57a68bea6768 button.colab-df-convert');\n",
              "        buttonEl.style.display =\n",
              "          google.colab.kernel.accessAllowed ? 'block' : 'none';\n",
              "\n",
              "        async function convertToInteractive(key) {\n",
              "          const element = document.querySelector('#df-16098689-e34c-445e-98be-57a68bea6768');\n",
              "          const dataTable =\n",
              "            await google.colab.kernel.invokeFunction('convertToInteractive',\n",
              "                                                     [key], {});\n",
              "          if (!dataTable) return;\n",
              "\n",
              "          const docLinkHtml = 'Like what you see? Visit the ' +\n",
              "            '<a target=\"_blank\" href=https://colab.research.google.com/notebooks/data_table.ipynb>data table notebook</a>'\n",
              "            + ' to learn more about interactive tables.';\n",
              "          element.innerHTML = '';\n",
              "          dataTable['output_type'] = 'display_data';\n",
              "          await google.colab.output.renderOutput(dataTable, element);\n",
              "          const docLink = document.createElement('div');\n",
              "          docLink.innerHTML = docLinkHtml;\n",
              "          element.appendChild(docLink);\n",
              "        }\n",
              "      </script>\n",
              "    </div>\n",
              "  </div>\n",
              "  "
            ]
          },
          "metadata": {}
        }
      ]
    },
    {
      "cell_type": "code",
      "source": [
        "display(train_df[~train_df[\"Message\"].isnull()].head())\n",
        "display(train_df[train_df[\"Category\"] == \"ham\"][\"Message\"].values[1])\n",
        "display(train_df[train_df[\"Category\"] == \"spam\"][\"Message\"].values[1])"
      ],
      "metadata": {
        "colab": {
          "base_uri": "https://localhost:8080/",
          "height": 242
        },
        "id": "hJDilIMEeG9p",
        "outputId": "3d09b8de-82fd-4aab-8012-707fc786653c"
      },
      "execution_count": null,
      "outputs": [
        {
          "output_type": "display_data",
          "data": {
            "text/plain": [
              "  Category                                            Message\n",
              "0      ham  Go until jurong point, crazy.. Available only ...\n",
              "1      ham                      Ok lar... Joking wif u oni...\n",
              "2     spam  Free entry in 2 a wkly comp to win FA Cup fina...\n",
              "3      ham  U dun say so early hor... U c already then say...\n",
              "4      ham  Nah I don't think he goes to usf, he lives aro..."
            ],
            "text/html": [
              "\n",
              "  <div id=\"df-7a44643e-3849-446c-8737-7bc3909d7026\">\n",
              "    <div class=\"colab-df-container\">\n",
              "      <div>\n",
              "<style scoped>\n",
              "    .dataframe tbody tr th:only-of-type {\n",
              "        vertical-align: middle;\n",
              "    }\n",
              "\n",
              "    .dataframe tbody tr th {\n",
              "        vertical-align: top;\n",
              "    }\n",
              "\n",
              "    .dataframe thead th {\n",
              "        text-align: right;\n",
              "    }\n",
              "</style>\n",
              "<table border=\"1\" class=\"dataframe\">\n",
              "  <thead>\n",
              "    <tr style=\"text-align: right;\">\n",
              "      <th></th>\n",
              "      <th>Category</th>\n",
              "      <th>Message</th>\n",
              "    </tr>\n",
              "  </thead>\n",
              "  <tbody>\n",
              "    <tr>\n",
              "      <th>0</th>\n",
              "      <td>ham</td>\n",
              "      <td>Go until jurong point, crazy.. Available only ...</td>\n",
              "    </tr>\n",
              "    <tr>\n",
              "      <th>1</th>\n",
              "      <td>ham</td>\n",
              "      <td>Ok lar... Joking wif u oni...</td>\n",
              "    </tr>\n",
              "    <tr>\n",
              "      <th>2</th>\n",
              "      <td>spam</td>\n",
              "      <td>Free entry in 2 a wkly comp to win FA Cup fina...</td>\n",
              "    </tr>\n",
              "    <tr>\n",
              "      <th>3</th>\n",
              "      <td>ham</td>\n",
              "      <td>U dun say so early hor... U c already then say...</td>\n",
              "    </tr>\n",
              "    <tr>\n",
              "      <th>4</th>\n",
              "      <td>ham</td>\n",
              "      <td>Nah I don't think he goes to usf, he lives aro...</td>\n",
              "    </tr>\n",
              "  </tbody>\n",
              "</table>\n",
              "</div>\n",
              "      <button class=\"colab-df-convert\" onclick=\"convertToInteractive('df-7a44643e-3849-446c-8737-7bc3909d7026')\"\n",
              "              title=\"Convert this dataframe to an interactive table.\"\n",
              "              style=\"display:none;\">\n",
              "        \n",
              "  <svg xmlns=\"http://www.w3.org/2000/svg\" height=\"24px\"viewBox=\"0 0 24 24\"\n",
              "       width=\"24px\">\n",
              "    <path d=\"M0 0h24v24H0V0z\" fill=\"none\"/>\n",
              "    <path d=\"M18.56 5.44l.94 2.06.94-2.06 2.06-.94-2.06-.94-.94-2.06-.94 2.06-2.06.94zm-11 1L8.5 8.5l.94-2.06 2.06-.94-2.06-.94L8.5 2.5l-.94 2.06-2.06.94zm10 10l.94 2.06.94-2.06 2.06-.94-2.06-.94-.94-2.06-.94 2.06-2.06.94z\"/><path d=\"M17.41 7.96l-1.37-1.37c-.4-.4-.92-.59-1.43-.59-.52 0-1.04.2-1.43.59L10.3 9.45l-7.72 7.72c-.78.78-.78 2.05 0 2.83L4 21.41c.39.39.9.59 1.41.59.51 0 1.02-.2 1.41-.59l7.78-7.78 2.81-2.81c.8-.78.8-2.07 0-2.86zM5.41 20L4 18.59l7.72-7.72 1.47 1.35L5.41 20z\"/>\n",
              "  </svg>\n",
              "      </button>\n",
              "      \n",
              "  <style>\n",
              "    .colab-df-container {\n",
              "      display:flex;\n",
              "      flex-wrap:wrap;\n",
              "      gap: 12px;\n",
              "    }\n",
              "\n",
              "    .colab-df-convert {\n",
              "      background-color: #E8F0FE;\n",
              "      border: none;\n",
              "      border-radius: 50%;\n",
              "      cursor: pointer;\n",
              "      display: none;\n",
              "      fill: #1967D2;\n",
              "      height: 32px;\n",
              "      padding: 0 0 0 0;\n",
              "      width: 32px;\n",
              "    }\n",
              "\n",
              "    .colab-df-convert:hover {\n",
              "      background-color: #E2EBFA;\n",
              "      box-shadow: 0px 1px 2px rgba(60, 64, 67, 0.3), 0px 1px 3px 1px rgba(60, 64, 67, 0.15);\n",
              "      fill: #174EA6;\n",
              "    }\n",
              "\n",
              "    [theme=dark] .colab-df-convert {\n",
              "      background-color: #3B4455;\n",
              "      fill: #D2E3FC;\n",
              "    }\n",
              "\n",
              "    [theme=dark] .colab-df-convert:hover {\n",
              "      background-color: #434B5C;\n",
              "      box-shadow: 0px 1px 3px 1px rgba(0, 0, 0, 0.15);\n",
              "      filter: drop-shadow(0px 1px 2px rgba(0, 0, 0, 0.3));\n",
              "      fill: #FFFFFF;\n",
              "    }\n",
              "  </style>\n",
              "\n",
              "      <script>\n",
              "        const buttonEl =\n",
              "          document.querySelector('#df-7a44643e-3849-446c-8737-7bc3909d7026 button.colab-df-convert');\n",
              "        buttonEl.style.display =\n",
              "          google.colab.kernel.accessAllowed ? 'block' : 'none';\n",
              "\n",
              "        async function convertToInteractive(key) {\n",
              "          const element = document.querySelector('#df-7a44643e-3849-446c-8737-7bc3909d7026');\n",
              "          const dataTable =\n",
              "            await google.colab.kernel.invokeFunction('convertToInteractive',\n",
              "                                                     [key], {});\n",
              "          if (!dataTable) return;\n",
              "\n",
              "          const docLinkHtml = 'Like what you see? Visit the ' +\n",
              "            '<a target=\"_blank\" href=https://colab.research.google.com/notebooks/data_table.ipynb>data table notebook</a>'\n",
              "            + ' to learn more about interactive tables.';\n",
              "          element.innerHTML = '';\n",
              "          dataTable['output_type'] = 'display_data';\n",
              "          await google.colab.output.renderOutput(dataTable, element);\n",
              "          const docLink = document.createElement('div');\n",
              "          docLink.innerHTML = docLinkHtml;\n",
              "          element.appendChild(docLink);\n",
              "        }\n",
              "      </script>\n",
              "    </div>\n",
              "  </div>\n",
              "  "
            ]
          },
          "metadata": {}
        },
        {
          "output_type": "display_data",
          "data": {
            "text/plain": [
              "'Ok lar... Joking wif u oni...'"
            ],
            "application/vnd.google.colaboratory.intrinsic+json": {
              "type": "string"
            }
          },
          "metadata": {}
        },
        {
          "output_type": "display_data",
          "data": {
            "text/plain": [
              "\"FreeMsg Hey there darling it's been 3 week's now and no word back! I'd like some fun you up for it still? Tb ok! XxX std chgs to send, £1.50 to rcv\""
            ],
            "application/vnd.google.colaboratory.intrinsic+json": {
              "type": "string"
            }
          },
          "metadata": {}
        }
      ]
    },
    {
      "cell_type": "code",
      "source": [
        "# tronsformer les message en miniscule\n",
        "train_df[\"message_clean\"] = train_df[\"Message\"].apply(lambda x: x.lower())\n",
        "display(train_df.head())"
      ],
      "metadata": {
        "colab": {
          "base_uri": "https://localhost:8080/",
          "height": 206
        },
        "id": "z54tsA3Se2nC",
        "outputId": "a0b0238b-89f1-42f7-fcb6-521251a0d936"
      },
      "execution_count": null,
      "outputs": [
        {
          "output_type": "display_data",
          "data": {
            "text/plain": [
              "  Category                                            Message  \\\n",
              "0      ham  Go until jurong point, crazy.. Available only ...   \n",
              "1      ham                      Ok lar... Joking wif u oni...   \n",
              "2     spam  Free entry in 2 a wkly comp to win FA Cup fina...   \n",
              "3      ham  U dun say so early hor... U c already then say...   \n",
              "4      ham  Nah I don't think he goes to usf, he lives aro...   \n",
              "\n",
              "                                       message_clean  \n",
              "0  go until jurong point, crazy.. available only ...  \n",
              "1                      ok lar... joking wif u oni...  \n",
              "2  free entry in 2 a wkly comp to win fa cup fina...  \n",
              "3  u dun say so early hor... u c already then say...  \n",
              "4  nah i don't think he goes to usf, he lives aro...  "
            ],
            "text/html": [
              "\n",
              "  <div id=\"df-23c6b8b3-4aeb-4029-8961-5de2948aa697\">\n",
              "    <div class=\"colab-df-container\">\n",
              "      <div>\n",
              "<style scoped>\n",
              "    .dataframe tbody tr th:only-of-type {\n",
              "        vertical-align: middle;\n",
              "    }\n",
              "\n",
              "    .dataframe tbody tr th {\n",
              "        vertical-align: top;\n",
              "    }\n",
              "\n",
              "    .dataframe thead th {\n",
              "        text-align: right;\n",
              "    }\n",
              "</style>\n",
              "<table border=\"1\" class=\"dataframe\">\n",
              "  <thead>\n",
              "    <tr style=\"text-align: right;\">\n",
              "      <th></th>\n",
              "      <th>Category</th>\n",
              "      <th>Message</th>\n",
              "      <th>message_clean</th>\n",
              "    </tr>\n",
              "  </thead>\n",
              "  <tbody>\n",
              "    <tr>\n",
              "      <th>0</th>\n",
              "      <td>ham</td>\n",
              "      <td>Go until jurong point, crazy.. Available only ...</td>\n",
              "      <td>go until jurong point, crazy.. available only ...</td>\n",
              "    </tr>\n",
              "    <tr>\n",
              "      <th>1</th>\n",
              "      <td>ham</td>\n",
              "      <td>Ok lar... Joking wif u oni...</td>\n",
              "      <td>ok lar... joking wif u oni...</td>\n",
              "    </tr>\n",
              "    <tr>\n",
              "      <th>2</th>\n",
              "      <td>spam</td>\n",
              "      <td>Free entry in 2 a wkly comp to win FA Cup fina...</td>\n",
              "      <td>free entry in 2 a wkly comp to win fa cup fina...</td>\n",
              "    </tr>\n",
              "    <tr>\n",
              "      <th>3</th>\n",
              "      <td>ham</td>\n",
              "      <td>U dun say so early hor... U c already then say...</td>\n",
              "      <td>u dun say so early hor... u c already then say...</td>\n",
              "    </tr>\n",
              "    <tr>\n",
              "      <th>4</th>\n",
              "      <td>ham</td>\n",
              "      <td>Nah I don't think he goes to usf, he lives aro...</td>\n",
              "      <td>nah i don't think he goes to usf, he lives aro...</td>\n",
              "    </tr>\n",
              "  </tbody>\n",
              "</table>\n",
              "</div>\n",
              "      <button class=\"colab-df-convert\" onclick=\"convertToInteractive('df-23c6b8b3-4aeb-4029-8961-5de2948aa697')\"\n",
              "              title=\"Convert this dataframe to an interactive table.\"\n",
              "              style=\"display:none;\">\n",
              "        \n",
              "  <svg xmlns=\"http://www.w3.org/2000/svg\" height=\"24px\"viewBox=\"0 0 24 24\"\n",
              "       width=\"24px\">\n",
              "    <path d=\"M0 0h24v24H0V0z\" fill=\"none\"/>\n",
              "    <path d=\"M18.56 5.44l.94 2.06.94-2.06 2.06-.94-2.06-.94-.94-2.06-.94 2.06-2.06.94zm-11 1L8.5 8.5l.94-2.06 2.06-.94-2.06-.94L8.5 2.5l-.94 2.06-2.06.94zm10 10l.94 2.06.94-2.06 2.06-.94-2.06-.94-.94-2.06-.94 2.06-2.06.94z\"/><path d=\"M17.41 7.96l-1.37-1.37c-.4-.4-.92-.59-1.43-.59-.52 0-1.04.2-1.43.59L10.3 9.45l-7.72 7.72c-.78.78-.78 2.05 0 2.83L4 21.41c.39.39.9.59 1.41.59.51 0 1.02-.2 1.41-.59l7.78-7.78 2.81-2.81c.8-.78.8-2.07 0-2.86zM5.41 20L4 18.59l7.72-7.72 1.47 1.35L5.41 20z\"/>\n",
              "  </svg>\n",
              "      </button>\n",
              "      \n",
              "  <style>\n",
              "    .colab-df-container {\n",
              "      display:flex;\n",
              "      flex-wrap:wrap;\n",
              "      gap: 12px;\n",
              "    }\n",
              "\n",
              "    .colab-df-convert {\n",
              "      background-color: #E8F0FE;\n",
              "      border: none;\n",
              "      border-radius: 50%;\n",
              "      cursor: pointer;\n",
              "      display: none;\n",
              "      fill: #1967D2;\n",
              "      height: 32px;\n",
              "      padding: 0 0 0 0;\n",
              "      width: 32px;\n",
              "    }\n",
              "\n",
              "    .colab-df-convert:hover {\n",
              "      background-color: #E2EBFA;\n",
              "      box-shadow: 0px 1px 2px rgba(60, 64, 67, 0.3), 0px 1px 3px 1px rgba(60, 64, 67, 0.15);\n",
              "      fill: #174EA6;\n",
              "    }\n",
              "\n",
              "    [theme=dark] .colab-df-convert {\n",
              "      background-color: #3B4455;\n",
              "      fill: #D2E3FC;\n",
              "    }\n",
              "\n",
              "    [theme=dark] .colab-df-convert:hover {\n",
              "      background-color: #434B5C;\n",
              "      box-shadow: 0px 1px 3px 1px rgba(0, 0, 0, 0.15);\n",
              "      filter: drop-shadow(0px 1px 2px rgba(0, 0, 0, 0.3));\n",
              "      fill: #FFFFFF;\n",
              "    }\n",
              "  </style>\n",
              "\n",
              "      <script>\n",
              "        const buttonEl =\n",
              "          document.querySelector('#df-23c6b8b3-4aeb-4029-8961-5de2948aa697 button.colab-df-convert');\n",
              "        buttonEl.style.display =\n",
              "          google.colab.kernel.accessAllowed ? 'block' : 'none';\n",
              "\n",
              "        async function convertToInteractive(key) {\n",
              "          const element = document.querySelector('#df-23c6b8b3-4aeb-4029-8961-5de2948aa697');\n",
              "          const dataTable =\n",
              "            await google.colab.kernel.invokeFunction('convertToInteractive',\n",
              "                                                     [key], {});\n",
              "          if (!dataTable) return;\n",
              "\n",
              "          const docLinkHtml = 'Like what you see? Visit the ' +\n",
              "            '<a target=\"_blank\" href=https://colab.research.google.com/notebooks/data_table.ipynb>data table notebook</a>'\n",
              "            + ' to learn more about interactive tables.';\n",
              "          element.innerHTML = '';\n",
              "          dataTable['output_type'] = 'display_data';\n",
              "          await google.colab.output.renderOutput(dataTable, element);\n",
              "          const docLink = document.createElement('div');\n",
              "          docLink.innerHTML = docLinkHtml;\n",
              "          element.appendChild(docLink);\n",
              "        }\n",
              "      </script>\n",
              "    </div>\n",
              "  </div>\n",
              "  "
            ]
          },
          "metadata": {}
        }
      ]
    },
    {
      "cell_type": "code",
      "source": [
        "!pip install contractions"
      ],
      "metadata": {
        "colab": {
          "base_uri": "https://localhost:8080/"
        },
        "id": "0Iafxb3xfIE8",
        "outputId": "f0af0a97-6bc7-4e8a-a4b0-6ec34bd103ac"
      },
      "execution_count": null,
      "outputs": [
        {
          "output_type": "stream",
          "name": "stdout",
          "text": [
            "Collecting contractions\n",
            "  Downloading contractions-0.1.68-py2.py3-none-any.whl (8.1 kB)\n",
            "Collecting textsearch>=0.0.21\n",
            "  Downloading textsearch-0.0.21-py2.py3-none-any.whl (7.5 kB)\n",
            "Collecting pyahocorasick\n",
            "  Downloading pyahocorasick-1.4.4-cp37-cp37m-manylinux_2_17_x86_64.manylinux2014_x86_64.whl (106 kB)\n",
            "\u001b[K     |████████████████████████████████| 106 kB 11.5 MB/s \n",
            "\u001b[?25hCollecting anyascii\n",
            "  Downloading anyascii-0.3.1-py3-none-any.whl (287 kB)\n",
            "\u001b[K     |████████████████████████████████| 287 kB 49.0 MB/s \n",
            "\u001b[?25hInstalling collected packages: pyahocorasick, anyascii, textsearch, contractions\n",
            "Successfully installed anyascii-0.3.1 contractions-0.1.68 pyahocorasick-1.4.4 textsearch-0.0.21\n"
          ]
        }
      ]
    },
    {
      "cell_type": "code",
      "source": [
        "%time\n",
        "import contractions\n",
        "\n",
        "# Test\n",
        "test_text = \"\"\"\n",
        "            Y'all can't expand contractions I'd think. I'd like to know how I'd done that! \n",
        "            We're going to the zoo and I don't think I'll be home for dinner.\n",
        "            Theyre going to the zoo and she'll be home for dinner.\n",
        "            We should've do it in here but we shouldn't've eat it\n",
        "            \"\"\"\n",
        "print(\"Test: \", contractions.fix(test_text))\n",
        "\n",
        "# eleminer les \"short form\"\n",
        "train_df[\"message_clean\"] = train_df[\"message_clean\"].apply(lambda x: contractions.fix(x))\n",
        "display(train_df.head())\n"
      ],
      "metadata": {
        "id": "tgSh9aM2fK79"
      },
      "execution_count": null,
      "outputs": []
    },
    {
      "cell_type": "code",
      "source": [
        "# supprimer les liens hypertext\n",
        "def remove_URL(text):\n",
        "    \"\"\"\n",
        "        Remove URLs from a sample string\n",
        "    \"\"\"\n",
        "    return re.sub(r\"https?://\\S+|www\\.\\S+\", \"\", text)"
      ],
      "metadata": {
        "id": "w9bJmDxMf92W"
      },
      "execution_count": null,
      "outputs": []
    },
    {
      "cell_type": "code",
      "source": [
        "train_df[\"message_clean\"] = train_df[\"message_clean\"].apply(lambda x: remove_URL(x))\n",
        "display(train_df.head())"
      ],
      "metadata": {
        "colab": {
          "base_uri": "https://localhost:8080/",
          "height": 206
        },
        "id": "ISkNOFfogChr",
        "outputId": "cbcc2e62-7a6f-4a33-bc2b-3a8998fea029"
      },
      "execution_count": null,
      "outputs": [
        {
          "output_type": "display_data",
          "data": {
            "text/plain": [
              "  Category                                            Message  \\\n",
              "0      ham  Go until jurong point, crazy.. Available only ...   \n",
              "1      ham                      Ok lar... Joking wif u oni...   \n",
              "2     spam  Free entry in 2 a wkly comp to win FA Cup fina...   \n",
              "3      ham  U dun say so early hor... U c already then say...   \n",
              "4      ham  Nah I don't think he goes to usf, he lives aro...   \n",
              "\n",
              "                                       message_clean  \n",
              "0  go until jurong point, crazy.. available only ...  \n",
              "1                    ok lar... joking wif you oni...  \n",
              "2  free entry in 2 a wkly comp to win fa cup fina...  \n",
              "3  you dun say so early hor... you c already then...  \n",
              "4  nah i do not think he goes to usf, he lives ar...  "
            ],
            "text/html": [
              "\n",
              "  <div id=\"df-33800f34-8402-4184-b29b-4403ce2fe02c\">\n",
              "    <div class=\"colab-df-container\">\n",
              "      <div>\n",
              "<style scoped>\n",
              "    .dataframe tbody tr th:only-of-type {\n",
              "        vertical-align: middle;\n",
              "    }\n",
              "\n",
              "    .dataframe tbody tr th {\n",
              "        vertical-align: top;\n",
              "    }\n",
              "\n",
              "    .dataframe thead th {\n",
              "        text-align: right;\n",
              "    }\n",
              "</style>\n",
              "<table border=\"1\" class=\"dataframe\">\n",
              "  <thead>\n",
              "    <tr style=\"text-align: right;\">\n",
              "      <th></th>\n",
              "      <th>Category</th>\n",
              "      <th>Message</th>\n",
              "      <th>message_clean</th>\n",
              "    </tr>\n",
              "  </thead>\n",
              "  <tbody>\n",
              "    <tr>\n",
              "      <th>0</th>\n",
              "      <td>ham</td>\n",
              "      <td>Go until jurong point, crazy.. Available only ...</td>\n",
              "      <td>go until jurong point, crazy.. available only ...</td>\n",
              "    </tr>\n",
              "    <tr>\n",
              "      <th>1</th>\n",
              "      <td>ham</td>\n",
              "      <td>Ok lar... Joking wif u oni...</td>\n",
              "      <td>ok lar... joking wif you oni...</td>\n",
              "    </tr>\n",
              "    <tr>\n",
              "      <th>2</th>\n",
              "      <td>spam</td>\n",
              "      <td>Free entry in 2 a wkly comp to win FA Cup fina...</td>\n",
              "      <td>free entry in 2 a wkly comp to win fa cup fina...</td>\n",
              "    </tr>\n",
              "    <tr>\n",
              "      <th>3</th>\n",
              "      <td>ham</td>\n",
              "      <td>U dun say so early hor... U c already then say...</td>\n",
              "      <td>you dun say so early hor... you c already then...</td>\n",
              "    </tr>\n",
              "    <tr>\n",
              "      <th>4</th>\n",
              "      <td>ham</td>\n",
              "      <td>Nah I don't think he goes to usf, he lives aro...</td>\n",
              "      <td>nah i do not think he goes to usf, he lives ar...</td>\n",
              "    </tr>\n",
              "  </tbody>\n",
              "</table>\n",
              "</div>\n",
              "      <button class=\"colab-df-convert\" onclick=\"convertToInteractive('df-33800f34-8402-4184-b29b-4403ce2fe02c')\"\n",
              "              title=\"Convert this dataframe to an interactive table.\"\n",
              "              style=\"display:none;\">\n",
              "        \n",
              "  <svg xmlns=\"http://www.w3.org/2000/svg\" height=\"24px\"viewBox=\"0 0 24 24\"\n",
              "       width=\"24px\">\n",
              "    <path d=\"M0 0h24v24H0V0z\" fill=\"none\"/>\n",
              "    <path d=\"M18.56 5.44l.94 2.06.94-2.06 2.06-.94-2.06-.94-.94-2.06-.94 2.06-2.06.94zm-11 1L8.5 8.5l.94-2.06 2.06-.94-2.06-.94L8.5 2.5l-.94 2.06-2.06.94zm10 10l.94 2.06.94-2.06 2.06-.94-2.06-.94-.94-2.06-.94 2.06-2.06.94z\"/><path d=\"M17.41 7.96l-1.37-1.37c-.4-.4-.92-.59-1.43-.59-.52 0-1.04.2-1.43.59L10.3 9.45l-7.72 7.72c-.78.78-.78 2.05 0 2.83L4 21.41c.39.39.9.59 1.41.59.51 0 1.02-.2 1.41-.59l7.78-7.78 2.81-2.81c.8-.78.8-2.07 0-2.86zM5.41 20L4 18.59l7.72-7.72 1.47 1.35L5.41 20z\"/>\n",
              "  </svg>\n",
              "      </button>\n",
              "      \n",
              "  <style>\n",
              "    .colab-df-container {\n",
              "      display:flex;\n",
              "      flex-wrap:wrap;\n",
              "      gap: 12px;\n",
              "    }\n",
              "\n",
              "    .colab-df-convert {\n",
              "      background-color: #E8F0FE;\n",
              "      border: none;\n",
              "      border-radius: 50%;\n",
              "      cursor: pointer;\n",
              "      display: none;\n",
              "      fill: #1967D2;\n",
              "      height: 32px;\n",
              "      padding: 0 0 0 0;\n",
              "      width: 32px;\n",
              "    }\n",
              "\n",
              "    .colab-df-convert:hover {\n",
              "      background-color: #E2EBFA;\n",
              "      box-shadow: 0px 1px 2px rgba(60, 64, 67, 0.3), 0px 1px 3px 1px rgba(60, 64, 67, 0.15);\n",
              "      fill: #174EA6;\n",
              "    }\n",
              "\n",
              "    [theme=dark] .colab-df-convert {\n",
              "      background-color: #3B4455;\n",
              "      fill: #D2E3FC;\n",
              "    }\n",
              "\n",
              "    [theme=dark] .colab-df-convert:hover {\n",
              "      background-color: #434B5C;\n",
              "      box-shadow: 0px 1px 3px 1px rgba(0, 0, 0, 0.15);\n",
              "      filter: drop-shadow(0px 1px 2px rgba(0, 0, 0, 0.3));\n",
              "      fill: #FFFFFF;\n",
              "    }\n",
              "  </style>\n",
              "\n",
              "      <script>\n",
              "        const buttonEl =\n",
              "          document.querySelector('#df-33800f34-8402-4184-b29b-4403ce2fe02c button.colab-df-convert');\n",
              "        buttonEl.style.display =\n",
              "          google.colab.kernel.accessAllowed ? 'block' : 'none';\n",
              "\n",
              "        async function convertToInteractive(key) {\n",
              "          const element = document.querySelector('#df-33800f34-8402-4184-b29b-4403ce2fe02c');\n",
              "          const dataTable =\n",
              "            await google.colab.kernel.invokeFunction('convertToInteractive',\n",
              "                                                     [key], {});\n",
              "          if (!dataTable) return;\n",
              "\n",
              "          const docLinkHtml = 'Like what you see? Visit the ' +\n",
              "            '<a target=\"_blank\" href=https://colab.research.google.com/notebooks/data_table.ipynb>data table notebook</a>'\n",
              "            + ' to learn more about interactive tables.';\n",
              "          element.innerHTML = '';\n",
              "          dataTable['output_type'] = 'display_data';\n",
              "          await google.colab.output.renderOutput(dataTable, element);\n",
              "          const docLink = document.createElement('div');\n",
              "          docLink.innerHTML = docLinkHtml;\n",
              "          element.appendChild(docLink);\n",
              "        }\n",
              "      </script>\n",
              "    </div>\n",
              "  </div>\n",
              "  "
            ]
          },
          "metadata": {}
        }
      ]
    },
    {
      "cell_type": "code",
      "source": [
        "def remove_html(text):\n",
        "    \"\"\"\n",
        "        Remove the html in sample text\n",
        "    \"\"\"\n",
        "    html = re.compile(r\"<.*?>|&([a-z0-9]+|#[0-9]{1,6}|#x[0-9a-f]{1,6});\")\n",
        "    return re.sub(html, \"\", text)"
      ],
      "metadata": {
        "id": "h8CXFRl4gU-6"
      },
      "execution_count": null,
      "outputs": []
    },
    {
      "cell_type": "code",
      "source": [
        "# supprimer les symbols html \n",
        "train_df[\"message_clean\"] = train_df[\"message_clean\"].apply(lambda x: remove_html(x))\n",
        "display(train_df.head())"
      ],
      "metadata": {
        "colab": {
          "base_uri": "https://localhost:8080/",
          "height": 206
        },
        "id": "OQ552vRtgW0C",
        "outputId": "942cd339-42f8-489a-8581-59aaf27689ae"
      },
      "execution_count": null,
      "outputs": [
        {
          "output_type": "display_data",
          "data": {
            "text/plain": [
              "  Category                                            Message  \\\n",
              "0      ham  Go until jurong point, crazy.. Available only ...   \n",
              "1      ham                      Ok lar... Joking wif u oni...   \n",
              "2     spam  Free entry in 2 a wkly comp to win FA Cup fina...   \n",
              "3      ham  U dun say so early hor... U c already then say...   \n",
              "4      ham  Nah I don't think he goes to usf, he lives aro...   \n",
              "\n",
              "                                       message_clean  \n",
              "0  go until jurong point, crazy.. available only ...  \n",
              "1                    ok lar... joking wif you oni...  \n",
              "2  free entry in 2 a wkly comp to win fa cup fina...  \n",
              "3  you dun say so early hor... you c already then...  \n",
              "4  nah i do not think he goes to usf, he lives ar...  "
            ],
            "text/html": [
              "\n",
              "  <div id=\"df-680e0efb-2be2-4812-ab83-92b5b951690f\">\n",
              "    <div class=\"colab-df-container\">\n",
              "      <div>\n",
              "<style scoped>\n",
              "    .dataframe tbody tr th:only-of-type {\n",
              "        vertical-align: middle;\n",
              "    }\n",
              "\n",
              "    .dataframe tbody tr th {\n",
              "        vertical-align: top;\n",
              "    }\n",
              "\n",
              "    .dataframe thead th {\n",
              "        text-align: right;\n",
              "    }\n",
              "</style>\n",
              "<table border=\"1\" class=\"dataframe\">\n",
              "  <thead>\n",
              "    <tr style=\"text-align: right;\">\n",
              "      <th></th>\n",
              "      <th>Category</th>\n",
              "      <th>Message</th>\n",
              "      <th>message_clean</th>\n",
              "    </tr>\n",
              "  </thead>\n",
              "  <tbody>\n",
              "    <tr>\n",
              "      <th>0</th>\n",
              "      <td>ham</td>\n",
              "      <td>Go until jurong point, crazy.. Available only ...</td>\n",
              "      <td>go until jurong point, crazy.. available only ...</td>\n",
              "    </tr>\n",
              "    <tr>\n",
              "      <th>1</th>\n",
              "      <td>ham</td>\n",
              "      <td>Ok lar... Joking wif u oni...</td>\n",
              "      <td>ok lar... joking wif you oni...</td>\n",
              "    </tr>\n",
              "    <tr>\n",
              "      <th>2</th>\n",
              "      <td>spam</td>\n",
              "      <td>Free entry in 2 a wkly comp to win FA Cup fina...</td>\n",
              "      <td>free entry in 2 a wkly comp to win fa cup fina...</td>\n",
              "    </tr>\n",
              "    <tr>\n",
              "      <th>3</th>\n",
              "      <td>ham</td>\n",
              "      <td>U dun say so early hor... U c already then say...</td>\n",
              "      <td>you dun say so early hor... you c already then...</td>\n",
              "    </tr>\n",
              "    <tr>\n",
              "      <th>4</th>\n",
              "      <td>ham</td>\n",
              "      <td>Nah I don't think he goes to usf, he lives aro...</td>\n",
              "      <td>nah i do not think he goes to usf, he lives ar...</td>\n",
              "    </tr>\n",
              "  </tbody>\n",
              "</table>\n",
              "</div>\n",
              "      <button class=\"colab-df-convert\" onclick=\"convertToInteractive('df-680e0efb-2be2-4812-ab83-92b5b951690f')\"\n",
              "              title=\"Convert this dataframe to an interactive table.\"\n",
              "              style=\"display:none;\">\n",
              "        \n",
              "  <svg xmlns=\"http://www.w3.org/2000/svg\" height=\"24px\"viewBox=\"0 0 24 24\"\n",
              "       width=\"24px\">\n",
              "    <path d=\"M0 0h24v24H0V0z\" fill=\"none\"/>\n",
              "    <path d=\"M18.56 5.44l.94 2.06.94-2.06 2.06-.94-2.06-.94-.94-2.06-.94 2.06-2.06.94zm-11 1L8.5 8.5l.94-2.06 2.06-.94-2.06-.94L8.5 2.5l-.94 2.06-2.06.94zm10 10l.94 2.06.94-2.06 2.06-.94-2.06-.94-.94-2.06-.94 2.06-2.06.94z\"/><path d=\"M17.41 7.96l-1.37-1.37c-.4-.4-.92-.59-1.43-.59-.52 0-1.04.2-1.43.59L10.3 9.45l-7.72 7.72c-.78.78-.78 2.05 0 2.83L4 21.41c.39.39.9.59 1.41.59.51 0 1.02-.2 1.41-.59l7.78-7.78 2.81-2.81c.8-.78.8-2.07 0-2.86zM5.41 20L4 18.59l7.72-7.72 1.47 1.35L5.41 20z\"/>\n",
              "  </svg>\n",
              "      </button>\n",
              "      \n",
              "  <style>\n",
              "    .colab-df-container {\n",
              "      display:flex;\n",
              "      flex-wrap:wrap;\n",
              "      gap: 12px;\n",
              "    }\n",
              "\n",
              "    .colab-df-convert {\n",
              "      background-color: #E8F0FE;\n",
              "      border: none;\n",
              "      border-radius: 50%;\n",
              "      cursor: pointer;\n",
              "      display: none;\n",
              "      fill: #1967D2;\n",
              "      height: 32px;\n",
              "      padding: 0 0 0 0;\n",
              "      width: 32px;\n",
              "    }\n",
              "\n",
              "    .colab-df-convert:hover {\n",
              "      background-color: #E2EBFA;\n",
              "      box-shadow: 0px 1px 2px rgba(60, 64, 67, 0.3), 0px 1px 3px 1px rgba(60, 64, 67, 0.15);\n",
              "      fill: #174EA6;\n",
              "    }\n",
              "\n",
              "    [theme=dark] .colab-df-convert {\n",
              "      background-color: #3B4455;\n",
              "      fill: #D2E3FC;\n",
              "    }\n",
              "\n",
              "    [theme=dark] .colab-df-convert:hover {\n",
              "      background-color: #434B5C;\n",
              "      box-shadow: 0px 1px 3px 1px rgba(0, 0, 0, 0.15);\n",
              "      filter: drop-shadow(0px 1px 2px rgba(0, 0, 0, 0.3));\n",
              "      fill: #FFFFFF;\n",
              "    }\n",
              "  </style>\n",
              "\n",
              "      <script>\n",
              "        const buttonEl =\n",
              "          document.querySelector('#df-680e0efb-2be2-4812-ab83-92b5b951690f button.colab-df-convert');\n",
              "        buttonEl.style.display =\n",
              "          google.colab.kernel.accessAllowed ? 'block' : 'none';\n",
              "\n",
              "        async function convertToInteractive(key) {\n",
              "          const element = document.querySelector('#df-680e0efb-2be2-4812-ab83-92b5b951690f');\n",
              "          const dataTable =\n",
              "            await google.colab.kernel.invokeFunction('convertToInteractive',\n",
              "                                                     [key], {});\n",
              "          if (!dataTable) return;\n",
              "\n",
              "          const docLinkHtml = 'Like what you see? Visit the ' +\n",
              "            '<a target=\"_blank\" href=https://colab.research.google.com/notebooks/data_table.ipynb>data table notebook</a>'\n",
              "            + ' to learn more about interactive tables.';\n",
              "          element.innerHTML = '';\n",
              "          dataTable['output_type'] = 'display_data';\n",
              "          await google.colab.output.renderOutput(dataTable, element);\n",
              "          const docLink = document.createElement('div');\n",
              "          docLink.innerHTML = docLinkHtml;\n",
              "          element.appendChild(docLink);\n",
              "        }\n",
              "      </script>\n",
              "    </div>\n",
              "  </div>\n",
              "  "
            ]
          },
          "metadata": {}
        }
      ]
    },
    {
      "cell_type": "code",
      "source": [
        "def remove_non_ascii(text):\n",
        "    \"\"\"\n",
        "        Remove non-ASCII characters \n",
        "    \"\"\"\n",
        "    return re.sub(r'[^\\x00-\\x7f]',r'', text)"
      ],
      "metadata": {
        "id": "z2-pkcRqgoys"
      },
      "execution_count": null,
      "outputs": []
    },
    {
      "cell_type": "code",
      "source": [
        "# supprimer les codes assci\n",
        "train_df[\"message_clean\"] = train_df[\"message_clean\"].apply(lambda x: remove_non_ascii(x))\n",
        "display(train_df.head())"
      ],
      "metadata": {
        "colab": {
          "base_uri": "https://localhost:8080/",
          "height": 206
        },
        "id": "uem6t7aegyTD",
        "outputId": "fc8bb571-9548-448b-8847-f0ee86e46bed"
      },
      "execution_count": null,
      "outputs": [
        {
          "output_type": "display_data",
          "data": {
            "text/plain": [
              "  Category                                            Message  \\\n",
              "0      ham  Go until jurong point, crazy.. Available only ...   \n",
              "1      ham                      Ok lar... Joking wif u oni...   \n",
              "2     spam  Free entry in 2 a wkly comp to win FA Cup fina...   \n",
              "3      ham  U dun say so early hor... U c already then say...   \n",
              "4      ham  Nah I don't think he goes to usf, he lives aro...   \n",
              "\n",
              "                                       message_clean  \n",
              "0  go until jurong point, crazy.. available only ...  \n",
              "1                    ok lar... joking wif you oni...  \n",
              "2  free entry in 2 a wkly comp to win fa cup fina...  \n",
              "3  you dun say so early hor... you c already then...  \n",
              "4  nah i do not think he goes to usf, he lives ar...  "
            ],
            "text/html": [
              "\n",
              "  <div id=\"df-1b198ba4-16bd-40bf-9a9a-4111540cdadc\">\n",
              "    <div class=\"colab-df-container\">\n",
              "      <div>\n",
              "<style scoped>\n",
              "    .dataframe tbody tr th:only-of-type {\n",
              "        vertical-align: middle;\n",
              "    }\n",
              "\n",
              "    .dataframe tbody tr th {\n",
              "        vertical-align: top;\n",
              "    }\n",
              "\n",
              "    .dataframe thead th {\n",
              "        text-align: right;\n",
              "    }\n",
              "</style>\n",
              "<table border=\"1\" class=\"dataframe\">\n",
              "  <thead>\n",
              "    <tr style=\"text-align: right;\">\n",
              "      <th></th>\n",
              "      <th>Category</th>\n",
              "      <th>Message</th>\n",
              "      <th>message_clean</th>\n",
              "    </tr>\n",
              "  </thead>\n",
              "  <tbody>\n",
              "    <tr>\n",
              "      <th>0</th>\n",
              "      <td>ham</td>\n",
              "      <td>Go until jurong point, crazy.. Available only ...</td>\n",
              "      <td>go until jurong point, crazy.. available only ...</td>\n",
              "    </tr>\n",
              "    <tr>\n",
              "      <th>1</th>\n",
              "      <td>ham</td>\n",
              "      <td>Ok lar... Joking wif u oni...</td>\n",
              "      <td>ok lar... joking wif you oni...</td>\n",
              "    </tr>\n",
              "    <tr>\n",
              "      <th>2</th>\n",
              "      <td>spam</td>\n",
              "      <td>Free entry in 2 a wkly comp to win FA Cup fina...</td>\n",
              "      <td>free entry in 2 a wkly comp to win fa cup fina...</td>\n",
              "    </tr>\n",
              "    <tr>\n",
              "      <th>3</th>\n",
              "      <td>ham</td>\n",
              "      <td>U dun say so early hor... U c already then say...</td>\n",
              "      <td>you dun say so early hor... you c already then...</td>\n",
              "    </tr>\n",
              "    <tr>\n",
              "      <th>4</th>\n",
              "      <td>ham</td>\n",
              "      <td>Nah I don't think he goes to usf, he lives aro...</td>\n",
              "      <td>nah i do not think he goes to usf, he lives ar...</td>\n",
              "    </tr>\n",
              "  </tbody>\n",
              "</table>\n",
              "</div>\n",
              "      <button class=\"colab-df-convert\" onclick=\"convertToInteractive('df-1b198ba4-16bd-40bf-9a9a-4111540cdadc')\"\n",
              "              title=\"Convert this dataframe to an interactive table.\"\n",
              "              style=\"display:none;\">\n",
              "        \n",
              "  <svg xmlns=\"http://www.w3.org/2000/svg\" height=\"24px\"viewBox=\"0 0 24 24\"\n",
              "       width=\"24px\">\n",
              "    <path d=\"M0 0h24v24H0V0z\" fill=\"none\"/>\n",
              "    <path d=\"M18.56 5.44l.94 2.06.94-2.06 2.06-.94-2.06-.94-.94-2.06-.94 2.06-2.06.94zm-11 1L8.5 8.5l.94-2.06 2.06-.94-2.06-.94L8.5 2.5l-.94 2.06-2.06.94zm10 10l.94 2.06.94-2.06 2.06-.94-2.06-.94-.94-2.06-.94 2.06-2.06.94z\"/><path d=\"M17.41 7.96l-1.37-1.37c-.4-.4-.92-.59-1.43-.59-.52 0-1.04.2-1.43.59L10.3 9.45l-7.72 7.72c-.78.78-.78 2.05 0 2.83L4 21.41c.39.39.9.59 1.41.59.51 0 1.02-.2 1.41-.59l7.78-7.78 2.81-2.81c.8-.78.8-2.07 0-2.86zM5.41 20L4 18.59l7.72-7.72 1.47 1.35L5.41 20z\"/>\n",
              "  </svg>\n",
              "      </button>\n",
              "      \n",
              "  <style>\n",
              "    .colab-df-container {\n",
              "      display:flex;\n",
              "      flex-wrap:wrap;\n",
              "      gap: 12px;\n",
              "    }\n",
              "\n",
              "    .colab-df-convert {\n",
              "      background-color: #E8F0FE;\n",
              "      border: none;\n",
              "      border-radius: 50%;\n",
              "      cursor: pointer;\n",
              "      display: none;\n",
              "      fill: #1967D2;\n",
              "      height: 32px;\n",
              "      padding: 0 0 0 0;\n",
              "      width: 32px;\n",
              "    }\n",
              "\n",
              "    .colab-df-convert:hover {\n",
              "      background-color: #E2EBFA;\n",
              "      box-shadow: 0px 1px 2px rgba(60, 64, 67, 0.3), 0px 1px 3px 1px rgba(60, 64, 67, 0.15);\n",
              "      fill: #174EA6;\n",
              "    }\n",
              "\n",
              "    [theme=dark] .colab-df-convert {\n",
              "      background-color: #3B4455;\n",
              "      fill: #D2E3FC;\n",
              "    }\n",
              "\n",
              "    [theme=dark] .colab-df-convert:hover {\n",
              "      background-color: #434B5C;\n",
              "      box-shadow: 0px 1px 3px 1px rgba(0, 0, 0, 0.15);\n",
              "      filter: drop-shadow(0px 1px 2px rgba(0, 0, 0, 0.3));\n",
              "      fill: #FFFFFF;\n",
              "    }\n",
              "  </style>\n",
              "\n",
              "      <script>\n",
              "        const buttonEl =\n",
              "          document.querySelector('#df-1b198ba4-16bd-40bf-9a9a-4111540cdadc button.colab-df-convert');\n",
              "        buttonEl.style.display =\n",
              "          google.colab.kernel.accessAllowed ? 'block' : 'none';\n",
              "\n",
              "        async function convertToInteractive(key) {\n",
              "          const element = document.querySelector('#df-1b198ba4-16bd-40bf-9a9a-4111540cdadc');\n",
              "          const dataTable =\n",
              "            await google.colab.kernel.invokeFunction('convertToInteractive',\n",
              "                                                     [key], {});\n",
              "          if (!dataTable) return;\n",
              "\n",
              "          const docLinkHtml = 'Like what you see? Visit the ' +\n",
              "            '<a target=\"_blank\" href=https://colab.research.google.com/notebooks/data_table.ipynb>data table notebook</a>'\n",
              "            + ' to learn more about interactive tables.';\n",
              "          element.innerHTML = '';\n",
              "          dataTable['output_type'] = 'display_data';\n",
              "          await google.colab.output.renderOutput(dataTable, element);\n",
              "          const docLink = document.createElement('div');\n",
              "          docLink.innerHTML = docLinkHtml;\n",
              "          element.appendChild(docLink);\n",
              "        }\n",
              "      </script>\n",
              "    </div>\n",
              "  </div>\n",
              "  "
            ]
          },
          "metadata": {}
        }
      ]
    },
    {
      "cell_type": "code",
      "source": [
        "def remove_punct(text):\n",
        "    text  = \"\".join([char for char in text if char not in string.punctuation])\n",
        "    text = re.sub('[0-9]+', '', text)\n",
        "    return text\n",
        "\n",
        "train_df[\"message_clean\"] = train_df['message_clean'].apply(lambda x: remove_punct(x))\n",
        "train_df.head(10)"
      ],
      "metadata": {
        "colab": {
          "base_uri": "https://localhost:8080/",
          "height": 363
        },
        "id": "3YWnF3yE1D7J",
        "outputId": "45768d5b-a80b-4b8f-e518-06a2331638fe"
      },
      "execution_count": null,
      "outputs": [
        {
          "output_type": "execute_result",
          "data": {
            "text/plain": [
              "  Category                                            Message  \\\n",
              "0      ham  Go until jurong point, crazy.. Available only ...   \n",
              "1      ham                      Ok lar... Joking wif u oni...   \n",
              "2     spam  Free entry in 2 a wkly comp to win FA Cup fina...   \n",
              "3      ham  U dun say so early hor... U c already then say...   \n",
              "4      ham  Nah I don't think he goes to usf, he lives aro...   \n",
              "5     spam  FreeMsg Hey there darling it's been 3 week's n...   \n",
              "6      ham  Even my brother is not like to speak with me. ...   \n",
              "7      ham  As per your request 'Melle Melle (Oru Minnamin...   \n",
              "8     spam  WINNER!! As a valued network customer you have...   \n",
              "9     spam  Had your mobile 11 months or more? U R entitle...   \n",
              "\n",
              "                                       message_clean  \n",
              "0  go until jurong point crazy available only in ...  \n",
              "1                          ok lar joking wif you oni  \n",
              "2  free entry in  a wkly comp to win fa cup final...  \n",
              "3    you dun say so early hor you c already then say  \n",
              "4  nah i do not think he goes to usf he lives aro...  \n",
              "5  freemsg hey there darling it is been  weeks no...  \n",
              "6  even my brother is not like to speak with me t...  \n",
              "7  as per your request melle melle oru minnaminun...  \n",
              "8  winner as a valued network customer you have b...  \n",
              "9  had your mobile  months or more you r entitled...  "
            ],
            "text/html": [
              "\n",
              "  <div id=\"df-1e60f9f5-813f-49e5-a78f-452c3c6f2cca\">\n",
              "    <div class=\"colab-df-container\">\n",
              "      <div>\n",
              "<style scoped>\n",
              "    .dataframe tbody tr th:only-of-type {\n",
              "        vertical-align: middle;\n",
              "    }\n",
              "\n",
              "    .dataframe tbody tr th {\n",
              "        vertical-align: top;\n",
              "    }\n",
              "\n",
              "    .dataframe thead th {\n",
              "        text-align: right;\n",
              "    }\n",
              "</style>\n",
              "<table border=\"1\" class=\"dataframe\">\n",
              "  <thead>\n",
              "    <tr style=\"text-align: right;\">\n",
              "      <th></th>\n",
              "      <th>Category</th>\n",
              "      <th>Message</th>\n",
              "      <th>message_clean</th>\n",
              "    </tr>\n",
              "  </thead>\n",
              "  <tbody>\n",
              "    <tr>\n",
              "      <th>0</th>\n",
              "      <td>ham</td>\n",
              "      <td>Go until jurong point, crazy.. Available only ...</td>\n",
              "      <td>go until jurong point crazy available only in ...</td>\n",
              "    </tr>\n",
              "    <tr>\n",
              "      <th>1</th>\n",
              "      <td>ham</td>\n",
              "      <td>Ok lar... Joking wif u oni...</td>\n",
              "      <td>ok lar joking wif you oni</td>\n",
              "    </tr>\n",
              "    <tr>\n",
              "      <th>2</th>\n",
              "      <td>spam</td>\n",
              "      <td>Free entry in 2 a wkly comp to win FA Cup fina...</td>\n",
              "      <td>free entry in  a wkly comp to win fa cup final...</td>\n",
              "    </tr>\n",
              "    <tr>\n",
              "      <th>3</th>\n",
              "      <td>ham</td>\n",
              "      <td>U dun say so early hor... U c already then say...</td>\n",
              "      <td>you dun say so early hor you c already then say</td>\n",
              "    </tr>\n",
              "    <tr>\n",
              "      <th>4</th>\n",
              "      <td>ham</td>\n",
              "      <td>Nah I don't think he goes to usf, he lives aro...</td>\n",
              "      <td>nah i do not think he goes to usf he lives aro...</td>\n",
              "    </tr>\n",
              "    <tr>\n",
              "      <th>5</th>\n",
              "      <td>spam</td>\n",
              "      <td>FreeMsg Hey there darling it's been 3 week's n...</td>\n",
              "      <td>freemsg hey there darling it is been  weeks no...</td>\n",
              "    </tr>\n",
              "    <tr>\n",
              "      <th>6</th>\n",
              "      <td>ham</td>\n",
              "      <td>Even my brother is not like to speak with me. ...</td>\n",
              "      <td>even my brother is not like to speak with me t...</td>\n",
              "    </tr>\n",
              "    <tr>\n",
              "      <th>7</th>\n",
              "      <td>ham</td>\n",
              "      <td>As per your request 'Melle Melle (Oru Minnamin...</td>\n",
              "      <td>as per your request melle melle oru minnaminun...</td>\n",
              "    </tr>\n",
              "    <tr>\n",
              "      <th>8</th>\n",
              "      <td>spam</td>\n",
              "      <td>WINNER!! As a valued network customer you have...</td>\n",
              "      <td>winner as a valued network customer you have b...</td>\n",
              "    </tr>\n",
              "    <tr>\n",
              "      <th>9</th>\n",
              "      <td>spam</td>\n",
              "      <td>Had your mobile 11 months or more? U R entitle...</td>\n",
              "      <td>had your mobile  months or more you r entitled...</td>\n",
              "    </tr>\n",
              "  </tbody>\n",
              "</table>\n",
              "</div>\n",
              "      <button class=\"colab-df-convert\" onclick=\"convertToInteractive('df-1e60f9f5-813f-49e5-a78f-452c3c6f2cca')\"\n",
              "              title=\"Convert this dataframe to an interactive table.\"\n",
              "              style=\"display:none;\">\n",
              "        \n",
              "  <svg xmlns=\"http://www.w3.org/2000/svg\" height=\"24px\"viewBox=\"0 0 24 24\"\n",
              "       width=\"24px\">\n",
              "    <path d=\"M0 0h24v24H0V0z\" fill=\"none\"/>\n",
              "    <path d=\"M18.56 5.44l.94 2.06.94-2.06 2.06-.94-2.06-.94-.94-2.06-.94 2.06-2.06.94zm-11 1L8.5 8.5l.94-2.06 2.06-.94-2.06-.94L8.5 2.5l-.94 2.06-2.06.94zm10 10l.94 2.06.94-2.06 2.06-.94-2.06-.94-.94-2.06-.94 2.06-2.06.94z\"/><path d=\"M17.41 7.96l-1.37-1.37c-.4-.4-.92-.59-1.43-.59-.52 0-1.04.2-1.43.59L10.3 9.45l-7.72 7.72c-.78.78-.78 2.05 0 2.83L4 21.41c.39.39.9.59 1.41.59.51 0 1.02-.2 1.41-.59l7.78-7.78 2.81-2.81c.8-.78.8-2.07 0-2.86zM5.41 20L4 18.59l7.72-7.72 1.47 1.35L5.41 20z\"/>\n",
              "  </svg>\n",
              "      </button>\n",
              "      \n",
              "  <style>\n",
              "    .colab-df-container {\n",
              "      display:flex;\n",
              "      flex-wrap:wrap;\n",
              "      gap: 12px;\n",
              "    }\n",
              "\n",
              "    .colab-df-convert {\n",
              "      background-color: #E8F0FE;\n",
              "      border: none;\n",
              "      border-radius: 50%;\n",
              "      cursor: pointer;\n",
              "      display: none;\n",
              "      fill: #1967D2;\n",
              "      height: 32px;\n",
              "      padding: 0 0 0 0;\n",
              "      width: 32px;\n",
              "    }\n",
              "\n",
              "    .colab-df-convert:hover {\n",
              "      background-color: #E2EBFA;\n",
              "      box-shadow: 0px 1px 2px rgba(60, 64, 67, 0.3), 0px 1px 3px 1px rgba(60, 64, 67, 0.15);\n",
              "      fill: #174EA6;\n",
              "    }\n",
              "\n",
              "    [theme=dark] .colab-df-convert {\n",
              "      background-color: #3B4455;\n",
              "      fill: #D2E3FC;\n",
              "    }\n",
              "\n",
              "    [theme=dark] .colab-df-convert:hover {\n",
              "      background-color: #434B5C;\n",
              "      box-shadow: 0px 1px 3px 1px rgba(0, 0, 0, 0.15);\n",
              "      filter: drop-shadow(0px 1px 2px rgba(0, 0, 0, 0.3));\n",
              "      fill: #FFFFFF;\n",
              "    }\n",
              "  </style>\n",
              "\n",
              "      <script>\n",
              "        const buttonEl =\n",
              "          document.querySelector('#df-1e60f9f5-813f-49e5-a78f-452c3c6f2cca button.colab-df-convert');\n",
              "        buttonEl.style.display =\n",
              "          google.colab.kernel.accessAllowed ? 'block' : 'none';\n",
              "\n",
              "        async function convertToInteractive(key) {\n",
              "          const element = document.querySelector('#df-1e60f9f5-813f-49e5-a78f-452c3c6f2cca');\n",
              "          const dataTable =\n",
              "            await google.colab.kernel.invokeFunction('convertToInteractive',\n",
              "                                                     [key], {});\n",
              "          if (!dataTable) return;\n",
              "\n",
              "          const docLinkHtml = 'Like what you see? Visit the ' +\n",
              "            '<a target=\"_blank\" href=https://colab.research.google.com/notebooks/data_table.ipynb>data table notebook</a>'\n",
              "            + ' to learn more about interactive tables.';\n",
              "          element.innerHTML = '';\n",
              "          dataTable['output_type'] = 'display_data';\n",
              "          await google.colab.output.renderOutput(dataTable, element);\n",
              "          const docLink = document.createElement('div');\n",
              "          docLink.innerHTML = docLinkHtml;\n",
              "          element.appendChild(docLink);\n",
              "        }\n",
              "      </script>\n",
              "    </div>\n",
              "  </div>\n",
              "  "
            ]
          },
          "metadata": {},
          "execution_count": 13
        }
      ]
    },
    {
      "cell_type": "code",
      "source": [
        "!pip install NLTK"
      ],
      "metadata": {
        "colab": {
          "base_uri": "https://localhost:8080/"
        },
        "id": "Z2FYI5ANlXeU",
        "outputId": "fa96e0a3-507c-4b82-b1be-850fc6dc1121"
      },
      "execution_count": null,
      "outputs": [
        {
          "output_type": "stream",
          "name": "stdout",
          "text": [
            "Requirement already satisfied: NLTK in /usr/local/lib/python3.7/dist-packages (3.2.5)\n",
            "Requirement already satisfied: six in /usr/local/lib/python3.7/dist-packages (from NLTK) (1.15.0)\n"
          ]
        }
      ]
    },
    {
      "cell_type": "code",
      "source": [
        "import nltk\n",
        "nltk.download('punkt')"
      ],
      "metadata": {
        "colab": {
          "base_uri": "https://localhost:8080/"
        },
        "id": "oqwsb1opmF2G",
        "outputId": "d554ae98-435d-40bc-c351-fe212e17d193"
      },
      "execution_count": null,
      "outputs": [
        {
          "output_type": "stream",
          "name": "stdout",
          "text": [
            "[nltk_data] Downloading package punkt to /root/nltk_data...\n",
            "[nltk_data]   Unzipping tokenizers/punkt.zip.\n"
          ]
        },
        {
          "output_type": "execute_result",
          "data": {
            "text/plain": [
              "True"
            ]
          },
          "metadata": {},
          "execution_count": 15
        }
      ]
    },
    {
      "cell_type": "code",
      "source": [
        "# l'extraction des mots \n",
        "\n",
        "from nltk.tokenize import word_tokenize\n",
        "\n",
        "train_df['tokenized'] = train_df['message_clean'].apply(word_tokenize)\n",
        "train_df.head()"
      ],
      "metadata": {
        "colab": {
          "base_uri": "https://localhost:8080/",
          "height": 206
        },
        "id": "nj2uDm1akpa0",
        "outputId": "f3af1f80-48b6-4693-9c30-e4cadabe51e0"
      },
      "execution_count": null,
      "outputs": [
        {
          "output_type": "execute_result",
          "data": {
            "text/plain": [
              "  Category                                            Message  \\\n",
              "0      ham  Go until jurong point, crazy.. Available only ...   \n",
              "1      ham                      Ok lar... Joking wif u oni...   \n",
              "2     spam  Free entry in 2 a wkly comp to win FA Cup fina...   \n",
              "3      ham  U dun say so early hor... U c already then say...   \n",
              "4      ham  Nah I don't think he goes to usf, he lives aro...   \n",
              "\n",
              "                                       message_clean  \\\n",
              "0  go until jurong point crazy available only in ...   \n",
              "1                          ok lar joking wif you oni   \n",
              "2  free entry in  a wkly comp to win fa cup final...   \n",
              "3    you dun say so early hor you c already then say   \n",
              "4  nah i do not think he goes to usf he lives aro...   \n",
              "\n",
              "                                           tokenized  \n",
              "0  [go, until, jurong, point, crazy, available, o...  \n",
              "1                   [ok, lar, joking, wif, you, oni]  \n",
              "2  [free, entry, in, a, wkly, comp, to, win, fa, ...  \n",
              "3  [you, dun, say, so, early, hor, you, c, alread...  \n",
              "4  [nah, i, do, not, think, he, goes, to, usf, he...  "
            ],
            "text/html": [
              "\n",
              "  <div id=\"df-27938681-8856-493e-84e6-7dae04fc3986\">\n",
              "    <div class=\"colab-df-container\">\n",
              "      <div>\n",
              "<style scoped>\n",
              "    .dataframe tbody tr th:only-of-type {\n",
              "        vertical-align: middle;\n",
              "    }\n",
              "\n",
              "    .dataframe tbody tr th {\n",
              "        vertical-align: top;\n",
              "    }\n",
              "\n",
              "    .dataframe thead th {\n",
              "        text-align: right;\n",
              "    }\n",
              "</style>\n",
              "<table border=\"1\" class=\"dataframe\">\n",
              "  <thead>\n",
              "    <tr style=\"text-align: right;\">\n",
              "      <th></th>\n",
              "      <th>Category</th>\n",
              "      <th>Message</th>\n",
              "      <th>message_clean</th>\n",
              "      <th>tokenized</th>\n",
              "    </tr>\n",
              "  </thead>\n",
              "  <tbody>\n",
              "    <tr>\n",
              "      <th>0</th>\n",
              "      <td>ham</td>\n",
              "      <td>Go until jurong point, crazy.. Available only ...</td>\n",
              "      <td>go until jurong point crazy available only in ...</td>\n",
              "      <td>[go, until, jurong, point, crazy, available, o...</td>\n",
              "    </tr>\n",
              "    <tr>\n",
              "      <th>1</th>\n",
              "      <td>ham</td>\n",
              "      <td>Ok lar... Joking wif u oni...</td>\n",
              "      <td>ok lar joking wif you oni</td>\n",
              "      <td>[ok, lar, joking, wif, you, oni]</td>\n",
              "    </tr>\n",
              "    <tr>\n",
              "      <th>2</th>\n",
              "      <td>spam</td>\n",
              "      <td>Free entry in 2 a wkly comp to win FA Cup fina...</td>\n",
              "      <td>free entry in  a wkly comp to win fa cup final...</td>\n",
              "      <td>[free, entry, in, a, wkly, comp, to, win, fa, ...</td>\n",
              "    </tr>\n",
              "    <tr>\n",
              "      <th>3</th>\n",
              "      <td>ham</td>\n",
              "      <td>U dun say so early hor... U c already then say...</td>\n",
              "      <td>you dun say so early hor you c already then say</td>\n",
              "      <td>[you, dun, say, so, early, hor, you, c, alread...</td>\n",
              "    </tr>\n",
              "    <tr>\n",
              "      <th>4</th>\n",
              "      <td>ham</td>\n",
              "      <td>Nah I don't think he goes to usf, he lives aro...</td>\n",
              "      <td>nah i do not think he goes to usf he lives aro...</td>\n",
              "      <td>[nah, i, do, not, think, he, goes, to, usf, he...</td>\n",
              "    </tr>\n",
              "  </tbody>\n",
              "</table>\n",
              "</div>\n",
              "      <button class=\"colab-df-convert\" onclick=\"convertToInteractive('df-27938681-8856-493e-84e6-7dae04fc3986')\"\n",
              "              title=\"Convert this dataframe to an interactive table.\"\n",
              "              style=\"display:none;\">\n",
              "        \n",
              "  <svg xmlns=\"http://www.w3.org/2000/svg\" height=\"24px\"viewBox=\"0 0 24 24\"\n",
              "       width=\"24px\">\n",
              "    <path d=\"M0 0h24v24H0V0z\" fill=\"none\"/>\n",
              "    <path d=\"M18.56 5.44l.94 2.06.94-2.06 2.06-.94-2.06-.94-.94-2.06-.94 2.06-2.06.94zm-11 1L8.5 8.5l.94-2.06 2.06-.94-2.06-.94L8.5 2.5l-.94 2.06-2.06.94zm10 10l.94 2.06.94-2.06 2.06-.94-2.06-.94-.94-2.06-.94 2.06-2.06.94z\"/><path d=\"M17.41 7.96l-1.37-1.37c-.4-.4-.92-.59-1.43-.59-.52 0-1.04.2-1.43.59L10.3 9.45l-7.72 7.72c-.78.78-.78 2.05 0 2.83L4 21.41c.39.39.9.59 1.41.59.51 0 1.02-.2 1.41-.59l7.78-7.78 2.81-2.81c.8-.78.8-2.07 0-2.86zM5.41 20L4 18.59l7.72-7.72 1.47 1.35L5.41 20z\"/>\n",
              "  </svg>\n",
              "      </button>\n",
              "      \n",
              "  <style>\n",
              "    .colab-df-container {\n",
              "      display:flex;\n",
              "      flex-wrap:wrap;\n",
              "      gap: 12px;\n",
              "    }\n",
              "\n",
              "    .colab-df-convert {\n",
              "      background-color: #E8F0FE;\n",
              "      border: none;\n",
              "      border-radius: 50%;\n",
              "      cursor: pointer;\n",
              "      display: none;\n",
              "      fill: #1967D2;\n",
              "      height: 32px;\n",
              "      padding: 0 0 0 0;\n",
              "      width: 32px;\n",
              "    }\n",
              "\n",
              "    .colab-df-convert:hover {\n",
              "      background-color: #E2EBFA;\n",
              "      box-shadow: 0px 1px 2px rgba(60, 64, 67, 0.3), 0px 1px 3px 1px rgba(60, 64, 67, 0.15);\n",
              "      fill: #174EA6;\n",
              "    }\n",
              "\n",
              "    [theme=dark] .colab-df-convert {\n",
              "      background-color: #3B4455;\n",
              "      fill: #D2E3FC;\n",
              "    }\n",
              "\n",
              "    [theme=dark] .colab-df-convert:hover {\n",
              "      background-color: #434B5C;\n",
              "      box-shadow: 0px 1px 3px 1px rgba(0, 0, 0, 0.15);\n",
              "      filter: drop-shadow(0px 1px 2px rgba(0, 0, 0, 0.3));\n",
              "      fill: #FFFFFF;\n",
              "    }\n",
              "  </style>\n",
              "\n",
              "      <script>\n",
              "        const buttonEl =\n",
              "          document.querySelector('#df-27938681-8856-493e-84e6-7dae04fc3986 button.colab-df-convert');\n",
              "        buttonEl.style.display =\n",
              "          google.colab.kernel.accessAllowed ? 'block' : 'none';\n",
              "\n",
              "        async function convertToInteractive(key) {\n",
              "          const element = document.querySelector('#df-27938681-8856-493e-84e6-7dae04fc3986');\n",
              "          const dataTable =\n",
              "            await google.colab.kernel.invokeFunction('convertToInteractive',\n",
              "                                                     [key], {});\n",
              "          if (!dataTable) return;\n",
              "\n",
              "          const docLinkHtml = 'Like what you see? Visit the ' +\n",
              "            '<a target=\"_blank\" href=https://colab.research.google.com/notebooks/data_table.ipynb>data table notebook</a>'\n",
              "            + ' to learn more about interactive tables.';\n",
              "          element.innerHTML = '';\n",
              "          dataTable['output_type'] = 'display_data';\n",
              "          await google.colab.output.renderOutput(dataTable, element);\n",
              "          const docLink = document.createElement('div');\n",
              "          docLink.innerHTML = docLinkHtml;\n",
              "          element.appendChild(docLink);\n",
              "        }\n",
              "      </script>\n",
              "    </div>\n",
              "  </div>\n",
              "  "
            ]
          },
          "metadata": {},
          "execution_count": 16
        }
      ]
    },
    {
      "cell_type": "code",
      "source": [
        "# supprimer les mots d'arrete\n",
        "\n",
        "nltk.download(\"stopwords\")\n",
        "from nltk.corpus import stopwords\n",
        "\n",
        "stop = set(stopwords.words('english'))\n",
        "train_df['stopwords_removed'] = train_df['tokenized'].apply(lambda x: [word for word in x if word not in stop])\n",
        "train_df.head()"
      ],
      "metadata": {
        "colab": {
          "base_uri": "https://localhost:8080/",
          "height": 285
        },
        "id": "h1HkxW-ImVFB",
        "outputId": "3c24b83d-c78e-4d17-9450-d769a67472ab"
      },
      "execution_count": null,
      "outputs": [
        {
          "output_type": "stream",
          "name": "stdout",
          "text": [
            "[nltk_data] Downloading package stopwords to /root/nltk_data...\n",
            "[nltk_data]   Unzipping corpora/stopwords.zip.\n"
          ]
        },
        {
          "output_type": "execute_result",
          "data": {
            "text/plain": [
              "  Category                                            Message  \\\n",
              "0      ham  Go until jurong point, crazy.. Available only ...   \n",
              "1      ham                      Ok lar... Joking wif u oni...   \n",
              "2     spam  Free entry in 2 a wkly comp to win FA Cup fina...   \n",
              "3      ham  U dun say so early hor... U c already then say...   \n",
              "4      ham  Nah I don't think he goes to usf, he lives aro...   \n",
              "\n",
              "                                       message_clean  \\\n",
              "0  go until jurong point crazy available only in ...   \n",
              "1                          ok lar joking wif you oni   \n",
              "2  free entry in  a wkly comp to win fa cup final...   \n",
              "3    you dun say so early hor you c already then say   \n",
              "4  nah i do not think he goes to usf he lives aro...   \n",
              "\n",
              "                                           tokenized  \\\n",
              "0  [go, until, jurong, point, crazy, available, o...   \n",
              "1                   [ok, lar, joking, wif, you, oni]   \n",
              "2  [free, entry, in, a, wkly, comp, to, win, fa, ...   \n",
              "3  [you, dun, say, so, early, hor, you, c, alread...   \n",
              "4  [nah, i, do, not, think, he, goes, to, usf, he...   \n",
              "\n",
              "                                   stopwords_removed  \n",
              "0  [go, jurong, point, crazy, available, bugis, n...  \n",
              "1                        [ok, lar, joking, wif, oni]  \n",
              "2  [free, entry, wkly, comp, win, fa, cup, final,...  \n",
              "3            [dun, say, early, hor, c, already, say]  \n",
              "4     [nah, think, goes, usf, lives, around, though]  "
            ],
            "text/html": [
              "\n",
              "  <div id=\"df-6f25f1da-4bef-42ff-b554-7dea1a055cef\">\n",
              "    <div class=\"colab-df-container\">\n",
              "      <div>\n",
              "<style scoped>\n",
              "    .dataframe tbody tr th:only-of-type {\n",
              "        vertical-align: middle;\n",
              "    }\n",
              "\n",
              "    .dataframe tbody tr th {\n",
              "        vertical-align: top;\n",
              "    }\n",
              "\n",
              "    .dataframe thead th {\n",
              "        text-align: right;\n",
              "    }\n",
              "</style>\n",
              "<table border=\"1\" class=\"dataframe\">\n",
              "  <thead>\n",
              "    <tr style=\"text-align: right;\">\n",
              "      <th></th>\n",
              "      <th>Category</th>\n",
              "      <th>Message</th>\n",
              "      <th>message_clean</th>\n",
              "      <th>tokenized</th>\n",
              "      <th>stopwords_removed</th>\n",
              "    </tr>\n",
              "  </thead>\n",
              "  <tbody>\n",
              "    <tr>\n",
              "      <th>0</th>\n",
              "      <td>ham</td>\n",
              "      <td>Go until jurong point, crazy.. Available only ...</td>\n",
              "      <td>go until jurong point crazy available only in ...</td>\n",
              "      <td>[go, until, jurong, point, crazy, available, o...</td>\n",
              "      <td>[go, jurong, point, crazy, available, bugis, n...</td>\n",
              "    </tr>\n",
              "    <tr>\n",
              "      <th>1</th>\n",
              "      <td>ham</td>\n",
              "      <td>Ok lar... Joking wif u oni...</td>\n",
              "      <td>ok lar joking wif you oni</td>\n",
              "      <td>[ok, lar, joking, wif, you, oni]</td>\n",
              "      <td>[ok, lar, joking, wif, oni]</td>\n",
              "    </tr>\n",
              "    <tr>\n",
              "      <th>2</th>\n",
              "      <td>spam</td>\n",
              "      <td>Free entry in 2 a wkly comp to win FA Cup fina...</td>\n",
              "      <td>free entry in  a wkly comp to win fa cup final...</td>\n",
              "      <td>[free, entry, in, a, wkly, comp, to, win, fa, ...</td>\n",
              "      <td>[free, entry, wkly, comp, win, fa, cup, final,...</td>\n",
              "    </tr>\n",
              "    <tr>\n",
              "      <th>3</th>\n",
              "      <td>ham</td>\n",
              "      <td>U dun say so early hor... U c already then say...</td>\n",
              "      <td>you dun say so early hor you c already then say</td>\n",
              "      <td>[you, dun, say, so, early, hor, you, c, alread...</td>\n",
              "      <td>[dun, say, early, hor, c, already, say]</td>\n",
              "    </tr>\n",
              "    <tr>\n",
              "      <th>4</th>\n",
              "      <td>ham</td>\n",
              "      <td>Nah I don't think he goes to usf, he lives aro...</td>\n",
              "      <td>nah i do not think he goes to usf he lives aro...</td>\n",
              "      <td>[nah, i, do, not, think, he, goes, to, usf, he...</td>\n",
              "      <td>[nah, think, goes, usf, lives, around, though]</td>\n",
              "    </tr>\n",
              "  </tbody>\n",
              "</table>\n",
              "</div>\n",
              "      <button class=\"colab-df-convert\" onclick=\"convertToInteractive('df-6f25f1da-4bef-42ff-b554-7dea1a055cef')\"\n",
              "              title=\"Convert this dataframe to an interactive table.\"\n",
              "              style=\"display:none;\">\n",
              "        \n",
              "  <svg xmlns=\"http://www.w3.org/2000/svg\" height=\"24px\"viewBox=\"0 0 24 24\"\n",
              "       width=\"24px\">\n",
              "    <path d=\"M0 0h24v24H0V0z\" fill=\"none\"/>\n",
              "    <path d=\"M18.56 5.44l.94 2.06.94-2.06 2.06-.94-2.06-.94-.94-2.06-.94 2.06-2.06.94zm-11 1L8.5 8.5l.94-2.06 2.06-.94-2.06-.94L8.5 2.5l-.94 2.06-2.06.94zm10 10l.94 2.06.94-2.06 2.06-.94-2.06-.94-.94-2.06-.94 2.06-2.06.94z\"/><path d=\"M17.41 7.96l-1.37-1.37c-.4-.4-.92-.59-1.43-.59-.52 0-1.04.2-1.43.59L10.3 9.45l-7.72 7.72c-.78.78-.78 2.05 0 2.83L4 21.41c.39.39.9.59 1.41.59.51 0 1.02-.2 1.41-.59l7.78-7.78 2.81-2.81c.8-.78.8-2.07 0-2.86zM5.41 20L4 18.59l7.72-7.72 1.47 1.35L5.41 20z\"/>\n",
              "  </svg>\n",
              "      </button>\n",
              "      \n",
              "  <style>\n",
              "    .colab-df-container {\n",
              "      display:flex;\n",
              "      flex-wrap:wrap;\n",
              "      gap: 12px;\n",
              "    }\n",
              "\n",
              "    .colab-df-convert {\n",
              "      background-color: #E8F0FE;\n",
              "      border: none;\n",
              "      border-radius: 50%;\n",
              "      cursor: pointer;\n",
              "      display: none;\n",
              "      fill: #1967D2;\n",
              "      height: 32px;\n",
              "      padding: 0 0 0 0;\n",
              "      width: 32px;\n",
              "    }\n",
              "\n",
              "    .colab-df-convert:hover {\n",
              "      background-color: #E2EBFA;\n",
              "      box-shadow: 0px 1px 2px rgba(60, 64, 67, 0.3), 0px 1px 3px 1px rgba(60, 64, 67, 0.15);\n",
              "      fill: #174EA6;\n",
              "    }\n",
              "\n",
              "    [theme=dark] .colab-df-convert {\n",
              "      background-color: #3B4455;\n",
              "      fill: #D2E3FC;\n",
              "    }\n",
              "\n",
              "    [theme=dark] .colab-df-convert:hover {\n",
              "      background-color: #434B5C;\n",
              "      box-shadow: 0px 1px 3px 1px rgba(0, 0, 0, 0.15);\n",
              "      filter: drop-shadow(0px 1px 2px rgba(0, 0, 0, 0.3));\n",
              "      fill: #FFFFFF;\n",
              "    }\n",
              "  </style>\n",
              "\n",
              "      <script>\n",
              "        const buttonEl =\n",
              "          document.querySelector('#df-6f25f1da-4bef-42ff-b554-7dea1a055cef button.colab-df-convert');\n",
              "        buttonEl.style.display =\n",
              "          google.colab.kernel.accessAllowed ? 'block' : 'none';\n",
              "\n",
              "        async function convertToInteractive(key) {\n",
              "          const element = document.querySelector('#df-6f25f1da-4bef-42ff-b554-7dea1a055cef');\n",
              "          const dataTable =\n",
              "            await google.colab.kernel.invokeFunction('convertToInteractive',\n",
              "                                                     [key], {});\n",
              "          if (!dataTable) return;\n",
              "\n",
              "          const docLinkHtml = 'Like what you see? Visit the ' +\n",
              "            '<a target=\"_blank\" href=https://colab.research.google.com/notebooks/data_table.ipynb>data table notebook</a>'\n",
              "            + ' to learn more about interactive tables.';\n",
              "          element.innerHTML = '';\n",
              "          dataTable['output_type'] = 'display_data';\n",
              "          await google.colab.output.renderOutput(dataTable, element);\n",
              "          const docLink = document.createElement('div');\n",
              "          docLink.innerHTML = docLinkHtml;\n",
              "          element.appendChild(docLink);\n",
              "        }\n",
              "      </script>\n",
              "    </div>\n",
              "  </div>\n",
              "  "
            ]
          },
          "metadata": {},
          "execution_count": 17
        }
      ]
    },
    {
      "cell_type": "code",
      "source": [
        "from nltk.stem import PorterStemmer\n",
        "\n",
        "def porter_stemmer(text):\n",
        "    \"\"\"\n",
        "        Stem words in list of tokenized words with PorterStemmer\n",
        "    \"\"\"\n",
        "    stemmer = nltk.PorterStemmer()\n",
        "    stems = [stemmer.stem(i) for i in text]\n",
        "    return stems"
      ],
      "metadata": {
        "id": "TFXjM6k4mdPC"
      },
      "execution_count": null,
      "outputs": []
    },
    {
      "cell_type": "code",
      "source": [
        "%time \n",
        "# stemming\n",
        "train_df['porter_stemmer'] = train_df['stopwords_removed'].apply(lambda x: porter_stemmer(x))\n",
        "print(train_df['porter_stemmer'][1])\n",
        "print(train_df['stopwords_removed'][1])\n",
        "\n",
        "#train_df.head()"
      ],
      "metadata": {
        "colab": {
          "base_uri": "https://localhost:8080/"
        },
        "id": "9ldcg-_GmiRl",
        "outputId": "9850d586-9ef0-43a4-ea96-3ad38cbf1c7e"
      },
      "execution_count": null,
      "outputs": [
        {
          "output_type": "stream",
          "name": "stdout",
          "text": [
            "CPU times: user 0 ns, sys: 4 µs, total: 4 µs\n",
            "Wall time: 8.11 µs\n",
            "['ok', 'lar', 'joke', 'wif', 'oni']\n",
            "['ok', 'lar', 'joking', 'wif', 'oni']\n"
          ]
        }
      ]
    },
    {
      "cell_type": "code",
      "source": [
        "from nltk.stem import SnowballStemmer\n",
        "\n",
        "def snowball_stemmer(text):\n",
        "    \"\"\"\n",
        "        Stem words in list of tokenized words with SnowballStemmer\n",
        "    \"\"\"\n",
        "    stemmer = nltk.SnowballStemmer(\"english\")\n",
        "    stems = [stemmer.stem(i) for i in text]\n",
        "    return stems"
      ],
      "metadata": {
        "id": "ggnrc8ibmqtw"
      },
      "execution_count": null,
      "outputs": []
    },
    {
      "cell_type": "code",
      "source": [
        "%time \n",
        "\n",
        "train_df['snowball_stemmer'] = train_df['stopwords_removed'].apply(lambda x: snowball_stemmer(x))\n",
        "print(train_df['snowball_stemmer'][3])\n",
        "print(train_df['stopwords_removed'][3])\n",
        "print(train_df['snowball_stemmer'][76])\n",
        "print(train_df['stopwords_removed'][76])\n",
        "print(train_df['snowball_stemmer'][32])\n",
        "print(train_df['stopwords_removed'][32])\n",
        "#train_df.head()"
      ],
      "metadata": {
        "colab": {
          "base_uri": "https://localhost:8080/"
        },
        "id": "OaVlNPs1mtOu",
        "outputId": "df6b1b46-1a3d-4bae-a142-a03d452d4e5f"
      },
      "execution_count": null,
      "outputs": [
        {
          "output_type": "stream",
          "name": "stdout",
          "text": [
            "CPU times: user 2 µs, sys: 0 ns, total: 2 µs\n",
            "Wall time: 5.72 µs\n",
            "['dun', 'say', 'earli', 'hor', 'c', 'alreadi', 'say']\n",
            "['dun', 'say', 'early', 'hor', 'c', 'already', 'say']\n",
            "['cool', 'gentleman', 'treat', 'digniti', 'respect']\n",
            "['cool', 'gentleman', 'treat', 'dignity', 'respect']\n",
            "['k', 'tell', 'anyth']\n",
            "['k', 'tell', 'anything']\n"
          ]
        }
      ]
    },
    {
      "cell_type": "code",
      "source": [
        "from nltk.stem import LancasterStemmer\n",
        "\n",
        "def lancaster_stemmer(text):\n",
        "    \"\"\"\n",
        "        Stem words in list of tokenized words with LancasterStemmer\n",
        "    \"\"\"\n",
        "    stemmer = nltk.LancasterStemmer()\n",
        "    stems = [stemmer.stem(i) for i in text]\n",
        "    return stems"
      ],
      "metadata": {
        "id": "uEd254P7m4dv"
      },
      "execution_count": null,
      "outputs": []
    },
    {
      "cell_type": "code",
      "source": [
        "%time \n",
        "\n",
        "train_df['lancaster_stemmer'] = train_df['stopwords_removed'].apply(lambda x: lancaster_stemmer(x))\n",
        "print(train_df['lancaster_stemmer'][3])\n",
        "print(train_df['stopwords_removed'][3])\n",
        "print(train_df['lancaster_stemmer'][76])\n",
        "print(train_df['stopwords_removed'][76])\n",
        "print(train_df['lancaster_stemmer'][32])\n",
        "print(train_df['stopwords_removed'][32])\n",
        "#train_df.head()"
      ],
      "metadata": {
        "colab": {
          "base_uri": "https://localhost:8080/"
        },
        "id": "gX1ACdpWm4nG",
        "outputId": "4bb52489-6f0e-44c8-f59f-6492ad8f111e"
      },
      "execution_count": null,
      "outputs": [
        {
          "output_type": "stream",
          "name": "stdout",
          "text": [
            "CPU times: user 13 µs, sys: 1 µs, total: 14 µs\n",
            "Wall time: 20 µs\n",
            "['dun', 'say', 'ear', 'hor', 'c', 'already', 'say']\n",
            "['dun', 'say', 'early', 'hor', 'c', 'already', 'say']\n",
            "['cool', 'gentlem', 'tre', 'dign', 'respect']\n",
            "['cool', 'gentleman', 'treat', 'dignity', 'respect']\n",
            "['k', 'tel', 'anyth']\n",
            "['k', 'tell', 'anything']\n"
          ]
        }
      ]
    },
    {
      "cell_type": "code",
      "source": [
        "nltk.download('wordnet')\n",
        "nltk.download('brown')"
      ],
      "metadata": {
        "colab": {
          "base_uri": "https://localhost:8080/"
        },
        "id": "KL1MT-2XnTwF",
        "outputId": "1774f4e8-845a-4aa9-f62c-d79c71110f24"
      },
      "execution_count": null,
      "outputs": [
        {
          "output_type": "stream",
          "name": "stdout",
          "text": [
            "[nltk_data] Downloading package wordnet to /root/nltk_data...\n",
            "[nltk_data]   Unzipping corpora/wordnet.zip.\n",
            "[nltk_data] Downloading package brown to /root/nltk_data...\n",
            "[nltk_data]   Unzipping corpora/brown.zip.\n"
          ]
        },
        {
          "output_type": "execute_result",
          "data": {
            "text/plain": [
              "True"
            ]
          },
          "metadata": {},
          "execution_count": 24
        }
      ]
    },
    {
      "cell_type": "code",
      "source": [
        "from nltk.corpus import wordnet\n",
        "from nltk.corpus import brown\n",
        "\n",
        "wordnet_map = {\"N\":wordnet.NOUN, \n",
        "               \"V\":wordnet.VERB, \n",
        "               \"J\":wordnet.ADJ, \n",
        "               \"R\":wordnet.ADV\n",
        "              }\n",
        "    \n",
        "train_sents = brown.tagged_sents(categories='news')\n",
        "t0 = nltk.DefaultTagger('NN')\n",
        "t1 = nltk.UnigramTagger(train_sents, backoff=t0)\n",
        "t2 = nltk.BigramTagger(train_sents, backoff=t1)\n",
        "\n",
        "def pos_tag_wordnet(text, pos_tag_type=\"pos_tag\"):\n",
        "    \"\"\"\n",
        "        Create pos_tag with wordnet format\n",
        "    \"\"\"\n",
        "    pos_tagged_text = t2.tag(text)\n",
        "    \n",
        "    # map the pos tagging output with wordnet output \n",
        "    pos_tagged_text = [(word, wordnet_map.get(pos_tag[0])) if pos_tag[0] in wordnet_map.keys() else (word, wordnet.NOUN) for (word, pos_tag) in pos_tagged_text ]\n",
        "    return pos_tagged_text"
      ],
      "metadata": {
        "id": "uNZStUg4nNls"
      },
      "execution_count": null,
      "outputs": []
    },
    {
      "cell_type": "code",
      "source": [
        "pos_tag_wordnet(train_df['stopwords_removed'][123])\n"
      ],
      "metadata": {
        "colab": {
          "base_uri": "https://localhost:8080/"
        },
        "id": "mCVEZif8nfiw",
        "outputId": "3049813a-a04d-48b2-ce7b-7da4644ceb1b"
      },
      "execution_count": null,
      "outputs": [
        {
          "output_type": "execute_result",
          "data": {
            "text/plain": [
              "[('todays', 'n'),\n",
              " ('voda', 'n'),\n",
              " ('numbers', 'n'),\n",
              " ('ending', 'v'),\n",
              " ('selected', 'v'),\n",
              " ('receive', 'v'),\n",
              " ('award', 'n'),\n",
              " ('match', 'v'),\n",
              " ('please', 'v'),\n",
              " ('call', 'v'),\n",
              " ('quoting', 'n'),\n",
              " ('claim', 'n'),\n",
              " ('code', 'n'),\n",
              " ('standard', 'a'),\n",
              " ('rates', 'n'),\n",
              " ('app', 'n')]"
            ]
          },
          "metadata": {},
          "execution_count": 27
        }
      ]
    },
    {
      "cell_type": "code",
      "source": [
        "%time \n",
        "\n",
        "train_df['combined_postag_wnet'] = train_df['stopwords_removed'].apply(lambda x: pos_tag_wordnet(x))\n",
        "\n",
        "train_df.head()"
      ],
      "metadata": {
        "colab": {
          "base_uri": "https://localhost:8080/",
          "height": 510
        },
        "id": "QJitBCHqntV8",
        "outputId": "02ebff43-e568-4157-ca3f-2257e7608fdc"
      },
      "execution_count": null,
      "outputs": [
        {
          "output_type": "stream",
          "name": "stdout",
          "text": [
            "CPU times: user 3 µs, sys: 0 ns, total: 3 µs\n",
            "Wall time: 6.2 µs\n"
          ]
        },
        {
          "output_type": "execute_result",
          "data": {
            "text/plain": [
              "  Category                                            Message  \\\n",
              "0      ham  Go until jurong point, crazy.. Available only ...   \n",
              "1      ham                      Ok lar... Joking wif u oni...   \n",
              "2     spam  Free entry in 2 a wkly comp to win FA Cup fina...   \n",
              "3      ham  U dun say so early hor... U c already then say...   \n",
              "4      ham  Nah I don't think he goes to usf, he lives aro...   \n",
              "\n",
              "                                       message_clean  \\\n",
              "0  go until jurong point crazy available only in ...   \n",
              "1                          ok lar joking wif you oni   \n",
              "2  free entry in  a wkly comp to win fa cup final...   \n",
              "3    you dun say so early hor you c already then say   \n",
              "4  nah i do not think he goes to usf he lives aro...   \n",
              "\n",
              "                                           tokenized  \\\n",
              "0  [go, until, jurong, point, crazy, available, o...   \n",
              "1                   [ok, lar, joking, wif, you, oni]   \n",
              "2  [free, entry, in, a, wkly, comp, to, win, fa, ...   \n",
              "3  [you, dun, say, so, early, hor, you, c, alread...   \n",
              "4  [nah, i, do, not, think, he, goes, to, usf, he...   \n",
              "\n",
              "                                   stopwords_removed  \\\n",
              "0  [go, jurong, point, crazy, available, bugis, n...   \n",
              "1                        [ok, lar, joking, wif, oni]   \n",
              "2  [free, entry, wkly, comp, win, fa, cup, final,...   \n",
              "3            [dun, say, early, hor, c, already, say]   \n",
              "4     [nah, think, goes, usf, lives, around, though]   \n",
              "\n",
              "                                      porter_stemmer  \\\n",
              "0  [go, jurong, point, crazi, avail, bugi, n, gre...   \n",
              "1                          [ok, lar, joke, wif, oni]   \n",
              "2  [free, entri, wkli, comp, win, fa, cup, final,...   \n",
              "3            [dun, say, earli, hor, c, alreadi, say]   \n",
              "4       [nah, think, goe, usf, live, around, though]   \n",
              "\n",
              "                                    snowball_stemmer  \\\n",
              "0  [go, jurong, point, crazi, avail, bugi, n, gre...   \n",
              "1                          [ok, lar, joke, wif, oni]   \n",
              "2  [free, entri, wkli, comp, win, fa, cup, final,...   \n",
              "3            [dun, say, earli, hor, c, alreadi, say]   \n",
              "4       [nah, think, goe, usf, live, around, though]   \n",
              "\n",
              "                                   lancaster_stemmer  \\\n",
              "0  [go, jurong, point, crazy, avail, bug, n, gre,...   \n",
              "1                            [ok, lar, jok, wif, on]   \n",
              "2  [fre, entry, wkly, comp, win, fa, cup, fin, tk...   \n",
              "3              [dun, say, ear, hor, c, already, say]   \n",
              "4        [nah, think, goe, usf, liv, around, though]   \n",
              "\n",
              "                                combined_postag_wnet  \n",
              "0  [(go, v), (jurong, n), (point, n), (crazy, a),...  \n",
              "1  [(ok, n), (lar, n), (joking, n), (wif, n), (on...  \n",
              "2  [(free, a), (entry, n), (wkly, n), (comp, n), ...  \n",
              "3  [(dun, n), (say, v), (early, r), (hor, n), (c,...  \n",
              "4  [(nah, n), (think, v), (goes, v), (usf, n), (l...  "
            ],
            "text/html": [
              "\n",
              "  <div id=\"df-e3c576ca-4c29-4367-b898-559277594eaf\">\n",
              "    <div class=\"colab-df-container\">\n",
              "      <div>\n",
              "<style scoped>\n",
              "    .dataframe tbody tr th:only-of-type {\n",
              "        vertical-align: middle;\n",
              "    }\n",
              "\n",
              "    .dataframe tbody tr th {\n",
              "        vertical-align: top;\n",
              "    }\n",
              "\n",
              "    .dataframe thead th {\n",
              "        text-align: right;\n",
              "    }\n",
              "</style>\n",
              "<table border=\"1\" class=\"dataframe\">\n",
              "  <thead>\n",
              "    <tr style=\"text-align: right;\">\n",
              "      <th></th>\n",
              "      <th>Category</th>\n",
              "      <th>Message</th>\n",
              "      <th>message_clean</th>\n",
              "      <th>tokenized</th>\n",
              "      <th>stopwords_removed</th>\n",
              "      <th>porter_stemmer</th>\n",
              "      <th>snowball_stemmer</th>\n",
              "      <th>lancaster_stemmer</th>\n",
              "      <th>combined_postag_wnet</th>\n",
              "    </tr>\n",
              "  </thead>\n",
              "  <tbody>\n",
              "    <tr>\n",
              "      <th>0</th>\n",
              "      <td>ham</td>\n",
              "      <td>Go until jurong point, crazy.. Available only ...</td>\n",
              "      <td>go until jurong point crazy available only in ...</td>\n",
              "      <td>[go, until, jurong, point, crazy, available, o...</td>\n",
              "      <td>[go, jurong, point, crazy, available, bugis, n...</td>\n",
              "      <td>[go, jurong, point, crazi, avail, bugi, n, gre...</td>\n",
              "      <td>[go, jurong, point, crazi, avail, bugi, n, gre...</td>\n",
              "      <td>[go, jurong, point, crazy, avail, bug, n, gre,...</td>\n",
              "      <td>[(go, v), (jurong, n), (point, n), (crazy, a),...</td>\n",
              "    </tr>\n",
              "    <tr>\n",
              "      <th>1</th>\n",
              "      <td>ham</td>\n",
              "      <td>Ok lar... Joking wif u oni...</td>\n",
              "      <td>ok lar joking wif you oni</td>\n",
              "      <td>[ok, lar, joking, wif, you, oni]</td>\n",
              "      <td>[ok, lar, joking, wif, oni]</td>\n",
              "      <td>[ok, lar, joke, wif, oni]</td>\n",
              "      <td>[ok, lar, joke, wif, oni]</td>\n",
              "      <td>[ok, lar, jok, wif, on]</td>\n",
              "      <td>[(ok, n), (lar, n), (joking, n), (wif, n), (on...</td>\n",
              "    </tr>\n",
              "    <tr>\n",
              "      <th>2</th>\n",
              "      <td>spam</td>\n",
              "      <td>Free entry in 2 a wkly comp to win FA Cup fina...</td>\n",
              "      <td>free entry in  a wkly comp to win fa cup final...</td>\n",
              "      <td>[free, entry, in, a, wkly, comp, to, win, fa, ...</td>\n",
              "      <td>[free, entry, wkly, comp, win, fa, cup, final,...</td>\n",
              "      <td>[free, entri, wkli, comp, win, fa, cup, final,...</td>\n",
              "      <td>[free, entri, wkli, comp, win, fa, cup, final,...</td>\n",
              "      <td>[fre, entry, wkly, comp, win, fa, cup, fin, tk...</td>\n",
              "      <td>[(free, a), (entry, n), (wkly, n), (comp, n), ...</td>\n",
              "    </tr>\n",
              "    <tr>\n",
              "      <th>3</th>\n",
              "      <td>ham</td>\n",
              "      <td>U dun say so early hor... U c already then say...</td>\n",
              "      <td>you dun say so early hor you c already then say</td>\n",
              "      <td>[you, dun, say, so, early, hor, you, c, alread...</td>\n",
              "      <td>[dun, say, early, hor, c, already, say]</td>\n",
              "      <td>[dun, say, earli, hor, c, alreadi, say]</td>\n",
              "      <td>[dun, say, earli, hor, c, alreadi, say]</td>\n",
              "      <td>[dun, say, ear, hor, c, already, say]</td>\n",
              "      <td>[(dun, n), (say, v), (early, r), (hor, n), (c,...</td>\n",
              "    </tr>\n",
              "    <tr>\n",
              "      <th>4</th>\n",
              "      <td>ham</td>\n",
              "      <td>Nah I don't think he goes to usf, he lives aro...</td>\n",
              "      <td>nah i do not think he goes to usf he lives aro...</td>\n",
              "      <td>[nah, i, do, not, think, he, goes, to, usf, he...</td>\n",
              "      <td>[nah, think, goes, usf, lives, around, though]</td>\n",
              "      <td>[nah, think, goe, usf, live, around, though]</td>\n",
              "      <td>[nah, think, goe, usf, live, around, though]</td>\n",
              "      <td>[nah, think, goe, usf, liv, around, though]</td>\n",
              "      <td>[(nah, n), (think, v), (goes, v), (usf, n), (l...</td>\n",
              "    </tr>\n",
              "  </tbody>\n",
              "</table>\n",
              "</div>\n",
              "      <button class=\"colab-df-convert\" onclick=\"convertToInteractive('df-e3c576ca-4c29-4367-b898-559277594eaf')\"\n",
              "              title=\"Convert this dataframe to an interactive table.\"\n",
              "              style=\"display:none;\">\n",
              "        \n",
              "  <svg xmlns=\"http://www.w3.org/2000/svg\" height=\"24px\"viewBox=\"0 0 24 24\"\n",
              "       width=\"24px\">\n",
              "    <path d=\"M0 0h24v24H0V0z\" fill=\"none\"/>\n",
              "    <path d=\"M18.56 5.44l.94 2.06.94-2.06 2.06-.94-2.06-.94-.94-2.06-.94 2.06-2.06.94zm-11 1L8.5 8.5l.94-2.06 2.06-.94-2.06-.94L8.5 2.5l-.94 2.06-2.06.94zm10 10l.94 2.06.94-2.06 2.06-.94-2.06-.94-.94-2.06-.94 2.06-2.06.94z\"/><path d=\"M17.41 7.96l-1.37-1.37c-.4-.4-.92-.59-1.43-.59-.52 0-1.04.2-1.43.59L10.3 9.45l-7.72 7.72c-.78.78-.78 2.05 0 2.83L4 21.41c.39.39.9.59 1.41.59.51 0 1.02-.2 1.41-.59l7.78-7.78 2.81-2.81c.8-.78.8-2.07 0-2.86zM5.41 20L4 18.59l7.72-7.72 1.47 1.35L5.41 20z\"/>\n",
              "  </svg>\n",
              "      </button>\n",
              "      \n",
              "  <style>\n",
              "    .colab-df-container {\n",
              "      display:flex;\n",
              "      flex-wrap:wrap;\n",
              "      gap: 12px;\n",
              "    }\n",
              "\n",
              "    .colab-df-convert {\n",
              "      background-color: #E8F0FE;\n",
              "      border: none;\n",
              "      border-radius: 50%;\n",
              "      cursor: pointer;\n",
              "      display: none;\n",
              "      fill: #1967D2;\n",
              "      height: 32px;\n",
              "      padding: 0 0 0 0;\n",
              "      width: 32px;\n",
              "    }\n",
              "\n",
              "    .colab-df-convert:hover {\n",
              "      background-color: #E2EBFA;\n",
              "      box-shadow: 0px 1px 2px rgba(60, 64, 67, 0.3), 0px 1px 3px 1px rgba(60, 64, 67, 0.15);\n",
              "      fill: #174EA6;\n",
              "    }\n",
              "\n",
              "    [theme=dark] .colab-df-convert {\n",
              "      background-color: #3B4455;\n",
              "      fill: #D2E3FC;\n",
              "    }\n",
              "\n",
              "    [theme=dark] .colab-df-convert:hover {\n",
              "      background-color: #434B5C;\n",
              "      box-shadow: 0px 1px 3px 1px rgba(0, 0, 0, 0.15);\n",
              "      filter: drop-shadow(0px 1px 2px rgba(0, 0, 0, 0.3));\n",
              "      fill: #FFFFFF;\n",
              "    }\n",
              "  </style>\n",
              "\n",
              "      <script>\n",
              "        const buttonEl =\n",
              "          document.querySelector('#df-e3c576ca-4c29-4367-b898-559277594eaf button.colab-df-convert');\n",
              "        buttonEl.style.display =\n",
              "          google.colab.kernel.accessAllowed ? 'block' : 'none';\n",
              "\n",
              "        async function convertToInteractive(key) {\n",
              "          const element = document.querySelector('#df-e3c576ca-4c29-4367-b898-559277594eaf');\n",
              "          const dataTable =\n",
              "            await google.colab.kernel.invokeFunction('convertToInteractive',\n",
              "                                                     [key], {});\n",
              "          if (!dataTable) return;\n",
              "\n",
              "          const docLinkHtml = 'Like what you see? Visit the ' +\n",
              "            '<a target=\"_blank\" href=https://colab.research.google.com/notebooks/data_table.ipynb>data table notebook</a>'\n",
              "            + ' to learn more about interactive tables.';\n",
              "          element.innerHTML = '';\n",
              "          dataTable['output_type'] = 'display_data';\n",
              "          await google.colab.output.renderOutput(dataTable, element);\n",
              "          const docLink = document.createElement('div');\n",
              "          docLink.innerHTML = docLinkHtml;\n",
              "          element.appendChild(docLink);\n",
              "        }\n",
              "      </script>\n",
              "    </div>\n",
              "  </div>\n",
              "  "
            ]
          },
          "metadata": {},
          "execution_count": 28
        }
      ]
    },
    {
      "cell_type": "code",
      "source": [
        "from nltk.stem import WordNetLemmatizer\n",
        "\n",
        "def lemmatize_word(text):\n",
        "    \"\"\"\n",
        "        Lemmatize the tokenized words\n",
        "    \"\"\"\n",
        "\n",
        "    lemmatizer = WordNetLemmatizer()\n",
        "    lemma = [lemmatizer.lemmatize(word, tag) for word, tag in text]\n",
        "    return lemma"
      ],
      "metadata": {
        "id": "lXKLYFtTntdc"
      },
      "execution_count": null,
      "outputs": []
    },
    {
      "cell_type": "code",
      "source": [
        "%time \n",
        "\n",
        "# Test without POS Tagging\n",
        "lemmatizer = WordNetLemmatizer()\n",
        "\n",
        "train_df['lemmatize_word_wo_pos'] = train_df['stopwords_removed'].apply(lambda x: [lemmatizer.lemmatize(word) for word in x])\n",
        "train_df['lemmatize_word_wo_pos'] = train_df['lemmatize_word_wo_pos'].apply(lambda x: [word for word in x if word not in stop])\n",
        "#train_df.head()"
      ],
      "metadata": {
        "colab": {
          "base_uri": "https://localhost:8080/"
        },
        "id": "ietuTbWVn5i7",
        "outputId": "cab53df6-79e7-430b-c06f-171c455f67da"
      },
      "execution_count": null,
      "outputs": [
        {
          "output_type": "stream",
          "name": "stdout",
          "text": [
            "CPU times: user 2 µs, sys: 0 ns, total: 2 µs\n",
            "Wall time: 6.44 µs\n"
          ]
        }
      ]
    },
    {
      "cell_type": "code",
      "source": [
        "print(train_df[\"combined_postag_wnet\"][8])\n",
        "print(train_df[\"lemmatize_word_wo_pos\"][8])"
      ],
      "metadata": {
        "colab": {
          "base_uri": "https://localhost:8080/"
        },
        "id": "jDAloQXun-BN",
        "outputId": "33b242d4-ced5-4ac3-a3ae-363eea4acb61"
      },
      "execution_count": null,
      "outputs": [
        {
          "output_type": "stream",
          "name": "stdout",
          "text": [
            "[('winner', 'n'), ('valued', 'v'), ('network', 'n'), ('customer', 'n'), ('selected', 'v'), ('receivea', 'n'), ('prize', 'n'), ('reward', 'n'), ('claim', 'n'), ('call', 'v'), ('claim', 'n'), ('code', 'n'), ('kl', 'n'), ('valid', 'a'), ('hours', 'n')]\n",
            "['winner', 'valued', 'network', 'customer', 'selected', 'receivea', 'prize', 'reward', 'claim', 'call', 'claim', 'code', 'kl', 'valid', 'hour']\n"
          ]
        }
      ]
    },
    {
      "cell_type": "code",
      "source": [
        "%time \n",
        "\n",
        "# Test with POS Tagging\n",
        "lemmatizer = WordNetLemmatizer()\n",
        "\n",
        "train_df['lemmatize_word_w_pos'] = train_df['combined_postag_wnet'].apply(lambda x: lemmatize_word(x))\n",
        "train_df['lemmatize_word_w_pos'] = train_df['lemmatize_word_w_pos'].apply(lambda x: [word for word in x if word not in stop]) # double check to remove stop words\n",
        "train_df['lemmatize_text'] = [' '.join(map(str, l)) for l in train_df['lemmatize_word_w_pos']] # join back to text\n",
        "\n",
        "train_df.head()"
      ],
      "metadata": {
        "colab": {
          "base_uri": "https://localhost:8080/",
          "height": 756
        },
        "id": "cank0m87n-OZ",
        "outputId": "add9a4a7-9dce-4236-e25a-7af4bfeb6f79"
      },
      "execution_count": null,
      "outputs": [
        {
          "output_type": "stream",
          "name": "stdout",
          "text": [
            "CPU times: user 5 µs, sys: 0 ns, total: 5 µs\n",
            "Wall time: 9.54 µs\n"
          ]
        },
        {
          "output_type": "execute_result",
          "data": {
            "text/plain": [
              "  Category                                            Message  \\\n",
              "0      ham  Go until jurong point, crazy.. Available only ...   \n",
              "1      ham                      Ok lar... Joking wif u oni...   \n",
              "2     spam  Free entry in 2 a wkly comp to win FA Cup fina...   \n",
              "3      ham  U dun say so early hor... U c already then say...   \n",
              "4      ham  Nah I don't think he goes to usf, he lives aro...   \n",
              "\n",
              "                                       message_clean  \\\n",
              "0  go until jurong point crazy available only in ...   \n",
              "1                          ok lar joking wif you oni   \n",
              "2  free entry in  a wkly comp to win fa cup final...   \n",
              "3    you dun say so early hor you c already then say   \n",
              "4  nah i do not think he goes to usf he lives aro...   \n",
              "\n",
              "                                           tokenized  \\\n",
              "0  [go, until, jurong, point, crazy, available, o...   \n",
              "1                   [ok, lar, joking, wif, you, oni]   \n",
              "2  [free, entry, in, a, wkly, comp, to, win, fa, ...   \n",
              "3  [you, dun, say, so, early, hor, you, c, alread...   \n",
              "4  [nah, i, do, not, think, he, goes, to, usf, he...   \n",
              "\n",
              "                                   stopwords_removed  \\\n",
              "0  [go, jurong, point, crazy, available, bugis, n...   \n",
              "1                        [ok, lar, joking, wif, oni]   \n",
              "2  [free, entry, wkly, comp, win, fa, cup, final,...   \n",
              "3            [dun, say, early, hor, c, already, say]   \n",
              "4     [nah, think, goes, usf, lives, around, though]   \n",
              "\n",
              "                                      porter_stemmer  \\\n",
              "0  [go, jurong, point, crazi, avail, bugi, n, gre...   \n",
              "1                          [ok, lar, joke, wif, oni]   \n",
              "2  [free, entri, wkli, comp, win, fa, cup, final,...   \n",
              "3            [dun, say, earli, hor, c, alreadi, say]   \n",
              "4       [nah, think, goe, usf, live, around, though]   \n",
              "\n",
              "                                    snowball_stemmer  \\\n",
              "0  [go, jurong, point, crazi, avail, bugi, n, gre...   \n",
              "1                          [ok, lar, joke, wif, oni]   \n",
              "2  [free, entri, wkli, comp, win, fa, cup, final,...   \n",
              "3            [dun, say, earli, hor, c, alreadi, say]   \n",
              "4       [nah, think, goe, usf, live, around, though]   \n",
              "\n",
              "                                   lancaster_stemmer  \\\n",
              "0  [go, jurong, point, crazy, avail, bug, n, gre,...   \n",
              "1                            [ok, lar, jok, wif, on]   \n",
              "2  [fre, entry, wkly, comp, win, fa, cup, fin, tk...   \n",
              "3              [dun, say, ear, hor, c, already, say]   \n",
              "4        [nah, think, goe, usf, liv, around, though]   \n",
              "\n",
              "                                combined_postag_wnet  \\\n",
              "0  [(go, v), (jurong, n), (point, n), (crazy, a),...   \n",
              "1  [(ok, n), (lar, n), (joking, n), (wif, n), (on...   \n",
              "2  [(free, a), (entry, n), (wkly, n), (comp, n), ...   \n",
              "3  [(dun, n), (say, v), (early, r), (hor, n), (c,...   \n",
              "4  [(nah, n), (think, v), (goes, v), (usf, n), (l...   \n",
              "\n",
              "                               lemmatize_word_wo_pos  \\\n",
              "0  [go, jurong, point, crazy, available, bugis, n...   \n",
              "1                        [ok, lar, joking, wif, oni]   \n",
              "2  [free, entry, wkly, comp, win, fa, cup, final,...   \n",
              "3            [dun, say, early, hor, c, already, say]   \n",
              "4        [nah, think, go, usf, life, around, though]   \n",
              "\n",
              "                                lemmatize_word_w_pos  \\\n",
              "0  [go, jurong, point, crazy, available, bugis, n...   \n",
              "1                        [ok, lar, joking, wif, oni]   \n",
              "2  [free, entry, wkly, comp, win, fa, cup, final,...   \n",
              "3            [dun, say, early, hor, c, already, say]   \n",
              "4        [nah, think, go, usf, live, around, though]   \n",
              "\n",
              "                                      lemmatize_text  \n",
              "0  go jurong point crazy available bugis n great ...  \n",
              "1                              ok lar joking wif oni  \n",
              "2  free entry wkly comp win fa cup final tkts st ...  \n",
              "3                    dun say early hor c already say  \n",
              "4                nah think go usf live around though  "
            ],
            "text/html": [
              "\n",
              "  <div id=\"df-a9ba47ff-1095-4ac0-ac9f-6506269630b3\">\n",
              "    <div class=\"colab-df-container\">\n",
              "      <div>\n",
              "<style scoped>\n",
              "    .dataframe tbody tr th:only-of-type {\n",
              "        vertical-align: middle;\n",
              "    }\n",
              "\n",
              "    .dataframe tbody tr th {\n",
              "        vertical-align: top;\n",
              "    }\n",
              "\n",
              "    .dataframe thead th {\n",
              "        text-align: right;\n",
              "    }\n",
              "</style>\n",
              "<table border=\"1\" class=\"dataframe\">\n",
              "  <thead>\n",
              "    <tr style=\"text-align: right;\">\n",
              "      <th></th>\n",
              "      <th>Category</th>\n",
              "      <th>Message</th>\n",
              "      <th>message_clean</th>\n",
              "      <th>tokenized</th>\n",
              "      <th>stopwords_removed</th>\n",
              "      <th>porter_stemmer</th>\n",
              "      <th>snowball_stemmer</th>\n",
              "      <th>lancaster_stemmer</th>\n",
              "      <th>combined_postag_wnet</th>\n",
              "      <th>lemmatize_word_wo_pos</th>\n",
              "      <th>lemmatize_word_w_pos</th>\n",
              "      <th>lemmatize_text</th>\n",
              "    </tr>\n",
              "  </thead>\n",
              "  <tbody>\n",
              "    <tr>\n",
              "      <th>0</th>\n",
              "      <td>ham</td>\n",
              "      <td>Go until jurong point, crazy.. Available only ...</td>\n",
              "      <td>go until jurong point crazy available only in ...</td>\n",
              "      <td>[go, until, jurong, point, crazy, available, o...</td>\n",
              "      <td>[go, jurong, point, crazy, available, bugis, n...</td>\n",
              "      <td>[go, jurong, point, crazi, avail, bugi, n, gre...</td>\n",
              "      <td>[go, jurong, point, crazi, avail, bugi, n, gre...</td>\n",
              "      <td>[go, jurong, point, crazy, avail, bug, n, gre,...</td>\n",
              "      <td>[(go, v), (jurong, n), (point, n), (crazy, a),...</td>\n",
              "      <td>[go, jurong, point, crazy, available, bugis, n...</td>\n",
              "      <td>[go, jurong, point, crazy, available, bugis, n...</td>\n",
              "      <td>go jurong point crazy available bugis n great ...</td>\n",
              "    </tr>\n",
              "    <tr>\n",
              "      <th>1</th>\n",
              "      <td>ham</td>\n",
              "      <td>Ok lar... Joking wif u oni...</td>\n",
              "      <td>ok lar joking wif you oni</td>\n",
              "      <td>[ok, lar, joking, wif, you, oni]</td>\n",
              "      <td>[ok, lar, joking, wif, oni]</td>\n",
              "      <td>[ok, lar, joke, wif, oni]</td>\n",
              "      <td>[ok, lar, joke, wif, oni]</td>\n",
              "      <td>[ok, lar, jok, wif, on]</td>\n",
              "      <td>[(ok, n), (lar, n), (joking, n), (wif, n), (on...</td>\n",
              "      <td>[ok, lar, joking, wif, oni]</td>\n",
              "      <td>[ok, lar, joking, wif, oni]</td>\n",
              "      <td>ok lar joking wif oni</td>\n",
              "    </tr>\n",
              "    <tr>\n",
              "      <th>2</th>\n",
              "      <td>spam</td>\n",
              "      <td>Free entry in 2 a wkly comp to win FA Cup fina...</td>\n",
              "      <td>free entry in  a wkly comp to win fa cup final...</td>\n",
              "      <td>[free, entry, in, a, wkly, comp, to, win, fa, ...</td>\n",
              "      <td>[free, entry, wkly, comp, win, fa, cup, final,...</td>\n",
              "      <td>[free, entri, wkli, comp, win, fa, cup, final,...</td>\n",
              "      <td>[free, entri, wkli, comp, win, fa, cup, final,...</td>\n",
              "      <td>[fre, entry, wkly, comp, win, fa, cup, fin, tk...</td>\n",
              "      <td>[(free, a), (entry, n), (wkly, n), (comp, n), ...</td>\n",
              "      <td>[free, entry, wkly, comp, win, fa, cup, final,...</td>\n",
              "      <td>[free, entry, wkly, comp, win, fa, cup, final,...</td>\n",
              "      <td>free entry wkly comp win fa cup final tkts st ...</td>\n",
              "    </tr>\n",
              "    <tr>\n",
              "      <th>3</th>\n",
              "      <td>ham</td>\n",
              "      <td>U dun say so early hor... U c already then say...</td>\n",
              "      <td>you dun say so early hor you c already then say</td>\n",
              "      <td>[you, dun, say, so, early, hor, you, c, alread...</td>\n",
              "      <td>[dun, say, early, hor, c, already, say]</td>\n",
              "      <td>[dun, say, earli, hor, c, alreadi, say]</td>\n",
              "      <td>[dun, say, earli, hor, c, alreadi, say]</td>\n",
              "      <td>[dun, say, ear, hor, c, already, say]</td>\n",
              "      <td>[(dun, n), (say, v), (early, r), (hor, n), (c,...</td>\n",
              "      <td>[dun, say, early, hor, c, already, say]</td>\n",
              "      <td>[dun, say, early, hor, c, already, say]</td>\n",
              "      <td>dun say early hor c already say</td>\n",
              "    </tr>\n",
              "    <tr>\n",
              "      <th>4</th>\n",
              "      <td>ham</td>\n",
              "      <td>Nah I don't think he goes to usf, he lives aro...</td>\n",
              "      <td>nah i do not think he goes to usf he lives aro...</td>\n",
              "      <td>[nah, i, do, not, think, he, goes, to, usf, he...</td>\n",
              "      <td>[nah, think, goes, usf, lives, around, though]</td>\n",
              "      <td>[nah, think, goe, usf, live, around, though]</td>\n",
              "      <td>[nah, think, goe, usf, live, around, though]</td>\n",
              "      <td>[nah, think, goe, usf, liv, around, though]</td>\n",
              "      <td>[(nah, n), (think, v), (goes, v), (usf, n), (l...</td>\n",
              "      <td>[nah, think, go, usf, life, around, though]</td>\n",
              "      <td>[nah, think, go, usf, live, around, though]</td>\n",
              "      <td>nah think go usf live around though</td>\n",
              "    </tr>\n",
              "  </tbody>\n",
              "</table>\n",
              "</div>\n",
              "      <button class=\"colab-df-convert\" onclick=\"convertToInteractive('df-a9ba47ff-1095-4ac0-ac9f-6506269630b3')\"\n",
              "              title=\"Convert this dataframe to an interactive table.\"\n",
              "              style=\"display:none;\">\n",
              "        \n",
              "  <svg xmlns=\"http://www.w3.org/2000/svg\" height=\"24px\"viewBox=\"0 0 24 24\"\n",
              "       width=\"24px\">\n",
              "    <path d=\"M0 0h24v24H0V0z\" fill=\"none\"/>\n",
              "    <path d=\"M18.56 5.44l.94 2.06.94-2.06 2.06-.94-2.06-.94-.94-2.06-.94 2.06-2.06.94zm-11 1L8.5 8.5l.94-2.06 2.06-.94-2.06-.94L8.5 2.5l-.94 2.06-2.06.94zm10 10l.94 2.06.94-2.06 2.06-.94-2.06-.94-.94-2.06-.94 2.06-2.06.94z\"/><path d=\"M17.41 7.96l-1.37-1.37c-.4-.4-.92-.59-1.43-.59-.52 0-1.04.2-1.43.59L10.3 9.45l-7.72 7.72c-.78.78-.78 2.05 0 2.83L4 21.41c.39.39.9.59 1.41.59.51 0 1.02-.2 1.41-.59l7.78-7.78 2.81-2.81c.8-.78.8-2.07 0-2.86zM5.41 20L4 18.59l7.72-7.72 1.47 1.35L5.41 20z\"/>\n",
              "  </svg>\n",
              "      </button>\n",
              "      \n",
              "  <style>\n",
              "    .colab-df-container {\n",
              "      display:flex;\n",
              "      flex-wrap:wrap;\n",
              "      gap: 12px;\n",
              "    }\n",
              "\n",
              "    .colab-df-convert {\n",
              "      background-color: #E8F0FE;\n",
              "      border: none;\n",
              "      border-radius: 50%;\n",
              "      cursor: pointer;\n",
              "      display: none;\n",
              "      fill: #1967D2;\n",
              "      height: 32px;\n",
              "      padding: 0 0 0 0;\n",
              "      width: 32px;\n",
              "    }\n",
              "\n",
              "    .colab-df-convert:hover {\n",
              "      background-color: #E2EBFA;\n",
              "      box-shadow: 0px 1px 2px rgba(60, 64, 67, 0.3), 0px 1px 3px 1px rgba(60, 64, 67, 0.15);\n",
              "      fill: #174EA6;\n",
              "    }\n",
              "\n",
              "    [theme=dark] .colab-df-convert {\n",
              "      background-color: #3B4455;\n",
              "      fill: #D2E3FC;\n",
              "    }\n",
              "\n",
              "    [theme=dark] .colab-df-convert:hover {\n",
              "      background-color: #434B5C;\n",
              "      box-shadow: 0px 1px 3px 1px rgba(0, 0, 0, 0.15);\n",
              "      filter: drop-shadow(0px 1px 2px rgba(0, 0, 0, 0.3));\n",
              "      fill: #FFFFFF;\n",
              "    }\n",
              "  </style>\n",
              "\n",
              "      <script>\n",
              "        const buttonEl =\n",
              "          document.querySelector('#df-a9ba47ff-1095-4ac0-ac9f-6506269630b3 button.colab-df-convert');\n",
              "        buttonEl.style.display =\n",
              "          google.colab.kernel.accessAllowed ? 'block' : 'none';\n",
              "\n",
              "        async function convertToInteractive(key) {\n",
              "          const element = document.querySelector('#df-a9ba47ff-1095-4ac0-ac9f-6506269630b3');\n",
              "          const dataTable =\n",
              "            await google.colab.kernel.invokeFunction('convertToInteractive',\n",
              "                                                     [key], {});\n",
              "          if (!dataTable) return;\n",
              "\n",
              "          const docLinkHtml = 'Like what you see? Visit the ' +\n",
              "            '<a target=\"_blank\" href=https://colab.research.google.com/notebooks/data_table.ipynb>data table notebook</a>'\n",
              "            + ' to learn more about interactive tables.';\n",
              "          element.innerHTML = '';\n",
              "          dataTable['output_type'] = 'display_data';\n",
              "          await google.colab.output.renderOutput(dataTable, element);\n",
              "          const docLink = document.createElement('div');\n",
              "          docLink.innerHTML = docLinkHtml;\n",
              "          element.appendChild(docLink);\n",
              "        }\n",
              "      </script>\n",
              "    </div>\n",
              "  </div>\n",
              "  "
            ]
          },
          "metadata": {},
          "execution_count": 32
        }
      ]
    },
    {
      "cell_type": "code",
      "source": [
        "print(train_df[\"Message\"][8])\n",
        "print(train_df[\"combined_postag_wnet\"][8])\n",
        "print(train_df[\"lemmatize_word_wo_pos\"][8])\n",
        "print(train_df[\"lemmatize_word_w_pos\"][8])"
      ],
      "metadata": {
        "colab": {
          "base_uri": "https://localhost:8080/"
        },
        "id": "jeww9c1Mn-YX",
        "outputId": "e088c50c-f195-49af-c20f-3f8c49b75b71"
      },
      "execution_count": null,
      "outputs": [
        {
          "output_type": "stream",
          "name": "stdout",
          "text": [
            "WINNER!! As a valued network customer you have been selected to receivea £900 prize reward! To claim call 09061701461. Claim code KL341. Valid 12 hours only.\n",
            "[('winner', 'n'), ('valued', 'v'), ('network', 'n'), ('customer', 'n'), ('selected', 'v'), ('receivea', 'n'), ('prize', 'n'), ('reward', 'n'), ('claim', 'n'), ('call', 'v'), ('claim', 'n'), ('code', 'n'), ('kl', 'n'), ('valid', 'a'), ('hours', 'n')]\n",
            "['winner', 'valued', 'network', 'customer', 'selected', 'receivea', 'prize', 'reward', 'claim', 'call', 'claim', 'code', 'kl', 'valid', 'hour']\n",
            "['winner', 'value', 'network', 'customer', 'select', 'receivea', 'prize', 'reward', 'claim', 'call', 'claim', 'code', 'kl', 'valid', 'hour']\n"
          ]
        }
      ]
    },
    {
      "cell_type": "code",
      "source": [
        "display(train_df[\"Message\"][0], train_df[\"lemmatize_text\"][0])\n",
        "display(train_df[\"Message\"][5], train_df[\"lemmatize_text\"][5])\n",
        "display(train_df[\"Message\"][10], train_df[\"lemmatize_text\"][10])\n",
        "display(train_df[\"Message\"][15], train_df[\"lemmatize_text\"][15])\n",
        "display(train_df[\"Message\"][20], train_df[\"lemmatize_text\"][20])"
      ],
      "metadata": {
        "colab": {
          "base_uri": "https://localhost:8080/",
          "height": 199
        },
        "id": "fhaUS7PWn-dt",
        "outputId": "a6904c6e-1267-4046-8822-78bf4623497e"
      },
      "execution_count": null,
      "outputs": [
        {
          "output_type": "display_data",
          "data": {
            "text/plain": [
              "'Go until jurong point, crazy.. Available only in bugis n great world la e buffet... Cine there got amore wat...'"
            ],
            "application/vnd.google.colaboratory.intrinsic+json": {
              "type": "string"
            }
          },
          "metadata": {}
        },
        {
          "output_type": "display_data",
          "data": {
            "text/plain": [
              "'go jurong point crazy available bugis n great world la e buffet cine get amore wat'"
            ],
            "application/vnd.google.colaboratory.intrinsic+json": {
              "type": "string"
            }
          },
          "metadata": {}
        },
        {
          "output_type": "display_data",
          "data": {
            "text/plain": [
              "\"FreeMsg Hey there darling it's been 3 week's now and no word back! I'd like some fun you up for it still? Tb ok! XxX std chgs to send, £1.50 to rcv\""
            ],
            "application/vnd.google.colaboratory.intrinsic+json": {
              "type": "string"
            }
          },
          "metadata": {}
        },
        {
          "output_type": "display_data",
          "data": {
            "text/plain": [
              "'freemsg hey darling week word back would like fun still tb ok xxx std chgs send rcv'"
            ],
            "application/vnd.google.colaboratory.intrinsic+json": {
              "type": "string"
            }
          },
          "metadata": {}
        },
        {
          "output_type": "display_data",
          "data": {
            "text/plain": [
              "\"I'm gonna be home soon and i don't want to talk about this stuff anymore tonight, k? I've cried enough today.\""
            ],
            "application/vnd.google.colaboratory.intrinsic+json": {
              "type": "string"
            }
          },
          "metadata": {}
        },
        {
          "output_type": "display_data",
          "data": {
            "text/plain": [
              "'go home soon want talk stuff anymore tonight k cried enough today'"
            ],
            "application/vnd.google.colaboratory.intrinsic+json": {
              "type": "string"
            }
          },
          "metadata": {}
        },
        {
          "output_type": "display_data",
          "data": {
            "text/plain": [
              "'XXXMobileMovieClub: To use your credit, click the WAP link in the next txt message or click here>> http://wap. xxxmobilemovieclub.com?n=QJKGIGHJJGCBL'"
            ],
            "application/vnd.google.colaboratory.intrinsic+json": {
              "type": "string"
            }
          },
          "metadata": {}
        },
        {
          "output_type": "display_data",
          "data": {
            "text/plain": [
              "'xxxmobilemovieclub use credit click wap link next txt message click xxxmobilemovieclubcomnqjkgighjjgcbl'"
            ],
            "application/vnd.google.colaboratory.intrinsic+json": {
              "type": "string"
            }
          },
          "metadata": {}
        },
        {
          "output_type": "display_data",
          "data": {
            "text/plain": [
              "'Is that seriously how you spell his name?'"
            ],
            "application/vnd.google.colaboratory.intrinsic+json": {
              "type": "string"
            }
          },
          "metadata": {}
        },
        {
          "output_type": "display_data",
          "data": {
            "text/plain": [
              "'seriously spell name'"
            ],
            "application/vnd.google.colaboratory.intrinsic+json": {
              "type": "string"
            }
          },
          "metadata": {}
        }
      ]
    },
    {
      "cell_type": "code",
      "source": [
        "# Install the main polygot and other neccesary packages\n",
        "!pip install pyicu\n",
        "!pip install pycld2\n",
        "!pip install polyglot"
      ],
      "metadata": {
        "colab": {
          "base_uri": "https://localhost:8080/"
        },
        "id": "9jRBheFxoyJS",
        "outputId": "9422ab0c-d9f9-45a6-d07e-ac0403260563"
      },
      "execution_count": null,
      "outputs": [
        {
          "output_type": "stream",
          "name": "stdout",
          "text": [
            "Collecting pyicu\n",
            "  Downloading PyICU-2.9.tar.gz (305 kB)\n",
            "\u001b[?25l\r\u001b[K     |█                               | 10 kB 29.4 MB/s eta 0:00:01\r\u001b[K     |██▏                             | 20 kB 33.6 MB/s eta 0:00:01\r\u001b[K     |███▏                            | 30 kB 24.2 MB/s eta 0:00:01\r\u001b[K     |████▎                           | 40 kB 12.3 MB/s eta 0:00:01\r\u001b[K     |█████▍                          | 51 kB 11.1 MB/s eta 0:00:01\r\u001b[K     |██████▍                         | 61 kB 12.9 MB/s eta 0:00:01\r\u001b[K     |███████▌                        | 71 kB 13.0 MB/s eta 0:00:01\r\u001b[K     |████████▋                       | 81 kB 12.5 MB/s eta 0:00:01\r\u001b[K     |█████████▋                      | 92 kB 13.8 MB/s eta 0:00:01\r\u001b[K     |██████████▊                     | 102 kB 12.7 MB/s eta 0:00:01\r\u001b[K     |███████████▉                    | 112 kB 12.7 MB/s eta 0:00:01\r\u001b[K     |████████████▉                   | 122 kB 12.7 MB/s eta 0:00:01\r\u001b[K     |██████████████                  | 133 kB 12.7 MB/s eta 0:00:01\r\u001b[K     |███████████████                 | 143 kB 12.7 MB/s eta 0:00:01\r\u001b[K     |████████████████                | 153 kB 12.7 MB/s eta 0:00:01\r\u001b[K     |█████████████████▏              | 163 kB 12.7 MB/s eta 0:00:01\r\u001b[K     |██████████████████▎             | 174 kB 12.7 MB/s eta 0:00:01\r\u001b[K     |███████████████████▎            | 184 kB 12.7 MB/s eta 0:00:01\r\u001b[K     |████████████████████▍           | 194 kB 12.7 MB/s eta 0:00:01\r\u001b[K     |█████████████████████▌          | 204 kB 12.7 MB/s eta 0:00:01\r\u001b[K     |██████████████████████▌         | 215 kB 12.7 MB/s eta 0:00:01\r\u001b[K     |███████████████████████▋        | 225 kB 12.7 MB/s eta 0:00:01\r\u001b[K     |████████████████████████▊       | 235 kB 12.7 MB/s eta 0:00:01\r\u001b[K     |█████████████████████████▊      | 245 kB 12.7 MB/s eta 0:00:01\r\u001b[K     |██████████████████████████▉     | 256 kB 12.7 MB/s eta 0:00:01\r\u001b[K     |████████████████████████████    | 266 kB 12.7 MB/s eta 0:00:01\r\u001b[K     |█████████████████████████████   | 276 kB 12.7 MB/s eta 0:00:01\r\u001b[K     |██████████████████████████████  | 286 kB 12.7 MB/s eta 0:00:01\r\u001b[K     |███████████████████████████████▏| 296 kB 12.7 MB/s eta 0:00:01\r\u001b[K     |████████████████████████████████| 305 kB 12.7 MB/s \n",
            "\u001b[?25h  Installing build dependencies ... \u001b[?25l\u001b[?25hdone\n",
            "  Getting requirements to build wheel ... \u001b[?25l\u001b[?25hdone\n",
            "    Preparing wheel metadata ... \u001b[?25l\u001b[?25hdone\n",
            "Building wheels for collected packages: pyicu\n",
            "  Building wheel for pyicu (PEP 517) ... \u001b[?25l\u001b[?25hdone\n",
            "  Created wheel for pyicu: filename=PyICU-2.9-cp37-cp37m-linux_x86_64.whl size=1375714 sha256=0f3e5ee2ab25abcafcce5470ccc0e13c88df0d438e815221aecff06c501113be\n",
            "  Stored in directory: /root/.cache/pip/wheels/28/88/93/6c1b06361e4cbd4e7f793fb456729f69798f9aa3fc2a791cd7\n",
            "Successfully built pyicu\n",
            "Installing collected packages: pyicu\n",
            "Successfully installed pyicu-2.9\n",
            "Collecting pycld2\n",
            "  Downloading pycld2-0.41.tar.gz (41.4 MB)\n",
            "\u001b[K     |████████████████████████████████| 41.4 MB 1.3 MB/s \n",
            "\u001b[?25hBuilding wheels for collected packages: pycld2\n",
            "  Building wheel for pycld2 (setup.py) ... \u001b[?25l\u001b[?25hdone\n",
            "  Created wheel for pycld2: filename=pycld2-0.41-cp37-cp37m-linux_x86_64.whl size=9834322 sha256=1b682b971c6064afc14e7914b66e2eab2e39b55ca9b2b5245a2f1755848bbc74\n",
            "  Stored in directory: /root/.cache/pip/wheels/ed/e4/58/ed2e9f43c07d617cc81fe7aff0fc6e42b16c9cf6afe960b614\n",
            "Successfully built pycld2\n",
            "Installing collected packages: pycld2\n",
            "Successfully installed pycld2-0.41\n",
            "Collecting polyglot\n",
            "  Downloading polyglot-16.7.4.tar.gz (126 kB)\n",
            "\u001b[K     |████████████████████████████████| 126 kB 11.9 MB/s \n",
            "\u001b[?25hBuilding wheels for collected packages: polyglot\n",
            "  Building wheel for polyglot (setup.py) ... \u001b[?25l\u001b[?25hdone\n",
            "  Created wheel for polyglot: filename=polyglot-16.7.4-py2.py3-none-any.whl size=52577 sha256=d5b353793f4c5a2b47d69464879177c6eff40f3f41485cdec4a15eb0a3a979f6\n",
            "  Stored in directory: /root/.cache/pip/wheels/09/bc/67/75c9de8e9726460bc0b101ad225ad025cb8ce9e0759beb9d52\n",
            "Successfully built polyglot\n",
            "Installing collected packages: polyglot\n",
            "Successfully installed polyglot-16.7.4\n"
          ]
        }
      ]
    },
    {
      "cell_type": "code",
      "source": [
        "from sklearn.feature_extraction.text import CountVectorizer\n",
        "\n",
        "def cv(data, ngram = 1, MAX_NB_WORDS = 75000):\n",
        "    count_vectorizer = CountVectorizer(ngram_range = (ngram, ngram), max_features = MAX_NB_WORDS)\n",
        "    emb = count_vectorizer.fit_transform(data).toarray()\n",
        "    print(\"count vectorize with\", str(np.array(emb).shape[1]), \"features\")\n",
        "    return emb, count_vectorizer"
      ],
      "metadata": {
        "id": "OluEo_H-qwbt"
      },
      "execution_count": null,
      "outputs": []
    },
    {
      "cell_type": "code",
      "source": [
        "def print_out(emb, feat, ngram, compared_sentence=0):\n",
        "    print(ngram,\"bag-of-words: \")\n",
        "    print(feat.get_feature_names(), \"\\n\")\n",
        "    print(ngram,\"bag-of-feature: \")\n",
        "    print(test_cv_1gram.vocabulary_, \"\\n\")\n",
        "    print(\"BoW matrix:\")\n",
        "    print(pd.DataFrame(emb.transpose(), index = feat.get_feature_names()).head(), \"\\n\")\n",
        "    print(ngram,\"vector example:\")\n",
        "    print(train_df[\"lemmatize_text\"][compared_sentence])\n",
        "    print(emb[compared_sentence], \"\\n\")"
      ],
      "metadata": {
        "id": "gGpDVUXYq9pB"
      },
      "execution_count": null,
      "outputs": []
    },
    {
      "cell_type": "code",
      "source": [
        "test_corpus = train_df[\"lemmatize_text\"][:5].tolist()\n",
        "print(\"The test corpus: \", test_corpus, \"\\n\")\n",
        "\n",
        "test_cv_em_1gram, test_cv_1gram = cv(test_corpus, ngram=1)\n",
        "print_out(test_cv_em_1gram, test_cv_1gram, ngram=\"Uni-gram\")"
      ],
      "metadata": {
        "colab": {
          "base_uri": "https://localhost:8080/"
        },
        "id": "q-pdlfhprK3j",
        "outputId": "8c10056f-c183-4968-d851-023b9bdc1528"
      },
      "execution_count": null,
      "outputs": [
        {
          "output_type": "stream",
          "name": "stdout",
          "text": [
            "The test corpus:  ['go jurong point crazy available bugis n great world la e buffet cine get amore wat', 'ok lar joking wif oni', 'free entry wkly comp win fa cup final tkts st may text fa receive entry questionstd txt ratetcs apply', 'dun say early hor c already say', 'nah think go usf live around though'] \n",
            "\n",
            "count vectorize with 47 features\n",
            "Uni-gram bag-of-words: \n",
            "['already', 'amore', 'apply', 'around', 'available', 'buffet', 'bugis', 'cine', 'comp', 'crazy', 'cup', 'dun', 'early', 'entry', 'fa', 'final', 'free', 'get', 'go', 'great', 'hor', 'joking', 'jurong', 'la', 'lar', 'live', 'may', 'nah', 'ok', 'oni', 'point', 'questionstd', 'ratetcs', 'receive', 'say', 'st', 'text', 'think', 'though', 'tkts', 'txt', 'usf', 'wat', 'wif', 'win', 'wkly', 'world'] \n",
            "\n",
            "Uni-gram bag-of-feature: \n",
            "{'go': 18, 'jurong': 22, 'point': 30, 'crazy': 9, 'available': 4, 'bugis': 6, 'great': 19, 'world': 46, 'la': 23, 'buffet': 5, 'cine': 7, 'get': 17, 'amore': 1, 'wat': 42, 'ok': 28, 'lar': 24, 'joking': 21, 'wif': 43, 'oni': 29, 'free': 16, 'entry': 13, 'wkly': 45, 'comp': 8, 'win': 44, 'fa': 14, 'cup': 10, 'final': 15, 'tkts': 39, 'st': 35, 'may': 26, 'text': 36, 'receive': 33, 'questionstd': 31, 'txt': 40, 'ratetcs': 32, 'apply': 2, 'dun': 11, 'say': 34, 'early': 12, 'hor': 20, 'already': 0, 'nah': 27, 'think': 37, 'usf': 41, 'live': 25, 'around': 3, 'though': 38} \n",
            "\n",
            "BoW matrix:\n",
            "           0  1  2  3  4\n",
            "already    0  0  0  1  0\n",
            "amore      1  0  0  0  0\n",
            "apply      0  0  1  0  0\n",
            "around     0  0  0  0  1\n",
            "available  1  0  0  0  0 \n",
            "\n",
            "Uni-gram vector example:\n",
            "go jurong point crazy available bugis n great world la e buffet cine get amore wat\n",
            "[0 1 0 0 1 1 1 1 0 1 0 0 0 0 0 0 0 1 1 1 0 0 1 1 0 0 0 0 0 0 1 0 0 0 0 0 0\n",
            " 0 0 0 0 0 1 0 0 0 1] \n",
            "\n"
          ]
        },
        {
          "output_type": "stream",
          "name": "stderr",
          "text": [
            "/usr/local/lib/python3.7/dist-packages/sklearn/utils/deprecation.py:87: FutureWarning: Function get_feature_names is deprecated; get_feature_names is deprecated in 1.0 and will be removed in 1.2. Please use get_feature_names_out instead.\n",
            "  warnings.warn(msg, category=FutureWarning)\n"
          ]
        }
      ]
    },
    {
      "cell_type": "code",
      "source": [
        "test_cv_em_2gram, test_cv_2gram = cv(test_corpus, ngram=2)\n",
        "print_out(test_cv_em_2gram, test_cv_2gram, ngram=\"Bi-gram\")"
      ],
      "metadata": {
        "colab": {
          "base_uri": "https://localhost:8080/"
        },
        "id": "E3-_OJfWtWCd",
        "outputId": "6b1fd443-c84d-42be-96f5-6288298fce43"
      },
      "execution_count": null,
      "outputs": [
        {
          "output_type": "stream",
          "name": "stdout",
          "text": [
            "count vectorize with 46 features\n",
            "Bi-gram bag-of-words: \n",
            "['already say', 'amore wat', 'around though', 'available bugis', 'buffet cine', 'bugis great', 'cine get', 'comp win', 'crazy available', 'cup final', 'dun say', 'early hor', 'entry questionstd', 'entry wkly', 'fa cup', 'fa receive', 'final tkts', 'free entry', 'get amore', 'go jurong', 'go usf', 'great world', 'hor already', 'joking wif', 'jurong point', 'la buffet', 'lar joking', 'live around', 'may text', 'nah think', 'ok lar', 'point crazy', 'questionstd txt', 'ratetcs apply', 'receive entry', 'say early', 'st may', 'text fa', 'think go', 'tkts st', 'txt ratetcs', 'usf live', 'wif oni', 'win fa', 'wkly comp', 'world la'] \n",
            "\n",
            "Bi-gram bag-of-feature: \n",
            "{'go': 18, 'jurong': 22, 'point': 30, 'crazy': 9, 'available': 4, 'bugis': 6, 'great': 19, 'world': 46, 'la': 23, 'buffet': 5, 'cine': 7, 'get': 17, 'amore': 1, 'wat': 42, 'ok': 28, 'lar': 24, 'joking': 21, 'wif': 43, 'oni': 29, 'free': 16, 'entry': 13, 'wkly': 45, 'comp': 8, 'win': 44, 'fa': 14, 'cup': 10, 'final': 15, 'tkts': 39, 'st': 35, 'may': 26, 'text': 36, 'receive': 33, 'questionstd': 31, 'txt': 40, 'ratetcs': 32, 'apply': 2, 'dun': 11, 'say': 34, 'early': 12, 'hor': 20, 'already': 0, 'nah': 27, 'think': 37, 'usf': 41, 'live': 25, 'around': 3, 'though': 38} \n",
            "\n",
            "BoW matrix:\n",
            "                 0  1  2  3  4\n",
            "already say      0  0  0  1  0\n",
            "amore wat        1  0  0  0  0\n",
            "around though    0  0  0  0  1\n",
            "available bugis  1  0  0  0  0\n",
            "buffet cine      1  0  0  0  0 \n",
            "\n",
            "Bi-gram vector example:\n",
            "go jurong point crazy available bugis n great world la e buffet cine get amore wat\n",
            "[0 1 0 1 1 1 1 0 1 0 0 0 0 0 0 0 0 0 1 1 0 1 0 0 1 1 0 0 0 0 0 1 0 0 0 0 0\n",
            " 0 0 0 0 0 0 0 0 1] \n",
            "\n"
          ]
        },
        {
          "output_type": "stream",
          "name": "stderr",
          "text": [
            "/usr/local/lib/python3.7/dist-packages/sklearn/utils/deprecation.py:87: FutureWarning: Function get_feature_names is deprecated; get_feature_names is deprecated in 1.0 and will be removed in 1.2. Please use get_feature_names_out instead.\n",
            "  warnings.warn(msg, category=FutureWarning)\n"
          ]
        }
      ]
    },
    {
      "cell_type": "code",
      "source": [
        "test_cv_em_3gram, test_cv_3gram = cv(test_corpus, ngram=3)\n",
        "print_out(test_cv_em_2gram, test_cv_2gram, ngram=\"Tri-gram\")"
      ],
      "metadata": {
        "colab": {
          "base_uri": "https://localhost:8080/"
        },
        "id": "Bu8tiEG0thPY",
        "outputId": "5497d040-46cc-4319-c996-c06bfa416df6"
      },
      "execution_count": null,
      "outputs": [
        {
          "output_type": "stream",
          "name": "stdout",
          "text": [
            "count vectorize with 41 features\n",
            "Tri-gram bag-of-words: \n",
            "['already say', 'amore wat', 'around though', 'available bugis', 'buffet cine', 'bugis great', 'cine get', 'comp win', 'crazy available', 'cup final', 'dun say', 'early hor', 'entry questionstd', 'entry wkly', 'fa cup', 'fa receive', 'final tkts', 'free entry', 'get amore', 'go jurong', 'go usf', 'great world', 'hor already', 'joking wif', 'jurong point', 'la buffet', 'lar joking', 'live around', 'may text', 'nah think', 'ok lar', 'point crazy', 'questionstd txt', 'ratetcs apply', 'receive entry', 'say early', 'st may', 'text fa', 'think go', 'tkts st', 'txt ratetcs', 'usf live', 'wif oni', 'win fa', 'wkly comp', 'world la'] \n",
            "\n",
            "Tri-gram bag-of-feature: \n",
            "{'go': 18, 'jurong': 22, 'point': 30, 'crazy': 9, 'available': 4, 'bugis': 6, 'great': 19, 'world': 46, 'la': 23, 'buffet': 5, 'cine': 7, 'get': 17, 'amore': 1, 'wat': 42, 'ok': 28, 'lar': 24, 'joking': 21, 'wif': 43, 'oni': 29, 'free': 16, 'entry': 13, 'wkly': 45, 'comp': 8, 'win': 44, 'fa': 14, 'cup': 10, 'final': 15, 'tkts': 39, 'st': 35, 'may': 26, 'text': 36, 'receive': 33, 'questionstd': 31, 'txt': 40, 'ratetcs': 32, 'apply': 2, 'dun': 11, 'say': 34, 'early': 12, 'hor': 20, 'already': 0, 'nah': 27, 'think': 37, 'usf': 41, 'live': 25, 'around': 3, 'though': 38} \n",
            "\n",
            "BoW matrix:\n",
            "                 0  1  2  3  4\n",
            "already say      0  0  0  1  0\n",
            "amore wat        1  0  0  0  0\n",
            "around though    0  0  0  0  1\n",
            "available bugis  1  0  0  0  0\n",
            "buffet cine      1  0  0  0  0 \n",
            "\n",
            "Tri-gram vector example:\n",
            "go jurong point crazy available bugis n great world la e buffet cine get amore wat\n",
            "[0 1 0 1 1 1 1 0 1 0 0 0 0 0 0 0 0 0 1 1 0 1 0 0 1 1 0 0 0 0 0 1 0 0 0 0 0\n",
            " 0 0 0 0 0 0 0 0 1] \n",
            "\n"
          ]
        },
        {
          "output_type": "stream",
          "name": "stderr",
          "text": [
            "/usr/local/lib/python3.7/dist-packages/sklearn/utils/deprecation.py:87: FutureWarning: Function get_feature_names is deprecated; get_feature_names is deprecated in 1.0 and will be removed in 1.2. Please use get_feature_names_out instead.\n",
            "  warnings.warn(msg, category=FutureWarning)\n"
          ]
        }
      ]
    },
    {
      "cell_type": "code",
      "source": [
        "print(train_df[\"lemmatize_text\"][123])\n",
        "print(train_df[\"lemmatize_text\"][1223])\n",
        "print(train_df[\"lemmatize_text\"][2123])\n",
        "print(train_df[\"lemmatize_text\"][4123])"
      ],
      "metadata": {
        "colab": {
          "base_uri": "https://localhost:8080/"
        },
        "id": "7Fh1auMnFX7q",
        "outputId": "917edc22-c50a-48c8-a93c-0a95e01b48fb"
      },
      "execution_count": null,
      "outputs": [
        {
          "output_type": "stream",
          "name": "stdout",
          "text": [
            "today voda number end select receive award match please call quoting claim code standard rate app\n",
            "teach apps da come college\n",
            "know result\n",
            "doc prescribed morphine pain med enough wait mom bring med kick fast go try later\n"
          ]
        }
      ]
    },
    {
      "cell_type": "code",
      "source": [
        "%time \n",
        "\n",
        "# implement into the whole dataset\n",
        "train_df_corpus = train_df[\"lemmatize_text\"].tolist()\n",
        "\n",
        "train_df_em_1gram, vc_1gram = cv(train_df_corpus, 1)\n",
        "train_df_em_2gram, vc_2gram = cv(train_df_corpus, 2)\n",
        "train_df_em_3gram, vc_3gram = cv(train_df_corpus, 3)\n",
        "\n",
        "#print_out(train_df_em_1gram, vc_1gram, ngram=\"Uni-gram\")\n",
        "#print_out(train_df_em_2gram, vc_2gram, ngram=\"Bi-gram\")\n",
        "#print_out(train_df_em_3gram, vc_3gram, ngram=\"Tri-gram\")\n",
        "\n",
        "print(len(train_df_corpus))\n",
        "print(train_df_em_1gram.shape)\n",
        "print(train_df_em_2gram.shape)\n",
        "print(train_df_em_3gram.shape)"
      ],
      "metadata": {
        "colab": {
          "base_uri": "https://localhost:8080/"
        },
        "id": "ClgH2taUtn7C",
        "outputId": "c2a60003-a6bd-48b1-f5eb-ea4aa40b7f20"
      },
      "execution_count": null,
      "outputs": [
        {
          "output_type": "stream",
          "name": "stdout",
          "text": [
            "CPU times: user 2 µs, sys: 0 ns, total: 2 µs\n",
            "Wall time: 6.68 µs\n",
            "count vectorize with 7437 features\n",
            "count vectorize with 28343 features\n",
            "count vectorize with 28171 features\n",
            "5572\n",
            "(5572, 7437)\n",
            "(5572, 28343)\n",
            "(5572, 28171)\n"
          ]
        }
      ]
    },
    {
      "cell_type": "code",
      "source": [
        "del train_df_em_1gram, train_df_em_2gram, train_df_em_3gram\n",
        "\n"
      ],
      "metadata": {
        "id": "X2BftxGctyY8"
      },
      "execution_count": null,
      "outputs": []
    },
    {
      "cell_type": "code",
      "source": [
        "from sklearn.feature_extraction.text import TfidfVectorizer\n",
        "\n",
        "def TFIDF(data, ngram = 1, MAX_NB_WORDS = 75000):\n",
        "    tfidf_x = TfidfVectorizer(ngram_range = (ngram, ngram), max_features = MAX_NB_WORDS)\n",
        "    emb = tfidf_x.fit_transform(data).toarray()\n",
        "    print(\"tf-idf with\", str(np.array(emb).shape[1]), \"features\")\n",
        "    return emb, tfidf_x"
      ],
      "metadata": {
        "id": "49Is3cz3t6dC"
      },
      "execution_count": null,
      "outputs": []
    },
    {
      "cell_type": "code",
      "source": [
        "test_corpus = train_df[\"lemmatize_text\"][:5].tolist()\n",
        "print(\"The test corpus: \", test_corpus, \"\\n\")\n",
        "\n",
        "test_tfidf_em_1gram, test_tfidf_1gram = TFIDF(test_corpus, ngram=1)\n",
        "print_out(test_tfidf_em_1gram, test_tfidf_1gram, ngram=\"Uni-gram\")"
      ],
      "metadata": {
        "colab": {
          "base_uri": "https://localhost:8080/"
        },
        "id": "If_I-cAvuCpF",
        "outputId": "747d4f2b-4d14-4dc7-e46b-48fd63462f86"
      },
      "execution_count": null,
      "outputs": [
        {
          "output_type": "stream",
          "name": "stdout",
          "text": [
            "The test corpus:  ['go jurong point crazy available bugis n great world la e buffet cine get amore wat', 'ok lar joking wif oni', 'free entry wkly comp win fa cup final tkts st may text fa receive entry questionstd txt ratetcs apply', 'dun say early hor c already say', 'nah think go usf live around though'] \n",
            "\n",
            "tf-idf with 47 features\n",
            "Uni-gram bag-of-words: \n",
            "['already', 'amore', 'apply', 'around', 'available', 'buffet', 'bugis', 'cine', 'comp', 'crazy', 'cup', 'dun', 'early', 'entry', 'fa', 'final', 'free', 'get', 'go', 'great', 'hor', 'joking', 'jurong', 'la', 'lar', 'live', 'may', 'nah', 'ok', 'oni', 'point', 'questionstd', 'ratetcs', 'receive', 'say', 'st', 'text', 'think', 'though', 'tkts', 'txt', 'usf', 'wat', 'wif', 'win', 'wkly', 'world'] \n",
            "\n",
            "Uni-gram bag-of-feature: \n",
            "{'go': 18, 'jurong': 22, 'point': 30, 'crazy': 9, 'available': 4, 'bugis': 6, 'great': 19, 'world': 46, 'la': 23, 'buffet': 5, 'cine': 7, 'get': 17, 'amore': 1, 'wat': 42, 'ok': 28, 'lar': 24, 'joking': 21, 'wif': 43, 'oni': 29, 'free': 16, 'entry': 13, 'wkly': 45, 'comp': 8, 'win': 44, 'fa': 14, 'cup': 10, 'final': 15, 'tkts': 39, 'st': 35, 'may': 26, 'text': 36, 'receive': 33, 'questionstd': 31, 'txt': 40, 'ratetcs': 32, 'apply': 2, 'dun': 11, 'say': 34, 'early': 12, 'hor': 20, 'already': 0, 'nah': 27, 'think': 37, 'usf': 41, 'live': 25, 'around': 3, 'though': 38} \n",
            "\n",
            "BoW matrix:\n",
            "                  0    1         2         3         4\n",
            "already    0.000000  0.0  0.000000  0.353553  0.000000\n",
            "amore      0.270657  0.0  0.000000  0.000000  0.000000\n",
            "apply      0.000000  0.0  0.208514  0.000000  0.000000\n",
            "around     0.000000  0.0  0.000000  0.000000  0.387757\n",
            "available  0.270657  0.0  0.000000  0.000000  0.000000 \n",
            "\n",
            "Uni-gram vector example:\n",
            "go jurong point crazy available bugis n great world la e buffet cine get amore wat\n",
            "[0.         0.2706569  0.         0.         0.2706569  0.2706569\n",
            " 0.2706569  0.2706569  0.         0.2706569  0.         0.\n",
            " 0.         0.         0.         0.         0.         0.2706569\n",
            " 0.21836428 0.2706569  0.         0.         0.2706569  0.2706569\n",
            " 0.         0.         0.         0.         0.         0.\n",
            " 0.2706569  0.         0.         0.         0.         0.\n",
            " 0.         0.         0.         0.         0.         0.\n",
            " 0.2706569  0.         0.         0.         0.2706569 ] \n",
            "\n"
          ]
        },
        {
          "output_type": "stream",
          "name": "stderr",
          "text": [
            "/usr/local/lib/python3.7/dist-packages/sklearn/utils/deprecation.py:87: FutureWarning: Function get_feature_names is deprecated; get_feature_names is deprecated in 1.0 and will be removed in 1.2. Please use get_feature_names_out instead.\n",
            "  warnings.warn(msg, category=FutureWarning)\n"
          ]
        }
      ]
    },
    {
      "cell_type": "code",
      "source": [
        "test_tfidf_em_2gram, test_tfidf_2gram = TFIDF(test_corpus, ngram=2)\n",
        "print_out(test_tfidf_em_2gram, test_tfidf_2gram, ngram=\"Bi-gram\")"
      ],
      "metadata": {
        "colab": {
          "base_uri": "https://localhost:8080/"
        },
        "id": "1nnbC0gCuFKX",
        "outputId": "718e5d1a-e597-4b7e-902a-25a02f01c4c9"
      },
      "execution_count": null,
      "outputs": [
        {
          "output_type": "stream",
          "name": "stdout",
          "text": [
            "tf-idf with 46 features\n",
            "Bi-gram bag-of-words: \n",
            "['already say', 'amore wat', 'around though', 'available bugis', 'buffet cine', 'bugis great', 'cine get', 'comp win', 'crazy available', 'cup final', 'dun say', 'early hor', 'entry questionstd', 'entry wkly', 'fa cup', 'fa receive', 'final tkts', 'free entry', 'get amore', 'go jurong', 'go usf', 'great world', 'hor already', 'joking wif', 'jurong point', 'la buffet', 'lar joking', 'live around', 'may text', 'nah think', 'ok lar', 'point crazy', 'questionstd txt', 'ratetcs apply', 'receive entry', 'say early', 'st may', 'text fa', 'think go', 'tkts st', 'txt ratetcs', 'usf live', 'wif oni', 'win fa', 'wkly comp', 'world la'] \n",
            "\n",
            "Bi-gram bag-of-feature: \n",
            "{'go': 18, 'jurong': 22, 'point': 30, 'crazy': 9, 'available': 4, 'bugis': 6, 'great': 19, 'world': 46, 'la': 23, 'buffet': 5, 'cine': 7, 'get': 17, 'amore': 1, 'wat': 42, 'ok': 28, 'lar': 24, 'joking': 21, 'wif': 43, 'oni': 29, 'free': 16, 'entry': 13, 'wkly': 45, 'comp': 8, 'win': 44, 'fa': 14, 'cup': 10, 'final': 15, 'tkts': 39, 'st': 35, 'may': 26, 'text': 36, 'receive': 33, 'questionstd': 31, 'txt': 40, 'ratetcs': 32, 'apply': 2, 'dun': 11, 'say': 34, 'early': 12, 'hor': 20, 'already': 0, 'nah': 27, 'think': 37, 'usf': 41, 'live': 25, 'around': 3, 'though': 38} \n",
            "\n",
            "BoW matrix:\n",
            "                       0    1    2         3         4\n",
            "already say      0.00000  0.0  0.0  0.447214  0.000000\n",
            "amore wat        0.27735  0.0  0.0  0.000000  0.000000\n",
            "around though    0.00000  0.0  0.0  0.000000  0.408248\n",
            "available bugis  0.27735  0.0  0.0  0.000000  0.000000\n",
            "buffet cine      0.27735  0.0  0.0  0.000000  0.000000 \n",
            "\n",
            "Bi-gram vector example:\n",
            "go jurong point crazy available bugis n great world la e buffet cine get amore wat\n",
            "[0.        0.2773501 0.        0.2773501 0.2773501 0.2773501 0.2773501\n",
            " 0.        0.2773501 0.        0.        0.        0.        0.\n",
            " 0.        0.        0.        0.        0.2773501 0.2773501 0.\n",
            " 0.2773501 0.        0.        0.2773501 0.2773501 0.        0.\n",
            " 0.        0.        0.        0.2773501 0.        0.        0.\n",
            " 0.        0.        0.        0.        0.        0.        0.\n",
            " 0.        0.        0.        0.2773501] \n",
            "\n"
          ]
        },
        {
          "output_type": "stream",
          "name": "stderr",
          "text": [
            "/usr/local/lib/python3.7/dist-packages/sklearn/utils/deprecation.py:87: FutureWarning: Function get_feature_names is deprecated; get_feature_names is deprecated in 1.0 and will be removed in 1.2. Please use get_feature_names_out instead.\n",
            "  warnings.warn(msg, category=FutureWarning)\n"
          ]
        }
      ]
    },
    {
      "cell_type": "code",
      "source": [
        "test_tfidf_em_3gram, test_tfidf_3gram = TFIDF(test_corpus, ngram=3)\n",
        "print_out(test_tfidf_em_3gram, test_tfidf_3gram, ngram=\"Tri-gram\")"
      ],
      "metadata": {
        "colab": {
          "base_uri": "https://localhost:8080/"
        },
        "id": "umWtvm2buNif",
        "outputId": "d5f5e108-9ede-4728-b1a2-be7b0e521cbc"
      },
      "execution_count": null,
      "outputs": [
        {
          "output_type": "stream",
          "name": "stdout",
          "text": [
            "tf-idf with 41 features\n",
            "Tri-gram bag-of-words: \n",
            "['available bugis great', 'buffet cine get', 'bugis great world', 'cine get amore', 'comp win fa', 'crazy available bugis', 'cup final tkts', 'dun say early', 'early hor already', 'entry questionstd txt', 'entry wkly comp', 'fa cup final', 'fa receive entry', 'final tkts st', 'free entry wkly', 'get amore wat', 'go jurong point', 'go usf live', 'great world la', 'hor already say', 'joking wif oni', 'jurong point crazy', 'la buffet cine', 'lar joking wif', 'live around though', 'may text fa', 'nah think go', 'ok lar joking', 'point crazy available', 'questionstd txt ratetcs', 'receive entry questionstd', 'say early hor', 'st may text', 'text fa receive', 'think go usf', 'tkts st may', 'txt ratetcs apply', 'usf live around', 'win fa cup', 'wkly comp win', 'world la buffet'] \n",
            "\n",
            "Tri-gram bag-of-feature: \n",
            "{'go': 18, 'jurong': 22, 'point': 30, 'crazy': 9, 'available': 4, 'bugis': 6, 'great': 19, 'world': 46, 'la': 23, 'buffet': 5, 'cine': 7, 'get': 17, 'amore': 1, 'wat': 42, 'ok': 28, 'lar': 24, 'joking': 21, 'wif': 43, 'oni': 29, 'free': 16, 'entry': 13, 'wkly': 45, 'comp': 8, 'win': 44, 'fa': 14, 'cup': 10, 'final': 15, 'tkts': 39, 'st': 35, 'may': 26, 'text': 36, 'receive': 33, 'questionstd': 31, 'txt': 40, 'ratetcs': 32, 'apply': 2, 'dun': 11, 'say': 34, 'early': 12, 'hor': 20, 'already': 0, 'nah': 27, 'think': 37, 'usf': 41, 'live': 25, 'around': 3, 'though': 38} \n",
            "\n",
            "BoW matrix:\n",
            "                              0    1         2    3    4\n",
            "available bugis great  0.288675  0.0  0.000000  0.0  0.0\n",
            "buffet cine get        0.288675  0.0  0.000000  0.0  0.0\n",
            "bugis great world      0.288675  0.0  0.000000  0.0  0.0\n",
            "cine get amore         0.288675  0.0  0.000000  0.0  0.0\n",
            "comp win fa            0.000000  0.0  0.242536  0.0  0.0 \n",
            "\n",
            "Tri-gram vector example:\n",
            "go jurong point crazy available bugis n great world la e buffet cine get amore wat\n",
            "[0.28867513 0.28867513 0.28867513 0.28867513 0.         0.28867513\n",
            " 0.         0.         0.         0.         0.         0.\n",
            " 0.         0.         0.         0.28867513 0.28867513 0.\n",
            " 0.28867513 0.         0.         0.28867513 0.28867513 0.\n",
            " 0.         0.         0.         0.         0.28867513 0.\n",
            " 0.         0.         0.         0.         0.         0.\n",
            " 0.         0.         0.         0.         0.28867513] \n",
            "\n"
          ]
        },
        {
          "output_type": "stream",
          "name": "stderr",
          "text": [
            "/usr/local/lib/python3.7/dist-packages/sklearn/utils/deprecation.py:87: FutureWarning: Function get_feature_names is deprecated; get_feature_names is deprecated in 1.0 and will be removed in 1.2. Please use get_feature_names_out instead.\n",
            "  warnings.warn(msg, category=FutureWarning)\n"
          ]
        }
      ]
    },
    {
      "cell_type": "code",
      "source": [
        "%time \n",
        "\n",
        "# implement into the whole dataset\n",
        "train_df_corpus = train_df[\"lemmatize_text\"].tolist()\n",
        "train_df_tfidf_1gram, tfidf_1gram = TFIDF(train_df_corpus, 1)\n",
        "train_df_tfidf_2gram, tfidf_2gram = TFIDF(train_df_corpus, 2)\n",
        "train_df_tfidf_3gram, tfidf_3gram = TFIDF(train_df_corpus, 3)\n",
        "\n",
        "print(len(train_df_corpus))\n",
        "print(train_df_tfidf_1gram.shape)\n",
        "print(train_df_tfidf_1gram.shape)\n",
        "print(train_df_tfidf_1gram.shape)"
      ],
      "metadata": {
        "colab": {
          "base_uri": "https://localhost:8080/"
        },
        "id": "NRnHfv8vuVgc",
        "outputId": "ed557dfb-113c-4b0f-f5d4-e0f37a74397d"
      },
      "execution_count": null,
      "outputs": [
        {
          "output_type": "stream",
          "name": "stdout",
          "text": [
            "CPU times: user 3 µs, sys: 0 ns, total: 3 µs\n",
            "Wall time: 21.2 µs\n",
            "tf-idf with 7437 features\n",
            "tf-idf with 28343 features\n",
            "tf-idf with 28171 features\n",
            "5572\n",
            "(5572, 7437)\n",
            "(5572, 7437)\n",
            "(5572, 7437)\n"
          ]
        }
      ]
    },
    {
      "cell_type": "code",
      "source": [
        "del train_df_tfidf_1gram, train_df_tfidf_2gram, train_df_tfidf_3gram\n",
        "\n"
      ],
      "metadata": {
        "id": "6Dfs4jfUue8d"
      },
      "execution_count": null,
      "outputs": []
    }
  ],
  "metadata": {
    "colab": {
      "name": "NLP&TF-IDF.ipynb",
      "provenance": [],
      "collapsed_sections": [],
      "authorship_tag": "ABX9TyPCFeVeSmVhHsn67uSlL3sL",
      "include_colab_link": true
    },
    "kernelspec": {
      "display_name": "Python 3",
      "name": "python3"
    },
    "language_info": {
      "name": "python"
    },
    "accelerator": "GPU"
  },
  "nbformat": 4,
  "nbformat_minor": 0
}