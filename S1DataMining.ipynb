{
  "nbformat": 4,
  "nbformat_minor": 0,
  "metadata": {
    "colab": {
      "name": "S1DataMining.ipynb",
      "provenance": [],
      "collapsed_sections": [],
      "authorship_tag": "ABX9TyNO1OXegf5ZVTyO17z7r+dt",
      "include_colab_link": true
    },
    "kernelspec": {
      "name": "python3",
      "display_name": "Python 3"
    },
    "language_info": {
      "name": "python"
    },
    "accelerator": "GPU"
  },
  "cells": [
    {
      "cell_type": "markdown",
      "metadata": {
        "id": "view-in-github",
        "colab_type": "text"
      },
      "source": [
        "<a href=\"https://colab.research.google.com/github/AYOUBSEDDOUKI/AYOUBSEDDOUKI/blob/main/S1DataMining.ipynb\" target=\"_parent\"><img src=\"https://colab.research.google.com/assets/colab-badge.svg\" alt=\"Open In Colab\"/></a>"
      ]
    },
    {
      "cell_type": "code",
      "execution_count": null,
      "metadata": {
        "id": "FCRpw3W94lTu"
      },
      "outputs": [],
      "source": [
        "import pandas as pd"
      ]
    },
    {
      "cell_type": "code",
      "source": [
        ""
      ],
      "metadata": {
        "id": "b2WkZVeA6F-k"
      },
      "execution_count": null,
      "outputs": []
    },
    {
      "cell_type": "code",
      "source": [
        "data = pd.read_csv(\"/content/appartement.csv\",sep=\";\")"
      ],
      "metadata": {
        "id": "6NrwRa9O7YJV"
      },
      "execution_count": null,
      "outputs": []
    },
    {
      "cell_type": "code",
      "source": [
        "X =  data.iloc[:,:2].values"
      ],
      "metadata": {
        "id": "Ss4TSrJL78tX"
      },
      "execution_count": null,
      "outputs": []
    },
    {
      "cell_type": "code",
      "source": [
        "X\n"
      ],
      "metadata": {
        "colab": {
          "base_uri": "https://localhost:8080/"
        },
        "id": "dZSd3SlJ8hYF",
        "outputId": "ee411e45-ccff-49eb-8555-ad1499e75f09"
      },
      "execution_count": null,
      "outputs": [
        {
          "output_type": "execute_result",
          "data": {
            "text/plain": [
              "array([[2.104e+03, 3.000e+00],\n",
              "       [1.600e+03, 3.000e+00],\n",
              "       [2.400e+03, 3.000e+00],\n",
              "       [1.416e+03, 2.000e+00],\n",
              "       [3.000e+03, 4.000e+00],\n",
              "       [1.985e+03, 4.000e+00],\n",
              "       [1.534e+03, 3.000e+00],\n",
              "       [1.427e+03, 3.000e+00],\n",
              "       [1.380e+03, 3.000e+00],\n",
              "       [1.494e+03, 3.000e+00],\n",
              "       [1.940e+03, 4.000e+00],\n",
              "       [2.000e+03, 3.000e+00],\n",
              "       [1.890e+03, 3.000e+00],\n",
              "       [4.478e+03, 5.000e+00],\n",
              "       [1.268e+03, 3.000e+00],\n",
              "       [2.300e+03, 4.000e+00],\n",
              "       [1.320e+03, 2.000e+00],\n",
              "       [1.236e+03, 3.000e+00],\n",
              "       [2.609e+03, 4.000e+00],\n",
              "       [3.031e+03, 4.000e+00],\n",
              "       [1.767e+03, 3.000e+00],\n",
              "       [1.888e+03, 2.000e+00],\n",
              "       [1.604e+03, 3.000e+00],\n",
              "       [1.962e+03, 4.000e+00],\n",
              "       [3.890e+03, 3.000e+00],\n",
              "       [1.100e+03, 3.000e+00],\n",
              "       [1.458e+03, 3.000e+00],\n",
              "       [2.526e+03, 3.000e+00],\n",
              "       [2.200e+03, 3.000e+00],\n",
              "       [2.637e+03, 3.000e+00],\n",
              "       [1.839e+03, 2.000e+00],\n",
              "       [1.000e+03, 1.000e+00],\n",
              "       [2.040e+03, 4.000e+00],\n",
              "       [3.137e+03, 3.000e+00],\n",
              "       [1.811e+03, 4.000e+00],\n",
              "       [1.437e+03, 3.000e+00],\n",
              "       [1.239e+03, 3.000e+00],\n",
              "       [2.132e+03, 4.000e+00],\n",
              "       [4.215e+03, 4.000e+00],\n",
              "       [2.162e+03, 4.000e+00]])"
            ]
          },
          "metadata": {},
          "execution_count": 81
        }
      ]
    },
    {
      "cell_type": "markdown",
      "source": [
        "# Nouvelle section"
      ],
      "metadata": {
        "id": "X4_cBcYSZcNX"
      }
    },
    {
      "cell_type": "code",
      "source": [
        "Y=data.iloc[:,-1].values"
      ],
      "metadata": {
        "id": "rFnAsypb842g"
      },
      "execution_count": null,
      "outputs": []
    },
    {
      "cell_type": "code",
      "source": [
        "Y"
      ],
      "metadata": {
        "colab": {
          "base_uri": "https://localhost:8080/"
        },
        "id": "C5ohbcLJ84-F",
        "outputId": "0541cb7c-ee57-4be3-898d-4ff74d4717f4"
      },
      "execution_count": null,
      "outputs": [
        {
          "output_type": "execute_result",
          "data": {
            "text/plain": [
              "array([399900., 329900., 369000., 232000., 539900., 299900., 314900.,\n",
              "       198999., 212000., 242500., 239999., 347000., 329999., 699900.,\n",
              "       259900., 449900., 299900., 199900., 499998., 599000., 252900.,\n",
              "       255000., 242900., 259900., 573900., 249900., 464500., 469000.,\n",
              "       475000., 299900., 349900., 169900., 314900., 579900., 285900.,\n",
              "       249900., 229900., 345000., 549000., 287000.])"
            ]
          },
          "metadata": {},
          "execution_count": 83
        }
      ]
    },
    {
      "cell_type": "code",
      "source": [
        "#brodcasting\n",
        "import numpy as np\n",
        "X = (X-np.mean(X))/np.std(X)\n",
        "Y = (Y-np.mean(Y))/np.std(Y)"
      ],
      "metadata": {
        "id": "-oxm_NMK-PIV"
      },
      "execution_count": null,
      "outputs": []
    },
    {
      "cell_type": "code",
      "source": [
        "Y"
      ],
      "metadata": {
        "colab": {
          "base_uri": "https://localhost:8080/"
        },
        "id": "nk-vGtsg-PUU",
        "outputId": "5617f213-cc36-4a1c-97dd-f46a891458bb"
      },
      "execution_count": null,
      "outputs": [
        {
          "output_type": "execute_result",
          "data": {
            "text/plain": [
              "array([ 0.39009522, -0.14868243,  0.15226337, -0.90220145,  1.46765052,\n",
              "       -0.37958713, -0.26413478, -1.15620433, -1.05613792, -0.8213848 ,\n",
              "       -0.84063456, -0.01706674, -0.14792044,  2.69914229, -0.68746007,\n",
              "        0.7749364 , -0.37958713, -1.14926949,  1.16053186,  1.92253279,\n",
              "       -0.74133784, -0.72517451, -0.81830608, -0.68746007,  1.72934252,\n",
              "       -0.76442831,  0.88731002,  0.92194573,  0.96812667, -0.37958713,\n",
              "        0.00525404, -1.38017419, -0.26413478,  1.77552346, -0.48734266,\n",
              "       -0.76442831, -0.91836478, -0.03246039,  1.53769161, -0.47887616])"
            ]
          },
          "metadata": {},
          "execution_count": 85
        }
      ]
    },
    {
      "cell_type": "code",
      "source": [
        "X"
      ],
      "metadata": {
        "colab": {
          "base_uri": "https://localhost:8080/"
        },
        "id": "HSQW5yCB-qb8",
        "outputId": "e18fa303-ee8b-4b56-a082-b532cbe5695a"
      },
      "execution_count": null,
      "outputs": [
        {
          "output_type": "execute_result",
          "data": {
            "text/plain": [
              "array([[ 0.91180311, -0.87572916],\n",
              "       [ 0.48299956, -0.87572916],\n",
              "       [ 1.16364012, -0.87572916],\n",
              "       [ 0.32645223, -0.87657996],\n",
              "       [ 1.67412054, -0.87487836],\n",
              "       [ 0.81055783, -0.87487836],\n",
              "       [ 0.42684671, -0.87572916],\n",
              "       [ 0.33581104, -0.87572916],\n",
              "       [ 0.2958234 , -0.87572916],\n",
              "       [ 0.39281468, -0.87572916],\n",
              "       [ 0.7722718 , -0.87487836],\n",
              "       [ 0.82331984, -0.87572916],\n",
              "       [ 0.72973176, -0.87572916],\n",
              "       [ 2.93160397, -0.87402756],\n",
              "       [ 0.20053373, -0.87572916],\n",
              "       [ 1.07856005, -0.87487836],\n",
              "       [ 0.24477536, -0.87657996],\n",
              "       [ 0.1733081 , -0.87572916],\n",
              "       [ 1.34145746, -0.87487836],\n",
              "       [ 1.70049536, -0.87487836],\n",
              "       [ 0.62508327, -0.87572916],\n",
              "       [ 0.72803016, -0.87657996],\n",
              "       [ 0.48640276, -0.87572916],\n",
              "       [ 0.79098941, -0.87487836],\n",
              "       [ 2.43133316, -0.87572916],\n",
              "       [ 0.05759921, -0.87572916],\n",
              "       [ 0.36218586, -0.87572916],\n",
              "       [ 1.27084101, -0.87572916],\n",
              "       [ 0.99347998, -0.87572916],\n",
              "       [ 1.36527988, -0.87572916],\n",
              "       [ 0.68634093, -0.87657996],\n",
              "       [-0.02748086, -0.87743076],\n",
              "       [ 0.85735187, -0.87487836],\n",
              "       [ 1.79068023, -0.87572916],\n",
              "       [ 0.66251851, -0.87487836],\n",
              "       [ 0.34431904, -0.87572916],\n",
              "       [ 0.1758605 , -0.87572916],\n",
              "       [ 0.93562553, -0.87487836],\n",
              "       [ 2.70784339, -0.87487836],\n",
              "       [ 0.96114955, -0.87487836]])"
            ]
          },
          "metadata": {},
          "execution_count": 86
        }
      ]
    },
    {
      "cell_type": "code",
      "source": [
        "#la normalisation x-min/max-min\n",
        "from sklearn.preprocessing import StandardScaler as Sc\n",
        "sclear=Sc()\n",
        "X = sclear.fit_transform(X)"
      ],
      "metadata": {
        "id": "ABkEZImp9S7C"
      },
      "execution_count": null,
      "outputs": []
    },
    {
      "cell_type": "code",
      "source": [
        "from sklearn.linear_model import LinearRegression as LR\n",
        "regl = LR()\n",
        "regl.fit(X,Y)\n",
        "Ypredict = regl.predict(X)\n",
        "print(\"**********************\")\n",
        "print(Ypredict)"
      ],
      "metadata": {
        "colab": {
          "base_uri": "https://localhost:8080/"
        },
        "id": "9e6je9S99TCm",
        "outputId": "1ac9b735-5abf-4252-ab5d-8772d72c363c"
      },
      "execution_count": null,
      "outputs": [
        {
          "output_type": "stream",
          "name": "stdout",
          "text": [
            "**********************\n",
            "[ 0.0508706  -0.4977681   0.37308697 -0.67557694  1.00374045 -0.10115692\n",
            " -0.56961364 -0.68609051 -0.73725324 -0.6131564  -0.15014252 -0.06234056\n",
            " -0.18208313  2.59015737 -0.85917295  0.24174226 -0.78007955 -0.89400716\n",
            "  0.57811004  1.03748609 -0.3159771  -0.16177245 -0.49341382 -0.126194\n",
            "  1.99505455 -1.04205252 -0.65234487  0.51024665  0.15537321  0.63107779\n",
            " -0.21511232 -1.10593375 -0.04128563  1.17536221 -0.2905679  -0.67520482\n",
            " -0.89074145  0.0588627   2.3263516   0.09151976]\n"
          ]
        }
      ]
    },
    {
      "cell_type": "code",
      "source": [
        "\n",
        "from sklearn.metrics import r2_score as R2\n",
        "r2 = R2(Y,Ypredict)\n",
        "print(\"le R2 :\",r2)\n",
        "n=len(X[:,0])\n",
        "p=len(X[0,:])\n",
        "R2_ajusté = 1 - ((1-r2)*(n-1))/(n-1-p)\n",
        "print(\"le R2 ajusté:\",R2_ajusté)\n",
        "\n",
        "#seul variable explicative\n",
        "#le R2 : 0.7480948204814488\n",
        "#le R2 ajusté: 0.741465736809908\n",
        "\n",
        "#deux valeur explicative\n",
        "#le R2 : 0.7482927592615942\n",
        "#le R2 ajusté: 0.7346869624649236"
      ],
      "metadata": {
        "colab": {
          "base_uri": "https://localhost:8080/"
        },
        "id": "618NS5rcBeqW",
        "outputId": "a189c325-7640-4def-d4c7-09a0cfde1146"
      },
      "execution_count": null,
      "outputs": [
        {
          "output_type": "stream",
          "name": "stdout",
          "text": [
            "le R2 : 0.7482927592615942\n",
            "le R2 ajusté: 0.7346869624649236\n"
          ]
        }
      ]
    },
    {
      "cell_type": "code",
      "source": [
        "import matplotlib.pyplot as plt\n",
        "plt.xlabel(\"Superficie\")\n",
        "plt.ylabel(\"prix\")\n",
        "plt.scatter(X,Y,color=\"green\")\n",
        "plt.plot(X,Ypredict)\n",
        "\n",
        "\n",
        "\n",
        "\n"
      ],
      "metadata": {
        "colab": {
          "base_uri": "https://localhost:8080/",
          "height": 296
        },
        "id": "9Wg6XpjaAgD_",
        "outputId": "b3fba257-3c81-4810-cc2d-6bf4c2f1532b"
      },
      "execution_count": null,
      "outputs": [
        {
          "output_type": "execute_result",
          "data": {
            "text/plain": [
              "[<matplotlib.lines.Line2D at 0x7f976892b190>]"
            ]
          },
          "metadata": {},
          "execution_count": 79
        },
        {
          "output_type": "display_data",
          "data": {
            "text/plain": [
              "<Figure size 432x288 with 1 Axes>"
            ],
            "image/png": "[encoded data removed]"
          },
          "metadata": {
            "needs_background": "light"
          }
        }
      ]
    },
    {
      "cell_type": "code",
      "source": [
        "fig = plt.figure(figsize=(9, 6))\n",
        "# Create 3D container\n",
        "ax = plt.axes(projection = '3d')\n",
        "# Visualize 3D scatter plot\n",
        "ax.scatter3D(X[:,:1], X[:,1:2], Y,color=\"green\")\n",
        "plt.plot(X[:,:1], X[:,1:2], Ypredict,color=\"blue\")\n",
        "# Give labels\n",
        "ax.set_xlabel('Superficier')\n",
        "ax.set_ylabel('Nb_Chambre')\n",
        "ax.set_zlabel('Prix')\n",
        "# Save figure\n",
        "plt.savefig('3d_scatter.png', dpi = 300);"
      ],
      "metadata": {
        "colab": {
          "base_uri": "https://localhost:8080/",
          "height": 357
        },
        "id": "K1eSLth5lQRX",
        "outputId": "b1cc8a03-0542-4527-fef3-ae8c54228155"
      },
      "execution_count": null,
      "outputs": [
        {
          "output_type": "display_data",
          "data": {
            "text/plain": [
              "<Figure size 648x432 with 1 Axes>"
            ],
            "image/png": "[encoded data removed]"
          },
          "metadata": {
            "needs_background": "light"
          }
        }
      ]
    },
    {
      "cell_type": "code",
      "source": [
        "data = pd.read_csv(\"/content/Marketing_Data.csv\",sep=\";\")"
      ],
      "metadata": {
        "id": "I1uEJhj_scKR"
      },
      "execution_count": null,
      "outputs": []
    },
    {
      "cell_type": "code",
      "source": [
        "In = data.iloc[:,:3].values"
      ],
      "metadata": {
        "id": "1wRkY3Uxs9RS"
      },
      "execution_count": null,
      "outputs": []
    }
  ]
}