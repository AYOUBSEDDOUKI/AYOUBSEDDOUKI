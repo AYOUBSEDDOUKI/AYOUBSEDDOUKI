{
  "nbformat": 4,
  "nbformat_minor": 0,
  "metadata": {
    "colab": {
      "name": "RLS.ipynb",
      "private_outputs": true,
      "provenance": [],
      "collapsed_sections": [],
      "include_colab_link": true
    },
    "kernelspec": {
      "name": "python3",
      "display_name": "Python 3"
    },
    "language_info": {
      "name": "python"
    },
    "accelerator": "GPU"
  },
  "cells": [
    {
      "cell_type": "markdown",
      "metadata": {
        "id": "view-in-github",
        "colab_type": "text"
      },
      "source": [
        "<a href=\"https://colab.research.google.com/github/AYOUBSEDDOUKI/AYOUBSEDDOUKI/blob/main/RLS.ipynb\" target=\"_parent\"><img src=\"https://colab.research.google.com/assets/colab-badge.svg\" alt=\"Open In Colab\"/></a>"
      ]
    },
    {
      "cell_type": "code",
      "execution_count": null,
      "metadata": {
        "id": "LX6UbhRAH6nd"
      },
      "outputs": [],
      "source": [
        "import numpy as np\n",
        "import matplotlib.pyplot as plt\n",
        "import pandas as pd"
      ]
    },
    {
      "cell_type": "code",
      "source": [
        "############################################# (regression lineaire simple par la methode de formule mathematique) ######################################"
      ],
      "metadata": {
        "id": "tvUWC6IPzIVs"
      },
      "execution_count": null,
      "outputs": []
    },
    {
      "cell_type": "code",
      "source": [
        "data = pd.read_csv(\"/content/appartement.csv\",sep=\";\")\n",
        "\n",
        "# extraction des donnees pour une simple regression \n",
        "xs =  data.iloc[:,:1].values\n",
        "xs = (xs-np.mean(xs))/np.std(xs)\n",
        "\n",
        "# extraction des donnees pour une regression multiple\n",
        "x1 =  data.iloc[:,:1].values\n",
        "x1 = (x1-np.mean(x1))/np.std(x1)\n",
        "x2 =  data.iloc[:,1:2].values\n",
        "x2 = (x2-np.mean(x2))/np.std(x2)\n",
        "\n",
        "x  =  np.hstack((x1,x2))\n",
        "\n",
        "y =  data.iloc[:,2:3].values\n",
        "y = (y-np.mean(y))/np.std(y)\n",
        "\n",
        "\n"
      ],
      "metadata": {
        "id": "9PZrhHaYIWN3"
      },
      "execution_count": null,
      "outputs": []
    },
    {
      "cell_type": "code",
      "source": [
        "plt.scatter(xs, y) # afficher les résultats. X en abscisse et y en ordonnée"
      ],
      "metadata": {
        "id": "WnUYPcaxTVrU"
      },
      "execution_count": null,
      "outputs": []
    },
    {
      "cell_type": "code",
      "source": [
        "Xmoy = np.mean(xs)\n",
        "Ymoy = np.mean(y)\n",
        "\n",
        "w1 = np.sum((xs-Xmoy)*(y-Ymoy))/np.sum((xs-Xmoy)**2)\n",
        "w0 = Ymoy - w1*Xmoy\n",
        "\n",
        "print(\"la valeur de w1 = {} et w0 = {}\".format(w1,w0))\n",
        "\n",
        "print(\"****************************************************************************************\")\n",
        "Y_predit1 = w0 + w1*xs\n"
      ],
      "metadata": {
        "id": "1NRUK4iHUg7S"
      },
      "execution_count": null,
      "outputs": []
    },
    {
      "cell_type": "code",
      "source": [
        "x_copy = xs\n",
        "xs = np.c_[xs,np.ones(xs.shape[0])]\n",
        "xs"
      ],
      "metadata": {
        "id": "oD9B99IfrCcq"
      },
      "execution_count": null,
      "outputs": []
    },
    {
      "cell_type": "code",
      "source": [
        "W = [[w1],[w0]]\n",
        "print(W)\n",
        "predict = xs.dot(W)\n",
        "predict"
      ],
      "metadata": {
        "id": "DxBP8eDIv8dd"
      },
      "execution_count": null,
      "outputs": []
    },
    {
      "cell_type": "code",
      "source": [
        "print(xs.shape)\n",
        "print(y.shape)\n",
        "plt.scatter(x_copy,y)\n",
        "plt.plot(x_copy,predict, c='r')"
      ],
      "metadata": {
        "id": "1mNdt7UMrL-G"
      },
      "execution_count": null,
      "outputs": []
    },
    {
      "cell_type": "code",
      "source": [
        "def coef_determination(Y, p):\n",
        "    SCR = ((Y - p)**2).sum()\n",
        "    SCT = ((Y - Y.mean())**2).sum()\n",
        "    return (1 - SCR/SCT)\n",
        "R2=coef_determination(y,predict)\n",
        "print(\"R2: \",R2)\n"
      ],
      "metadata": {
        "id": "ygOJv9A21xDV"
      },
      "execution_count": null,
      "outputs": []
    },
    {
      "cell_type": "code",
      "source": [
        "def R2_ajuster(n,p,R2):\n",
        "    return 1-((n-1)/(n-1-p))*(1-R2)\n",
        "RA2=R2_ajuster(40,2,R2)\n",
        "print(\"RA2: \",RA2)"
      ],
      "metadata": {
        "id": "WSFUjSOS1P6e"
      },
      "execution_count": null,
      "outputs": []
    },
    {
      "cell_type": "code",
      "source": [
        "from sklearn.metrics import r2_score as R2\n",
        "r2SM = R2(y,predict)\n",
        "print(\"le R2 :\",r2SM)\n",
        "n=len(xs[:,0])\n",
        "p=len(xs[0,:])\n",
        "R2_ajusté = 1 - ((1-r2SM)*(n-1))/(n-1-p)\n",
        "print(\"le R2 ajusté:\",R2_ajusté)"
      ],
      "metadata": {
        "id": "Ml8JoE9wLM__"
      },
      "execution_count": null,
      "outputs": []
    },
    {
      "cell_type": "code",
      "source": [
        "################################################ (regression linéaire simple par la methode de descent de gradient) ##############################################"
      ],
      "metadata": {
        "id": "CxweUiL3yzUu"
      },
      "execution_count": null,
      "outputs": []
    },
    {
      "cell_type": "code",
      "source": [
        "# le modèle linéaire\n",
        "def model(X, theta):\n",
        "    return X.dot(theta)\n",
        "\n",
        "# la fonction d'erreur    \n",
        "def cost_function(X, y, theta):\n",
        "    return np.sum((model(X, theta) - y)**2)\n",
        "\n",
        "# la fonction du gradient\n",
        "def grad(X, y, theta):\n",
        "    return X.T.dot(model(X, theta) - y)\n",
        "\n",
        "#la fonction de descent du gradie;t\n",
        "def gradient_descent(X, y, theta, learning_rate, n_iterations):\n",
        "    \n",
        "    cost_history = np.zeros(n_iterations) # création d'un tableau de stockage pour enregistrer l'évolution du Cout du modele\n",
        "    \n",
        "    for i in range(0, n_iterations):\n",
        "        theta = theta - learning_rate * grad(X, y, theta) # mise a jour du parametre theta (formule du gradient descent)\n",
        "        cost_history[i] = cost_function(X, y, theta) # on enregistre la valeur du Cout au tour i dans cost_history[i]\n",
        "        \n",
        "    return theta, cost_history"
      ],
      "metadata": {
        "id": "WF43RHA2zW05"
      },
      "execution_count": null,
      "outputs": []
    },
    {
      "cell_type": "code",
      "source": [
        "# pour produire toujours le meme vecteur theta aléatoire\n",
        "np.random.seed(0)\n",
        "theta = np.random.randn(2, 1)\n",
        "theta"
      ],
      "metadata": {
        "id": "JXgzdAy9zXC3"
      },
      "execution_count": null,
      "outputs": []
    },
    {
      "cell_type": "code",
      "source": [
        "# determiner le taux d'apprentissage et le nombre d'etiration \n",
        "n_iterations = 1000\n",
        "learning_rate = 0.01\n",
        "\n",
        "theta_final, cost_history = gradient_descent(xs, y, theta, learning_rate, n_iterations)"
      ],
      "metadata": {
        "id": "TwzFVZjazXJk"
      },
      "execution_count": null,
      "outputs": []
    },
    {
      "cell_type": "code",
      "source": [
        "theta_final"
      ],
      "metadata": {
        "id": "iEcoyXD7zXPy"
      },
      "execution_count": null,
      "outputs": []
    },
    {
      "cell_type": "code",
      "source": [
        "predictD = xs.dot(theta_final)"
      ],
      "metadata": {
        "id": "16HppDnT1Nuc"
      },
      "execution_count": null,
      "outputs": []
    },
    {
      "cell_type": "code",
      "source": [
        "print(xs.shape)\n",
        "print(y.shape)\n",
        "plt.scatter(x_copy,y)\n",
        "plt.plot(x_copy,predictD, c='r')"
      ],
      "metadata": {
        "id": "5HSObVT31N36"
      },
      "execution_count": null,
      "outputs": []
    },
    {
      "cell_type": "code",
      "source": [
        "# l'evaluation du model \n",
        "R2D=coef_determination(y,predictD)\n",
        "print(\"R2D: \",R2D)"
      ],
      "metadata": {
        "id": "L938YG_b1drK"
      },
      "execution_count": null,
      "outputs": []
    },
    {
      "cell_type": "code",
      "source": [
        "R2AD=R2_ajuster(40,2,R2D)\n",
        "print(\"R2AD: \",R2AD)"
      ],
      "metadata": {
        "id": "I1C1BFsQ1d4J"
      },
      "execution_count": null,
      "outputs": []
    },
    {
      "cell_type": "code",
      "source": [
        "from sklearn.metrics import r2_score as R2\n",
        "r2SD = R2(y,predictD)\n",
        "print(\"le R2 :\",r2SD)\n",
        "n=len(xs[:,0])\n",
        "p=len(xs[0,:])\n",
        "R2_ajusté = 1 - ((1-r2SD)*(n-1))/(n-1-p)\n",
        "print(\"le R2 ajusté:\",R2_ajusté)"
      ],
      "metadata": {
        "id": "AZWkIADeMWMJ"
      },
      "execution_count": null,
      "outputs": []
    },
    {
      "cell_type": "code",
      "source": [
        "################################################ (regression linéaire multiple par la methode de formul mathematique) ##########################################"
      ],
      "metadata": {
        "id": "w0QfQSOL2F4E"
      },
      "execution_count": null,
      "outputs": []
    },
    {
      "cell_type": "markdown",
      "source": [
        "# Nouvelle section"
      ],
      "metadata": {
        "id": "zYtsXKz_6E6e"
      }
    },
    {
      "cell_type": "code",
      "source": [
        "print(x.shape)\n",
        "print(y.shape)\n",
        "\n",
        "# redimensionner y\n",
        "y = y.reshape(y.shape[0], 1)\n",
        "\n",
        "print(y.shape)"
      ],
      "metadata": {
        "id": "Skvccu58hGe2"
      },
      "execution_count": null,
      "outputs": []
    },
    {
      "cell_type": "code",
      "source": [
        "one = np.ones(y.shape)\n",
        "X = np.hstack((x,one))\n",
        "print(X.shape)"
      ],
      "metadata": {
        "id": "Z-bmw0YBIpho"
      },
      "execution_count": null,
      "outputs": []
    },
    {
      "cell_type": "code",
      "source": [
        "# la formule mathematique:\n",
        "Q1 = (X.T.dot(X))\n",
        "Q2 = X.T.dot(y)\n",
        "Q3 = np.linalg.inv(Q1)\n",
        "# determiner la matrice W\n",
        "WM = Q3.dot(Q2)"
      ],
      "metadata": {
        "id": "HjCzjBXwPa80"
      },
      "execution_count": null,
      "outputs": []
    },
    {
      "cell_type": "code",
      "source": [
        "WM"
      ],
      "metadata": {
        "id": "HQWGIJlyQkFh"
      },
      "execution_count": null,
      "outputs": []
    },
    {
      "cell_type": "code",
      "source": [
        "predictM = X.dot(WM)"
      ],
      "metadata": {
        "id": "IVCDyswh2kkP"
      },
      "execution_count": null,
      "outputs": []
    },
    {
      "cell_type": "code",
      "source": [
        "from matplotlib import cm\n",
        "fig = plt.figure(figsize=(9, 6))\n",
        "# Create 3D container\n",
        "ax = plt.axes(projection = '3d')\n",
        "# Visualize 3D scatter plot\n",
        "ax.scatter3D(X[:,0:1],X[:,1:2],y)\n",
        "ax.scatter3D(X[:,0:1],X[:,1:2],predictM)\n",
        "# Give labels\n",
        "ax.set_xlabel('Superficier')\n",
        "ax.set_ylabel('Nb_Chambre')\n",
        "ax.set_zlabel('Prix')\n",
        "# Save figure\n",
        "plt.savefig('3d_scatter.png', dpi = 300);"
      ],
      "metadata": {
        "id": "wH9z9dbR2k6F"
      },
      "execution_count": null,
      "outputs": []
    },
    {
      "cell_type": "code",
      "source": [
        "R2M=coef_determination(y,predictM)\n",
        "print(\"R2M : \",R2M)\n",
        "\n",
        "R2AM=R2_ajuster(40,3,R2M)\n",
        "print(\"R2AM : \",R2AM)"
      ],
      "metadata": {
        "id": "vLKiv9ENGf24"
      },
      "execution_count": null,
      "outputs": []
    },
    {
      "cell_type": "code",
      "source": [
        "from sklearn.metrics import r2_score as R2\n",
        "r2 = R2(y,predictM)\n",
        "print(\"le R2 :\",r2)\n",
        "n=len(X[:,0])\n",
        "p=len(X[0,:])\n",
        "R2_ajusté = 1 - ((1-r2)*(n-1))/(n-1-p)\n",
        "print(\"le R2 ajusté:\",R2_ajusté)"
      ],
      "metadata": {
        "id": "fc9_4tLGIlkj"
      },
      "execution_count": null,
      "outputs": []
    },
    {
      "cell_type": "code",
      "source": [
        "############################################## (regression linéaire multiple par la methode de descent de gradient) ###########################################"
      ],
      "metadata": {
        "id": "f-6UOsKHJ5N-"
      },
      "execution_count": null,
      "outputs": []
    },
    {
      "cell_type": "code",
      "source": [
        "\n",
        "np.random.seed(0) # pour produire toujours le meme vecteur theta aléatoire\n",
        "theta = np.random.randn(3, 1)\n",
        "theta"
      ],
      "metadata": {
        "id": "J2brDRo2Ips7"
      },
      "execution_count": null,
      "outputs": []
    },
    {
      "cell_type": "code",
      "source": [
        "def model(X, theta):\n",
        "    return X.dot(theta)"
      ],
      "metadata": {
        "id": "wAJDuOUqJd4t"
      },
      "execution_count": null,
      "outputs": []
    },
    {
      "cell_type": "code",
      "source": [
        "def cost_function(X, y, theta):\n",
        "    return np.sum((model(X, theta) - y)**2)"
      ],
      "metadata": {
        "id": "Ndlf149PJ0xx"
      },
      "execution_count": null,
      "outputs": []
    },
    {
      "cell_type": "code",
      "source": [
        "def grad(X, y, theta):\n",
        "    return X.T.dot(model(X, theta) - y)"
      ],
      "metadata": {
        "id": "ZT88t_pNKVXi"
      },
      "execution_count": null,
      "outputs": []
    },
    {
      "cell_type": "code",
      "source": [
        "def gradient_descent(X, y, theta, learning_rate, n_iterations):\n",
        "    \n",
        "    cost_history = np.zeros(n_iterations) # création d'un tableau de stockage pour enregistrer l'évolution du Cout du modele\n",
        "    \n",
        "    for i in range(0, n_iterations):\n",
        "        theta = theta - learning_rate * grad(X, y, theta) # mise a jour du parametre theta (formule du gradient descent)\n",
        "        cost_history[i] = cost_function(X, y, theta) # on enregistre la valeur du Cout au tour i dans cost_history[i]\n",
        "        \n",
        "    return theta, cost_history"
      ],
      "metadata": {
        "id": "BzoAXDtHKVe-"
      },
      "execution_count": null,
      "outputs": []
    },
    {
      "cell_type": "code",
      "source": [
        "n_iterations = 1000\n",
        "learning_rate = 0.01\n",
        "\n",
        "\n",
        "theta_final, cost_history = gradient_descent(X, y, theta, learning_rate, n_iterations)"
      ],
      "metadata": {
        "id": "Eb3iiPstKVlx"
      },
      "execution_count": null,
      "outputs": []
    },
    {
      "cell_type": "code",
      "source": [
        "theta_final"
      ],
      "metadata": {
        "id": "96tH-6flML84"
      },
      "execution_count": null,
      "outputs": []
    },
    {
      "cell_type": "code",
      "source": [
        "# création d'un vecteur prédictions qui contient les prédictions de notre modele final\n",
        "predictions = model(X, theta_final)\n",
        "print(predictions)"
      ],
      "metadata": {
        "id": "t8IHie5gMMHH"
      },
      "execution_count": null,
      "outputs": []
    },
    {
      "cell_type": "code",
      "source": [
        "R2MD=coef_determination(y,predictions)\n",
        "print(\"R2MD: \",R2MD)\n",
        "\n",
        "R2AM=R2_ajuster(40,3,R2MD)\n",
        "print(\"R2AMD: \",R2AM)"
      ],
      "metadata": {
        "id": "Y7v13DJlMqLP"
      },
      "execution_count": null,
      "outputs": []
    },
    {
      "cell_type": "markdown",
      "source": [
        ""
      ],
      "metadata": {
        "id": "M455R6humrf4"
      }
    },
    {
      "cell_type": "code",
      "source": [
        "from sklearn.metrics import r2_score as R2\n",
        "r2 = R2(y,predictions)\n",
        "print(\"le R2 :\",r2)\n",
        "n=len(X[:,0])\n",
        "p=len(X[0,:])\n",
        "R2_ajusté = 1 - ((1-r2)*(n-1))/(n-1-p)\n",
        "print(\"le R2 ajusté:\",R2_ajusté)\n"
      ],
      "metadata": {
        "id": "jD5KMieFb4KH"
      },
      "execution_count": null,
      "outputs": []
    },
    {
      "cell_type": "code",
      "source": [
        "from matplotlib import cm\n",
        "fig = plt.figure(figsize=(9, 6))\n",
        "# Create 3D container\n",
        "ax = plt.axes(projection = '3d')\n",
        "# Visualize 3D scatter plot\n",
        "ax.scatter3D(X[:,0:1],X[:,1:2],y)\n",
        "ax.scatter3D(X[:,0:1],X[:,1:2],predictions)\n",
        "# Give labels\n",
        "ax.set_xlabel('Superficier')\n",
        "ax.set_ylabel('Nb_Chambre')\n",
        "ax.set_zlabel('Prix')\n",
        "# Save figure\n",
        "plt.savefig('3d_scatter.png', dpi = 300);"
      ],
      "metadata": {
        "id": "fYN93k2mSvFn"
      },
      "execution_count": null,
      "outputs": []
    },
    {
      "cell_type": "code",
      "source": [
        ""
      ],
      "metadata": {
        "id": "7ciQsDExV2U-"
      },
      "execution_count": null,
      "outputs": []
    }
  ]
}